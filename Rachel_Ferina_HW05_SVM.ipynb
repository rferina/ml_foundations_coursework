{
  "nbformat": 4,
  "nbformat_minor": 0,
  "metadata": {
    "colab": {
      "provenance": [],
      "authorship_tag": "ABX9TyN9WrjttYFD60lNr5rDoWF5",
      "include_colab_link": true
    },
    "kernelspec": {
      "name": "python3",
      "display_name": "Python 3"
    },
    "language_info": {
      "name": "python"
    }
  },
  "cells": [
    {
      "cell_type": "markdown",
      "metadata": {
        "id": "view-in-github",
        "colab_type": "text"
      },
      "source": [
        "<a href=\"https://colab.research.google.com/github/rferina/ml_foundations_coursework/blob/main/Rachel_Ferina_HW05_SVM.ipynb\" target=\"_parent\"><img src=\"https://colab.research.google.com/assets/colab-badge.svg\" alt=\"Open In Colab\"/></a>"
      ]
    },
    {
      "cell_type": "markdown",
      "source": [
        "Part 1: Data Ingestion"
      ],
      "metadata": {
        "id": "OwLHpIIZC2VP"
      }
    },
    {
      "cell_type": "code",
      "source": [
        "# Mounting the drive\n",
        "import os\n",
        "from google.colab import drive\n",
        "\n",
        "\n",
        "mount_point = '/content/drive'\n",
        "drive.mount(mount_point)\n",
        "\n",
        "drive_dir = os.path.join(mount_point, \"MyDrive\")\n",
        "drive_dir"
      ],
      "metadata": {
        "colab": {
          "base_uri": "https://localhost:8080/",
          "height": 53
        },
        "id": "kNk7KqbJD06D",
        "outputId": "fafd0177-1a81-49dc-e04f-50060d4ec26c"
      },
      "execution_count": null,
      "outputs": [
        {
          "output_type": "stream",
          "name": "stdout",
          "text": [
            "Mounted at /content/drive\n"
          ]
        },
        {
          "output_type": "execute_result",
          "data": {
            "text/plain": [
              "'/content/drive/MyDrive'"
            ],
            "application/vnd.google.colaboratory.intrinsic+json": {
              "type": "string"
            }
          },
          "metadata": {},
          "execution_count": 2
        }
      ]
    },
    {
      "cell_type": "code",
      "source": [
        "# Imports\n",
        "import pandas as pd\n",
        "import numpy as np\n",
        "import seaborn as sns\n",
        "import matplotlib.pyplot as plt\n",
        "from sklearn.metrics import confusion_matrix, accuracy_score\n",
        "from sklearn.model_selection import train_test_split\n",
        "from sklearn.model_selection import StratifiedShuffleSplit\n",
        "from sklearn.model_selection import StratifiedKFold\n",
        "from sklearn.metrics import f1_score\n",
        "from sklearn import svm\n",
        "from sklearn.preprocessing import MinMaxScaler\n",
        "from sklearn.preprocessing import StandardScaler\n",
        "from sklearn.svm import SVC\n"
      ],
      "metadata": {
        "id": "Lo_ZPdL9D03s"
      },
      "execution_count": null,
      "outputs": []
    },
    {
      "cell_type": "code",
      "source": [
        "# Loading the dataset\n",
        "dataset_file = \"cell_samples_filtered.csv\"\n",
        "cell_df = pd.read_csv(os.path.join(drive_dir, dataset_file))\n",
        "cell_df.columns"
      ],
      "metadata": {
        "colab": {
          "base_uri": "https://localhost:8080/"
        },
        "id": "ghQOZHXpD01g",
        "outputId": "740ecf8e-be67-40a5-829c-e561271d105a"
      },
      "execution_count": null,
      "outputs": [
        {
          "output_type": "execute_result",
          "data": {
            "text/plain": [
              "Index(['clump_thickness', 'size_uniformity', 'shape_uniformity',\n",
              "       'margin_adhesion', 'single_epi_size', 'bare_nuclei', 'bland_chromatin',\n",
              "       'normal_nucleoli', 'mitoses', 'label'],\n",
              "      dtype='object')"
            ]
          },
          "metadata": {},
          "execution_count": 4
        }
      ]
    },
    {
      "cell_type": "code",
      "source": [
        "cell_df.head()"
      ],
      "metadata": {
        "colab": {
          "base_uri": "https://localhost:8080/",
          "height": 206
        },
        "id": "4cTsRTIsD0zh",
        "outputId": "ca4439f9-eb7d-4271-d876-c4a3d1f26cd6"
      },
      "execution_count": null,
      "outputs": [
        {
          "output_type": "execute_result",
          "data": {
            "text/plain": [
              "   clump_thickness  size_uniformity  shape_uniformity  margin_adhesion  \\\n",
              "0         5.081386         1.133867          1.439054         0.859936   \n",
              "1         4.984307         4.247120          3.835201         4.705714   \n",
              "2         3.510384         0.837297          1.090767         0.501552   \n",
              "3         6.072504         7.447277          7.831365         1.425801   \n",
              "4         4.293832         1.375265          0.571756         3.012504   \n",
              "\n",
              "   single_epi_size  bare_nuclei  bland_chromatin  normal_nucleoli   mitoses  \\\n",
              "0         2.239671     1.121287         2.522365         0.884865  1.298166   \n",
              "1         7.162745    10.063937         2.702325         1.925142  0.943395   \n",
              "2         2.178225     2.082248         3.079598         0.486168  0.282946   \n",
              "3         3.290563     3.580416         2.999943         6.849757  0.908079   \n",
              "4         2.287105     1.033410         2.533865         0.830294  0.903499   \n",
              "\n",
              "   label  \n",
              "0      0  \n",
              "1      0  \n",
              "2      0  \n",
              "3      0  \n",
              "4      0  "
            ],
            "text/html": [
              "\n",
              "  <div id=\"df-4b6a94db-2c18-43d6-9987-379199e8d6ad\">\n",
              "    <div class=\"colab-df-container\">\n",
              "      <div>\n",
              "<style scoped>\n",
              "    .dataframe tbody tr th:only-of-type {\n",
              "        vertical-align: middle;\n",
              "    }\n",
              "\n",
              "    .dataframe tbody tr th {\n",
              "        vertical-align: top;\n",
              "    }\n",
              "\n",
              "    .dataframe thead th {\n",
              "        text-align: right;\n",
              "    }\n",
              "</style>\n",
              "<table border=\"1\" class=\"dataframe\">\n",
              "  <thead>\n",
              "    <tr style=\"text-align: right;\">\n",
              "      <th></th>\n",
              "      <th>clump_thickness</th>\n",
              "      <th>size_uniformity</th>\n",
              "      <th>shape_uniformity</th>\n",
              "      <th>margin_adhesion</th>\n",
              "      <th>single_epi_size</th>\n",
              "      <th>bare_nuclei</th>\n",
              "      <th>bland_chromatin</th>\n",
              "      <th>normal_nucleoli</th>\n",
              "      <th>mitoses</th>\n",
              "      <th>label</th>\n",
              "    </tr>\n",
              "  </thead>\n",
              "  <tbody>\n",
              "    <tr>\n",
              "      <th>0</th>\n",
              "      <td>5.081386</td>\n",
              "      <td>1.133867</td>\n",
              "      <td>1.439054</td>\n",
              "      <td>0.859936</td>\n",
              "      <td>2.239671</td>\n",
              "      <td>1.121287</td>\n",
              "      <td>2.522365</td>\n",
              "      <td>0.884865</td>\n",
              "      <td>1.298166</td>\n",
              "      <td>0</td>\n",
              "    </tr>\n",
              "    <tr>\n",
              "      <th>1</th>\n",
              "      <td>4.984307</td>\n",
              "      <td>4.247120</td>\n",
              "      <td>3.835201</td>\n",
              "      <td>4.705714</td>\n",
              "      <td>7.162745</td>\n",
              "      <td>10.063937</td>\n",
              "      <td>2.702325</td>\n",
              "      <td>1.925142</td>\n",
              "      <td>0.943395</td>\n",
              "      <td>0</td>\n",
              "    </tr>\n",
              "    <tr>\n",
              "      <th>2</th>\n",
              "      <td>3.510384</td>\n",
              "      <td>0.837297</td>\n",
              "      <td>1.090767</td>\n",
              "      <td>0.501552</td>\n",
              "      <td>2.178225</td>\n",
              "      <td>2.082248</td>\n",
              "      <td>3.079598</td>\n",
              "      <td>0.486168</td>\n",
              "      <td>0.282946</td>\n",
              "      <td>0</td>\n",
              "    </tr>\n",
              "    <tr>\n",
              "      <th>3</th>\n",
              "      <td>6.072504</td>\n",
              "      <td>7.447277</td>\n",
              "      <td>7.831365</td>\n",
              "      <td>1.425801</td>\n",
              "      <td>3.290563</td>\n",
              "      <td>3.580416</td>\n",
              "      <td>2.999943</td>\n",
              "      <td>6.849757</td>\n",
              "      <td>0.908079</td>\n",
              "      <td>0</td>\n",
              "    </tr>\n",
              "    <tr>\n",
              "      <th>4</th>\n",
              "      <td>4.293832</td>\n",
              "      <td>1.375265</td>\n",
              "      <td>0.571756</td>\n",
              "      <td>3.012504</td>\n",
              "      <td>2.287105</td>\n",
              "      <td>1.033410</td>\n",
              "      <td>2.533865</td>\n",
              "      <td>0.830294</td>\n",
              "      <td>0.903499</td>\n",
              "      <td>0</td>\n",
              "    </tr>\n",
              "  </tbody>\n",
              "</table>\n",
              "</div>\n",
              "      <button class=\"colab-df-convert\" onclick=\"convertToInteractive('df-4b6a94db-2c18-43d6-9987-379199e8d6ad')\"\n",
              "              title=\"Convert this dataframe to an interactive table.\"\n",
              "              style=\"display:none;\">\n",
              "        \n",
              "  <svg xmlns=\"http://www.w3.org/2000/svg\" height=\"24px\"viewBox=\"0 0 24 24\"\n",
              "       width=\"24px\">\n",
              "    <path d=\"M0 0h24v24H0V0z\" fill=\"none\"/>\n",
              "    <path d=\"M18.56 5.44l.94 2.06.94-2.06 2.06-.94-2.06-.94-.94-2.06-.94 2.06-2.06.94zm-11 1L8.5 8.5l.94-2.06 2.06-.94-2.06-.94L8.5 2.5l-.94 2.06-2.06.94zm10 10l.94 2.06.94-2.06 2.06-.94-2.06-.94-.94-2.06-.94 2.06-2.06.94z\"/><path d=\"M17.41 7.96l-1.37-1.37c-.4-.4-.92-.59-1.43-.59-.52 0-1.04.2-1.43.59L10.3 9.45l-7.72 7.72c-.78.78-.78 2.05 0 2.83L4 21.41c.39.39.9.59 1.41.59.51 0 1.02-.2 1.41-.59l7.78-7.78 2.81-2.81c.8-.78.8-2.07 0-2.86zM5.41 20L4 18.59l7.72-7.72 1.47 1.35L5.41 20z\"/>\n",
              "  </svg>\n",
              "      </button>\n",
              "      \n",
              "  <style>\n",
              "    .colab-df-container {\n",
              "      display:flex;\n",
              "      flex-wrap:wrap;\n",
              "      gap: 12px;\n",
              "    }\n",
              "\n",
              "    .colab-df-convert {\n",
              "      background-color: #E8F0FE;\n",
              "      border: none;\n",
              "      border-radius: 50%;\n",
              "      cursor: pointer;\n",
              "      display: none;\n",
              "      fill: #1967D2;\n",
              "      height: 32px;\n",
              "      padding: 0 0 0 0;\n",
              "      width: 32px;\n",
              "    }\n",
              "\n",
              "    .colab-df-convert:hover {\n",
              "      background-color: #E2EBFA;\n",
              "      box-shadow: 0px 1px 2px rgba(60, 64, 67, 0.3), 0px 1px 3px 1px rgba(60, 64, 67, 0.15);\n",
              "      fill: #174EA6;\n",
              "    }\n",
              "\n",
              "    [theme=dark] .colab-df-convert {\n",
              "      background-color: #3B4455;\n",
              "      fill: #D2E3FC;\n",
              "    }\n",
              "\n",
              "    [theme=dark] .colab-df-convert:hover {\n",
              "      background-color: #434B5C;\n",
              "      box-shadow: 0px 1px 3px 1px rgba(0, 0, 0, 0.15);\n",
              "      filter: drop-shadow(0px 1px 2px rgba(0, 0, 0, 0.3));\n",
              "      fill: #FFFFFF;\n",
              "    }\n",
              "  </style>\n",
              "\n",
              "      <script>\n",
              "        const buttonEl =\n",
              "          document.querySelector('#df-4b6a94db-2c18-43d6-9987-379199e8d6ad button.colab-df-convert');\n",
              "        buttonEl.style.display =\n",
              "          google.colab.kernel.accessAllowed ? 'block' : 'none';\n",
              "\n",
              "        async function convertToInteractive(key) {\n",
              "          const element = document.querySelector('#df-4b6a94db-2c18-43d6-9987-379199e8d6ad');\n",
              "          const dataTable =\n",
              "            await google.colab.kernel.invokeFunction('convertToInteractive',\n",
              "                                                     [key], {});\n",
              "          if (!dataTable) return;\n",
              "\n",
              "          const docLinkHtml = 'Like what you see? Visit the ' +\n",
              "            '<a target=\"_blank\" href=https://colab.research.google.com/notebooks/data_table.ipynb>data table notebook</a>'\n",
              "            + ' to learn more about interactive tables.';\n",
              "          element.innerHTML = '';\n",
              "          dataTable['output_type'] = 'display_data';\n",
              "          await google.colab.output.renderOutput(dataTable, element);\n",
              "          const docLink = document.createElement('div');\n",
              "          docLink.innerHTML = docLinkHtml;\n",
              "          element.appendChild(docLink);\n",
              "        }\n",
              "      </script>\n",
              "    </div>\n",
              "  </div>\n",
              "  "
            ]
          },
          "metadata": {},
          "execution_count": 5
        }
      ]
    },
    {
      "cell_type": "code",
      "source": [
        "X_raw = cell_df.loc[:, cell_df.columns!='label']\n",
        "X_raw = X_raw.values\n",
        "y = cell_df['label'].values\n"
      ],
      "metadata": {
        "id": "zihqi3ObD0xC"
      },
      "execution_count": null,
      "outputs": []
    },
    {
      "cell_type": "markdown",
      "source": [
        "Part 2: Data Splitting"
      ],
      "metadata": {
        "id": "DSnsfGDnC8oy"
      }
    },
    {
      "cell_type": "code",
      "source": [
        "sss = StratifiedShuffleSplit(n_splits=1, test_size=100, random_state=9)"
      ],
      "metadata": {
        "id": "W7GXl5fCDEc8"
      },
      "execution_count": null,
      "outputs": []
    },
    {
      "cell_type": "code",
      "source": [
        "for dev_idx, tst_idx in sss.split(X_raw, y):\n",
        "    X_dev_raw = X_raw[dev_idx]\n",
        "    y_dev = y[dev_idx]\n",
        "    X_tst_raw = X_raw[tst_idx]\n",
        "    y_tst = y[tst_idx]\n"
      ],
      "metadata": {
        "id": "TyxMF51kDEYv"
      },
      "execution_count": null,
      "outputs": []
    },
    {
      "cell_type": "markdown",
      "source": [
        "Part 3: Model Optimization"
      ],
      "metadata": {
        "id": "4jv30qV7DE6R"
      }
    },
    {
      "cell_type": "code",
      "source": [
        "skf = StratifiedKFold(n_splits=4, shuffle=True, random_state=5)"
      ],
      "metadata": {
        "id": "BTuwXphHFqol"
      },
      "execution_count": null,
      "outputs": []
    },
    {
      "cell_type": "code",
      "source": [
        "# create containers for complete y_dev, and y_hat that will accumulate over folds.\n",
        "# y_hat is our prediction for class label y\n",
        "y_dev_folds = np.array([])\n",
        "y_hat_folds = np.array([])\n",
        "\n",
        "# create holding container for complete F1 over the sampled values of C; and for f1 vs C graph\n",
        "f1_values = {}\n",
        "f1_graph = {}\n",
        "\n",
        "# choose values of C\n",
        "C_values = [0.003, 0.01, 0.03, 0.1, 0.3, 1, 3, 10, 30, 100]\n",
        "\n",
        "# loop over C_values\n",
        "for C_index, C in enumerate(C_values):\n",
        "  # loop over folds\n",
        "  for trn_index, val_index in skf.split(X_dev_raw, y_dev):\n",
        "\n",
        "    # grab train and val data\n",
        "    X_trn_raw = X_dev_raw[trn_index]\n",
        "    X_val_raw = X_dev_raw[val_index]\n",
        "    y_trn = y_dev[trn_index]\n",
        "    # rename to y__dev to avoid shape error\n",
        "    y__dev = y_dev[val_index]\n",
        "\n",
        "    # standardize data\n",
        "    X_normalized_trn = StandardScaler().fit_transform(X_trn_raw)\n",
        "    X_normalized_val = StandardScaler().fit_transform(X_val_raw)\n",
        "\n",
        "    # instantiate model object\n",
        "    svm_classifier = svm.SVC(kernel='linear', random_state=42, C=C)\n",
        "\n",
        "    # train on train data\n",
        "    svm_classifier.fit(X_normalized_trn, np.ravel(y_trn))\n",
        "\n",
        "    # evaluate on val data\n",
        "    # use our test dataset to test our prediction accuracy\n",
        "    y_hat = svm_classifier.predict(X_normalized_val)\n",
        "\n",
        "    # accumulate fold data, so we can evaluate over entire development set\n",
        "    y_dev_folds = np.append(y_dev_folds, y__dev)\n",
        "    y_hat_folds = np.append(y_hat_folds, y_hat)\n",
        "\n",
        "  # done with loop over folds\n",
        "  # compute f1 score over accumulated dev data for this value of C\n",
        "  f1_values[C_index] = f1_score(y_dev_folds, y_hat_folds)\n",
        "  f1_graph[C] = f1_score(y_dev_folds, y_hat_folds)\n",
        "\n",
        "# plot the F1 metric vs values of C\n",
        "# convert the keys and values to lists so they can be easily graphed\n",
        "c_val_list = list(f1_graph.keys())\n",
        "f1_list = list(f1_graph.values())\n",
        "\n",
        "fig, ax = plt.subplots()\n",
        "ax.plot(c_val_list, f1_list)\n",
        "plt.title('F1 values versus log-transformed C values')\n",
        "plt.xlabel('C values')\n",
        "plt.ylabel('F1 values')\n",
        "# log scale c values\n",
        "plt.xscale('log')\n",
        "\n",
        "# add c value labels\n",
        "for i, c in enumerate(C_values):\n",
        "  ax.annotate(c, (c_val_list[i], f1_list[i]), size=9)\n",
        "\n",
        "# find the best value of C\n",
        "# maximize F1 score, but lower C value to avoid overfitting\n",
        "C_optimal = 1"
      ],
      "metadata": {
        "colab": {
          "base_uri": "https://localhost:8080/",
          "height": 476
        },
        "id": "MPPcaq3aFqmV",
        "outputId": "1c296415-c5cb-4d6b-c190-de403ee9ef90"
      },
      "execution_count": null,
      "outputs": [
        {
          "output_type": "display_data",
          "data": {
            "text/plain": [
              "<Figure size 640x480 with 1 Axes>"
            ],
            "image/png": "[encoded data removed]"
          },
          "metadata": {}
        }
      ]
    },
    {
      "cell_type": "markdown",
      "source": [
        "We want to maximize the F1 score for accuracy without having too high of a C value to reduce overfitting. Looking at the graph C=1 seems to satisfy both of these conditions. C=3 appears to have a similarly high F1 score, but is likely more prone to overfitting, so C=1 was selected."
      ],
      "metadata": {
        "id": "esyraTqmLerR"
      }
    },
    {
      "cell_type": "markdown",
      "source": [
        "Part 4: Model Training and Evaluation"
      ],
      "metadata": {
        "id": "uThPN0M1DMET"
      }
    },
    {
      "cell_type": "code",
      "source": [
        "# calculate new scaling of the data based on the dev data\n",
        "X_normalized_dev = StandardScaler().fit_transform(X_dev_raw)\n",
        "X_normalized_tst = StandardScaler().fit_transform(X_tst_raw)"
      ],
      "metadata": {
        "id": "7pYWY6rUDTih"
      },
      "execution_count": null,
      "outputs": []
    },
    {
      "cell_type": "code",
      "source": [
        "# instantiate model object\n",
        "svm_classifier = svm.SVC(kernel='linear', random_state=42, C=C_optimal)\n",
        "\n",
        "# train on train data\n",
        "svm_classifier.fit(X_normalized_dev, np.ravel(y_dev))\n",
        "\n",
        "# evaluate on val data\n",
        "# use our test dataset to test our prediction accuracy\n",
        "y_hat = svm_classifier.predict(X_normalized_tst)"
      ],
      "metadata": {
        "id": "LN6OvB8WDUOq"
      },
      "execution_count": null,
      "outputs": []
    },
    {
      "cell_type": "code",
      "source": [
        "f1_score(y_tst, y_hat)"
      ],
      "metadata": {
        "id": "G1PKwXGKDUMN",
        "colab": {
          "base_uri": "https://localhost:8080/"
        },
        "outputId": "13df8fb0-c3cf-45d7-a0aa-e0022668ee72"
      },
      "execution_count": null,
      "outputs": [
        {
          "output_type": "execute_result",
          "data": {
            "text/plain": [
              "0.9722222222222222"
            ]
          },
          "metadata": {},
          "execution_count": 35
        }
      ]
    },
    {
      "cell_type": "markdown",
      "source": [
        "On the test data, a high F1 score of 0.972 was achieved, indicating high accuracy. This also shows the model was not overfit to the training data."
      ],
      "metadata": {
        "id": "Vh5OTwvpMVcC"
      }
    }
  ]
}