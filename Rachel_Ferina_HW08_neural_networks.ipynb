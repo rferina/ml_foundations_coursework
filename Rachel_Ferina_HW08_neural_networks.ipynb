{
  "cells": [
    {
      "cell_type": "markdown",
      "metadata": {
        "id": "view-in-github",
        "colab_type": "text"
      },
      "source": [
        "<a href=\"https://colab.research.google.com/github/rferina/ml_foundations_coursework/blob/main/Rachel_Ferina_HW08_neural_networks.ipynb\" target=\"_parent\"><img src=\"https://colab.research.google.com/assets/colab-badge.svg\" alt=\"Open In Colab\"/></a>"
      ]
    },
    {
      "cell_type": "markdown",
      "metadata": {
        "id": "N-_F0uLM0bg5"
      },
      "source": [
        "# Assignment 8: Neural Networks\n",
        "\n",
        "In this assignment, you will apply everything you have learned to solve a classification problem using an Artificial Neural Network.\n",
        "\n",
        "You should go through all the usual ML pipeline steps, including:\n",
        "\n",
        "* Exploratory data analysis (EDA)\n",
        "  * Visualize feature ranges, distributions, correlations, etc.\n",
        "  * Be as thorough as you'd like. This analysis should inform the decisions you make in the next phase.\n",
        "* Data pre-processing\n",
        "  * Dealing with missing data\n",
        "    * Look for missing values and decide the best way to deal with them: imputing or discarding.\n",
        "  * Feature engineering\n",
        "    * Transform the provided features however you see fit.\n",
        "  * Feature scaling (numerical features)\n",
        "    * Choose between normalization and standardization (maybe try both!).\n",
        "  * Feature encoding (categorical features)\n",
        "    * Determine whether to one-hot-encode categorical features, use ordinal encoders, create super classes, or discard simply them.\n",
        "* Model definition, training, and validation\n",
        "  * Validation split\n",
        "    * The dataset is already split into training and testing data so no need to do it yourselves.\n",
        "    * Create a split from the training set to use as a validation set when tuning your model's hyper-parameters.\n",
        "    * As an alternative to having a fixed validation set, you can choose to use cross-validation to validate your model's performance.\n",
        "  * Model definition\n",
        "    * Choose your model's architecture: Test out different numbers of hidden layers, number of neurons per layer, and activation functions.\n",
        "    *  Suggestion: start with smaller models, remember that more complex models are easier to overfit.\n",
        "  * Model validation\n",
        "    * There are many hyper-parameters for you to play with: optimizer, learning rate, batch size, number of epochs, dropout percentage, early-stopping patience.\n",
        "    * Use the validation set to evaluate your different model architectures/hyper-parameter settings and determine the best performing configuration.\n",
        "* Model evaluation\n",
        "  * Once you have selected a final model architecure and the best-performing hyper-parameter values, retrain your model on ALL training data (training + validation).\n",
        "  * Use your trained model to make predictions on the test data.\n",
        "  * Save your predictions as a 'csv' file (see example below) and submit them to Canvas.\n",
        "\n",
        "## Scoring\n",
        "\n",
        "The instructor will compute the F1 score for all submissions using the test set labels. The submissions with the top-3 F1 scores will get the following amounts of extra-credit points to be distributed among past Quizzes/Assignments:\n",
        "\n",
        "* First place - 15 points\n",
        "* Second place - 10 points\n",
        "* Third place - 5 points"
      ]
    },
    {
      "cell_type": "markdown",
      "metadata": {
        "id": "7C2wxoE96-Q7"
      },
      "source": [
        "# Dataset\n",
        "\n",
        "You will work on the binary classification problem of determining whether a loan will be paid in full, or not, based on multiple features associated with such loan.\n",
        "\n",
        "You can get the labeled training set and the unlabeled test set from the [Assignment page](https://canvas.uoregon.edu/courses/223164/assignments/1439536) on Canvas.\n",
        "\n",
        "## Feature descriptions\n",
        "\n",
        "Here are the feature descriptions:\n",
        "\n",
        "<table border=\"1\" class=\"dataframe\">\n",
        "  <thead>\n",
        "    <tr style=\"text-align: right;\">\n",
        "      <th></th>\n",
        "      <th>LoanStatNew</th>\n",
        "      <th>Description</th>\n",
        "    </tr>\n",
        "  </thead>\n",
        "  <tbody>\n",
        "    <tr>\n",
        "      <th>0</th>\n",
        "      <td>loan_amnt</td>\n",
        "      <td>The listed amount of the loan applied for by the borrower. If at some point in time, the credit department reduces the loan amount, then it will be reflected in this value.</td>\n",
        "    </tr>\n",
        "    <tr>\n",
        "      <th>1</th>\n",
        "      <td>term</td>\n",
        "      <td>The number of payments on the loan. Values are in months and can be either 36 or 60.</td>\n",
        "    </tr>\n",
        "    <tr>\n",
        "      <th>2</th>\n",
        "      <td>int_rate</td>\n",
        "      <td>Interest Rate on the loan</td>\n",
        "    </tr>\n",
        "    <tr>\n",
        "      <th>3</th>\n",
        "      <td>installment</td>\n",
        "      <td>The monthly payment owed by the borrower if the loan originates.</td>\n",
        "    </tr>\n",
        "    <tr>\n",
        "      <th>4</th>\n",
        "      <td>grade</td>\n",
        "      <td>LC assigned loan grade</td>\n",
        "    </tr>\n",
        "    <tr>\n",
        "      <th>5</th>\n",
        "      <td>sub_grade</td>\n",
        "      <td>LC assigned loan subgrade</td>\n",
        "    </tr>\n",
        "    <tr>\n",
        "      <th>6</th>\n",
        "      <td>emp_title</td>\n",
        "      <td>The job title supplied by the Borrower when applying for the loan.*</td>\n",
        "    </tr>\n",
        "    <tr>\n",
        "      <th>7</th>\n",
        "      <td>emp_length</td>\n",
        "      <td>Employment length in years. Possible values are between 0 and 10 where 0 means less than one year and 10 means ten or more years.</td>\n",
        "    </tr>\n",
        "    <tr>\n",
        "      <th>8</th>\n",
        "      <td>home_ownership</td>\n",
        "      <td>The home ownership status provided by the borrower during registration or obtained from the credit report. Our values are: RENT, OWN, MORTGAGE, OTHER</td>\n",
        "    </tr>\n",
        "    <tr>\n",
        "      <th>9</th>\n",
        "      <td>annual_inc</td>\n",
        "      <td>The self-reported annual income provided by the borrower during registration.</td>\n",
        "    </tr>\n",
        "    <tr>\n",
        "      <th>10</th>\n",
        "      <td>verification_status</td>\n",
        "      <td>Indicates if income was verified by LC, not verified, or if the income source was verified</td>\n",
        "    </tr>\n",
        "    <tr>\n",
        "      <th>11</th>\n",
        "      <td>issue_d</td>\n",
        "      <td>The month which the loan was funded</td>\n",
        "    </tr>\n",
        "    <tr>\n",
        "      <th>12</th>\n",
        "      <td>loan_status</td>\n",
        "      <td>Current status of the loan <b>(Target Feature)</b></td>\n",
        "    </tr>\n",
        "    <tr>\n",
        "      <th>13</th>\n",
        "      <td>purpose</td>\n",
        "      <td>A category provided by the borrower for the loan request.</td>\n",
        "    </tr>\n",
        "    <tr>\n",
        "      <th>14</th>\n",
        "      <td>title</td>\n",
        "      <td>The loan title provided by the borrower</td>\n",
        "    </tr>\n",
        "    <tr>\n",
        "      <th>15</th>\n",
        "      <td>zip_code</td>\n",
        "      <td>The first 3 numbers of the zip code provided by the borrower in the loan application.</td>\n",
        "    </tr>\n",
        "    <tr>\n",
        "      <th>16</th>\n",
        "      <td>addr_state</td>\n",
        "      <td>The state provided by the borrower in the loan application</td>\n",
        "    </tr>\n",
        "    <tr>\n",
        "      <th>17</th>\n",
        "      <td>dti</td>\n",
        "      <td>A ratio calculated using the borrower’s total monthly debt payments on the total debt obligations, excluding mortgage and the requested LC loan, divided by the borrower’s self-reported monthly income.</td>\n",
        "    </tr>\n",
        "    <tr>\n",
        "      <th>18</th>\n",
        "      <td>earliest_cr_line</td>\n",
        "      <td>The month the borrower's earliest reported credit line was opened</td>\n",
        "    </tr>\n",
        "    <tr>\n",
        "      <th>19</th>\n",
        "      <td>open_acc</td>\n",
        "      <td>The number of open credit lines in the borrower's credit file.</td>\n",
        "    </tr>\n",
        "    <tr>\n",
        "      <th>20</th>\n",
        "      <td>pub_rec</td>\n",
        "      <td>Number of derogatory public records</td>\n",
        "    </tr>\n",
        "    <tr>\n",
        "      <th>21</th>\n",
        "      <td>revol_bal</td>\n",
        "      <td>Total credit revolving balance</td>\n",
        "    </tr>\n",
        "    <tr>\n",
        "      <th>22</th>\n",
        "      <td>revol_util</td>\n",
        "      <td>Revolving line utilization rate, or the amount of credit the borrower is using relative to all available revolving credit.</td>\n",
        "    </tr>\n",
        "    <tr>\n",
        "      <th>23</th>\n",
        "      <td>total_acc</td>\n",
        "      <td>The total number of credit lines currently in the borrower's credit file</td>\n",
        "    </tr>\n",
        "    <tr>\n",
        "      <th>24</th>\n",
        "      <td>initial_list_status</td>\n",
        "      <td>The initial listing status of the loan. Possible values are – W, F</td>\n",
        "    </tr>\n",
        "    <tr>\n",
        "      <th>25</th>\n",
        "      <td>application_type</td>\n",
        "      <td>Indicates whether the loan is an individual application or a joint application with two co-borrowers</td>\n",
        "    </tr>\n",
        "    <tr>\n",
        "      <th>26</th>\n",
        "      <td>mort_acc</td>\n",
        "      <td>Number of mortgage accounts.</td>\n",
        "    </tr>\n",
        "    <tr>\n",
        "      <th>27</th>\n",
        "      <td>pub_rec_bankruptcies</td>\n",
        "      <td>Number of public record bankruptcies</td>\n",
        "    </tr>\n",
        "  </tbody>\n",
        "</table>\n",
        "\n",
        "---\n",
        "----"
      ]
    },
    {
      "cell_type": "markdown",
      "metadata": {
        "id": "pRIJXyhgk_Ot"
      },
      "source": [
        "# Data ingestion"
      ]
    },
    {
      "cell_type": "code",
      "execution_count": null,
      "metadata": {
        "colab": {
          "base_uri": "https://localhost:8080/",
          "height": 53
        },
        "id": "hFryCAbudCSa",
        "outputId": "7b60ad55-6e8e-47b5-96a7-560e5c64d8be"
      },
      "outputs": [
        {
          "name": "stdout",
          "output_type": "stream",
          "text": [
            "Mounted at /content/drive\n"
          ]
        },
        {
          "data": {
            "application/vnd.google.colaboratory.intrinsic+json": {
              "type": "string"
            },
            "text/plain": [
              "'/content/drive/MyDrive'"
            ]
          },
          "execution_count": 1,
          "metadata": {},
          "output_type": "execute_result"
        }
      ],
      "source": [
        "# Mounting the drive\n",
        "import os\n",
        "from google.colab import drive\n",
        "\n",
        "\n",
        "mount_point = '/content/drive'\n",
        "drive.mount(mount_point)\n",
        "\n",
        "drive_dir = os.path.join(mount_point, \"MyDrive\")\n",
        "drive_dir"
      ]
    },
    {
      "cell_type": "code",
      "execution_count": null,
      "metadata": {
        "colab": {
          "background_save": true
        },
        "id": "Ka_dxnP2dFGs"
      },
      "outputs": [],
      "source": [
        "\n",
        "# Include all your imports here\n",
        "import pandas as pd\n",
        "import numpy as np\n",
        "import seaborn as sns\n",
        "import matplotlib.pyplot as plt\n",
        "from sklearn.preprocessing import MinMaxScaler\n",
        "from sklearn.preprocessing import OneHotEncoder\n",
        "from sklearn.preprocessing import OrdinalEncoder\n",
        "from sklearn.model_selection import train_test_split\n",
        "from sklearn.metrics import accuracy_score, confusion_matrix, classification_report\n",
        "from tensorflow.keras.models import Sequential\n",
        "from tensorflow.keras.layers import Dense\n",
        "from tensorflow.keras.callbacks import EarlyStopping\n",
        "from tensorflow.keras.layers import Dropout"
      ]
    },
    {
      "cell_type": "code",
      "execution_count": null,
      "metadata": {
        "id": "yDM0ksovcrIo"
      },
      "outputs": [],
      "source": [
        "# Loading the dataset\n",
        "# Remember this might be different in your own drive\n",
        "train_data_file = \"lending_train_data.csv\"\n",
        "train_data_file_labels = \"lending_train_data_labels.csv\"\n",
        "test_data_file = \"lending_test_data.csv\"\n",
        "\n",
        "X_train = pd.read_csv(os.path.join(drive_dir, train_data_file))\n",
        "y_train = pd.read_csv(os.path.join(drive_dir, train_data_file_labels))\n",
        "X_test = pd.read_csv(os.path.join(drive_dir, test_data_file))"
      ]
    },
    {
      "cell_type": "code",
      "execution_count": null,
      "metadata": {
        "colab": {
          "base_uri": "https://localhost:8080/"
        },
        "id": "8fYSRN2ZWdcN",
        "outputId": "c16faa1a-d614-4396-9476-c986764cbbfc"
      },
      "outputs": [
        {
          "name": "stdout",
          "output_type": "stream",
          "text": [
            "Train set shape: (90000, 26)\n",
            "Test set shape: (10000, 26)\n"
          ]
        }
      ],
      "source": [
        "# Dataset shapes\n",
        "print(f\"Train set shape: {X_train.shape}\")\n",
        "print(f\"Test set shape: {X_test.shape}\")"
      ]
    },
    {
      "cell_type": "markdown",
      "metadata": {
        "id": "y7C_VcGNa_xn"
      },
      "source": [
        "# Exploratory Data Analysis"
      ]
    },
    {
      "cell_type": "code",
      "execution_count": null,
      "metadata": {
        "colab": {
          "base_uri": "https://localhost:8080/",
          "height": 425
        },
        "id": "o3gBqFqcbC8j",
        "outputId": "251d6494-93fb-48f3-a284-928a85ba9c58"
      },
      "outputs": [
        {
          "data": {
            "text/html": [
              "\n",
              "  <div id=\"df-70b911b9-c353-4be3-8195-a11e10ddeaee\">\n",
              "    <div class=\"colab-df-container\">\n",
              "      <div>\n",
              "<style scoped>\n",
              "    .dataframe tbody tr th:only-of-type {\n",
              "        vertical-align: middle;\n",
              "    }\n",
              "\n",
              "    .dataframe tbody tr th {\n",
              "        vertical-align: top;\n",
              "    }\n",
              "\n",
              "    .dataframe thead th {\n",
              "        text-align: right;\n",
              "    }\n",
              "</style>\n",
              "<table border=\"1\" class=\"dataframe\">\n",
              "  <thead>\n",
              "    <tr style=\"text-align: right;\">\n",
              "      <th></th>\n",
              "      <th>count</th>\n",
              "      <th>mean</th>\n",
              "      <th>std</th>\n",
              "      <th>min</th>\n",
              "      <th>25%</th>\n",
              "      <th>50%</th>\n",
              "      <th>75%</th>\n",
              "      <th>max</th>\n",
              "    </tr>\n",
              "  </thead>\n",
              "  <tbody>\n",
              "    <tr>\n",
              "      <th>loan_amnt</th>\n",
              "      <td>90000.0</td>\n",
              "      <td>14057.933611</td>\n",
              "      <td>8323.764488</td>\n",
              "      <td>500.00</td>\n",
              "      <td>7900.0000</td>\n",
              "      <td>12000.00</td>\n",
              "      <td>20000.0000</td>\n",
              "      <td>40000.00</td>\n",
              "    </tr>\n",
              "    <tr>\n",
              "      <th>int_rate</th>\n",
              "      <td>90000.0</td>\n",
              "      <td>13.636307</td>\n",
              "      <td>4.454030</td>\n",
              "      <td>5.32</td>\n",
              "      <td>10.4900</td>\n",
              "      <td>13.33</td>\n",
              "      <td>16.4900</td>\n",
              "      <td>30.99</td>\n",
              "    </tr>\n",
              "    <tr>\n",
              "      <th>installment</th>\n",
              "      <td>90000.0</td>\n",
              "      <td>430.236455</td>\n",
              "      <td>249.699275</td>\n",
              "      <td>16.47</td>\n",
              "      <td>249.9875</td>\n",
              "      <td>374.97</td>\n",
              "      <td>565.5600</td>\n",
              "      <td>1408.13</td>\n",
              "    </tr>\n",
              "    <tr>\n",
              "      <th>annual_inc</th>\n",
              "      <td>90000.0</td>\n",
              "      <td>74435.099872</td>\n",
              "      <td>63798.621432</td>\n",
              "      <td>4800.00</td>\n",
              "      <td>45000.0000</td>\n",
              "      <td>64000.00</td>\n",
              "      <td>90000.0000</td>\n",
              "      <td>7446395.00</td>\n",
              "    </tr>\n",
              "    <tr>\n",
              "      <th>dti</th>\n",
              "      <td>90000.0</td>\n",
              "      <td>17.322671</td>\n",
              "      <td>8.134194</td>\n",
              "      <td>0.00</td>\n",
              "      <td>11.2400</td>\n",
              "      <td>16.89</td>\n",
              "      <td>22.9725</td>\n",
              "      <td>77.95</td>\n",
              "    </tr>\n",
              "    <tr>\n",
              "      <th>open_acc</th>\n",
              "      <td>90000.0</td>\n",
              "      <td>11.297011</td>\n",
              "      <td>5.149080</td>\n",
              "      <td>0.00</td>\n",
              "      <td>8.0000</td>\n",
              "      <td>10.00</td>\n",
              "      <td>14.0000</td>\n",
              "      <td>90.00</td>\n",
              "    </tr>\n",
              "    <tr>\n",
              "      <th>pub_rec</th>\n",
              "      <td>90000.0</td>\n",
              "      <td>0.178778</td>\n",
              "      <td>0.521022</td>\n",
              "      <td>0.00</td>\n",
              "      <td>0.0000</td>\n",
              "      <td>0.00</td>\n",
              "      <td>0.0000</td>\n",
              "      <td>40.00</td>\n",
              "    </tr>\n",
              "    <tr>\n",
              "      <th>revol_bal</th>\n",
              "      <td>90000.0</td>\n",
              "      <td>15865.063478</td>\n",
              "      <td>21767.203211</td>\n",
              "      <td>0.00</td>\n",
              "      <td>5985.0000</td>\n",
              "      <td>11147.50</td>\n",
              "      <td>19594.2500</td>\n",
              "      <td>1743266.00</td>\n",
              "    </tr>\n",
              "    <tr>\n",
              "      <th>revol_util</th>\n",
              "      <td>89940.0</td>\n",
              "      <td>53.821827</td>\n",
              "      <td>24.645250</td>\n",
              "      <td>0.00</td>\n",
              "      <td>35.9000</td>\n",
              "      <td>54.90</td>\n",
              "      <td>73.0000</td>\n",
              "      <td>892.30</td>\n",
              "    </tr>\n",
              "    <tr>\n",
              "      <th>total_acc</th>\n",
              "      <td>90000.0</td>\n",
              "      <td>25.393878</td>\n",
              "      <td>11.911959</td>\n",
              "      <td>2.00</td>\n",
              "      <td>17.0000</td>\n",
              "      <td>24.00</td>\n",
              "      <td>32.0000</td>\n",
              "      <td>151.00</td>\n",
              "    </tr>\n",
              "    <tr>\n",
              "      <th>mort_acc</th>\n",
              "      <td>81239.0</td>\n",
              "      <td>1.813169</td>\n",
              "      <td>2.149209</td>\n",
              "      <td>0.00</td>\n",
              "      <td>0.0000</td>\n",
              "      <td>1.00</td>\n",
              "      <td>3.0000</td>\n",
              "      <td>31.00</td>\n",
              "    </tr>\n",
              "    <tr>\n",
              "      <th>pub_rec_bankruptcies</th>\n",
              "      <td>89862.0</td>\n",
              "      <td>0.122499</td>\n",
              "      <td>0.355827</td>\n",
              "      <td>0.00</td>\n",
              "      <td>0.0000</td>\n",
              "      <td>0.00</td>\n",
              "      <td>0.0000</td>\n",
              "      <td>7.00</td>\n",
              "    </tr>\n",
              "  </tbody>\n",
              "</table>\n",
              "</div>\n",
              "      <button class=\"colab-df-convert\" onclick=\"convertToInteractive('df-70b911b9-c353-4be3-8195-a11e10ddeaee')\"\n",
              "              title=\"Convert this dataframe to an interactive table.\"\n",
              "              style=\"display:none;\">\n",
              "        \n",
              "  <svg xmlns=\"http://www.w3.org/2000/svg\" height=\"24px\"viewBox=\"0 0 24 24\"\n",
              "       width=\"24px\">\n",
              "    <path d=\"M0 0h24v24H0V0z\" fill=\"none\"/>\n",
              "    <path d=\"M18.56 5.44l.94 2.06.94-2.06 2.06-.94-2.06-.94-.94-2.06-.94 2.06-2.06.94zm-11 1L8.5 8.5l.94-2.06 2.06-.94-2.06-.94L8.5 2.5l-.94 2.06-2.06.94zm10 10l.94 2.06.94-2.06 2.06-.94-2.06-.94-.94-2.06-.94 2.06-2.06.94z\"/><path d=\"M17.41 7.96l-1.37-1.37c-.4-.4-.92-.59-1.43-.59-.52 0-1.04.2-1.43.59L10.3 9.45l-7.72 7.72c-.78.78-.78 2.05 0 2.83L4 21.41c.39.39.9.59 1.41.59.51 0 1.02-.2 1.41-.59l7.78-7.78 2.81-2.81c.8-.78.8-2.07 0-2.86zM5.41 20L4 18.59l7.72-7.72 1.47 1.35L5.41 20z\"/>\n",
              "  </svg>\n",
              "      </button>\n",
              "      \n",
              "  <style>\n",
              "    .colab-df-container {\n",
              "      display:flex;\n",
              "      flex-wrap:wrap;\n",
              "      gap: 12px;\n",
              "    }\n",
              "\n",
              "    .colab-df-convert {\n",
              "      background-color: #E8F0FE;\n",
              "      border: none;\n",
              "      border-radius: 50%;\n",
              "      cursor: pointer;\n",
              "      display: none;\n",
              "      fill: #1967D2;\n",
              "      height: 32px;\n",
              "      padding: 0 0 0 0;\n",
              "      width: 32px;\n",
              "    }\n",
              "\n",
              "    .colab-df-convert:hover {\n",
              "      background-color: #E2EBFA;\n",
              "      box-shadow: 0px 1px 2px rgba(60, 64, 67, 0.3), 0px 1px 3px 1px rgba(60, 64, 67, 0.15);\n",
              "      fill: #174EA6;\n",
              "    }\n",
              "\n",
              "    [theme=dark] .colab-df-convert {\n",
              "      background-color: #3B4455;\n",
              "      fill: #D2E3FC;\n",
              "    }\n",
              "\n",
              "    [theme=dark] .colab-df-convert:hover {\n",
              "      background-color: #434B5C;\n",
              "      box-shadow: 0px 1px 3px 1px rgba(0, 0, 0, 0.15);\n",
              "      filter: drop-shadow(0px 1px 2px rgba(0, 0, 0, 0.3));\n",
              "      fill: #FFFFFF;\n",
              "    }\n",
              "  </style>\n",
              "\n",
              "      <script>\n",
              "        const buttonEl =\n",
              "          document.querySelector('#df-70b911b9-c353-4be3-8195-a11e10ddeaee button.colab-df-convert');\n",
              "        buttonEl.style.display =\n",
              "          google.colab.kernel.accessAllowed ? 'block' : 'none';\n",
              "\n",
              "        async function convertToInteractive(key) {\n",
              "          const element = document.querySelector('#df-70b911b9-c353-4be3-8195-a11e10ddeaee');\n",
              "          const dataTable =\n",
              "            await google.colab.kernel.invokeFunction('convertToInteractive',\n",
              "                                                     [key], {});\n",
              "          if (!dataTable) return;\n",
              "\n",
              "          const docLinkHtml = 'Like what you see? Visit the ' +\n",
              "            '<a target=\"_blank\" href=https://colab.research.google.com/notebooks/data_table.ipynb>data table notebook</a>'\n",
              "            + ' to learn more about interactive tables.';\n",
              "          element.innerHTML = '';\n",
              "          dataTable['output_type'] = 'display_data';\n",
              "          await google.colab.output.renderOutput(dataTable, element);\n",
              "          const docLink = document.createElement('div');\n",
              "          docLink.innerHTML = docLinkHtml;\n",
              "          element.appendChild(docLink);\n",
              "        }\n",
              "      </script>\n",
              "    </div>\n",
              "  </div>\n",
              "  "
            ],
            "text/plain": [
              "                        count          mean           std      min  \\\n",
              "loan_amnt             90000.0  14057.933611   8323.764488   500.00   \n",
              "int_rate              90000.0     13.636307      4.454030     5.32   \n",
              "installment           90000.0    430.236455    249.699275    16.47   \n",
              "annual_inc            90000.0  74435.099872  63798.621432  4800.00   \n",
              "dti                   90000.0     17.322671      8.134194     0.00   \n",
              "open_acc              90000.0     11.297011      5.149080     0.00   \n",
              "pub_rec               90000.0      0.178778      0.521022     0.00   \n",
              "revol_bal             90000.0  15865.063478  21767.203211     0.00   \n",
              "revol_util            89940.0     53.821827     24.645250     0.00   \n",
              "total_acc             90000.0     25.393878     11.911959     2.00   \n",
              "mort_acc              81239.0      1.813169      2.149209     0.00   \n",
              "pub_rec_bankruptcies  89862.0      0.122499      0.355827     0.00   \n",
              "\n",
              "                             25%       50%         75%         max  \n",
              "loan_amnt              7900.0000  12000.00  20000.0000    40000.00  \n",
              "int_rate                 10.4900     13.33     16.4900       30.99  \n",
              "installment             249.9875    374.97    565.5600     1408.13  \n",
              "annual_inc            45000.0000  64000.00  90000.0000  7446395.00  \n",
              "dti                      11.2400     16.89     22.9725       77.95  \n",
              "open_acc                  8.0000     10.00     14.0000       90.00  \n",
              "pub_rec                   0.0000      0.00      0.0000       40.00  \n",
              "revol_bal              5985.0000  11147.50  19594.2500  1743266.00  \n",
              "revol_util               35.9000     54.90     73.0000      892.30  \n",
              "total_acc                17.0000     24.00     32.0000      151.00  \n",
              "mort_acc                  0.0000      1.00      3.0000       31.00  \n",
              "pub_rec_bankruptcies      0.0000      0.00      0.0000        7.00  "
            ]
          },
          "execution_count": 5,
          "metadata": {},
          "output_type": "execute_result"
        }
      ],
      "source": [
        "X_train.describe().transpose()"
      ]
    },
    {
      "cell_type": "code",
      "execution_count": null,
      "metadata": {
        "colab": {
          "base_uri": "https://localhost:8080/",
          "height": 81
        },
        "id": "4Gt7z98nTuHG",
        "outputId": "19ef4543-e9cf-4b8e-d249-4eee2a72240f"
      },
      "outputs": [
        {
          "data": {
            "text/html": [
              "\n",
              "  <div id=\"df-18bd3436-de19-4941-aa67-97d074e904fa\">\n",
              "    <div class=\"colab-df-container\">\n",
              "      <div>\n",
              "<style scoped>\n",
              "    .dataframe tbody tr th:only-of-type {\n",
              "        vertical-align: middle;\n",
              "    }\n",
              "\n",
              "    .dataframe tbody tr th {\n",
              "        vertical-align: top;\n",
              "    }\n",
              "\n",
              "    .dataframe thead th {\n",
              "        text-align: right;\n",
              "    }\n",
              "</style>\n",
              "<table border=\"1\" class=\"dataframe\">\n",
              "  <thead>\n",
              "    <tr style=\"text-align: right;\">\n",
              "      <th></th>\n",
              "      <th>count</th>\n",
              "      <th>unique</th>\n",
              "      <th>top</th>\n",
              "      <th>freq</th>\n",
              "    </tr>\n",
              "  </thead>\n",
              "  <tbody>\n",
              "    <tr>\n",
              "      <th>loan_status</th>\n",
              "      <td>90000</td>\n",
              "      <td>2</td>\n",
              "      <td>Fully Paid</td>\n",
              "      <td>72433</td>\n",
              "    </tr>\n",
              "  </tbody>\n",
              "</table>\n",
              "</div>\n",
              "      <button class=\"colab-df-convert\" onclick=\"convertToInteractive('df-18bd3436-de19-4941-aa67-97d074e904fa')\"\n",
              "              title=\"Convert this dataframe to an interactive table.\"\n",
              "              style=\"display:none;\">\n",
              "        \n",
              "  <svg xmlns=\"http://www.w3.org/2000/svg\" height=\"24px\"viewBox=\"0 0 24 24\"\n",
              "       width=\"24px\">\n",
              "    <path d=\"M0 0h24v24H0V0z\" fill=\"none\"/>\n",
              "    <path d=\"M18.56 5.44l.94 2.06.94-2.06 2.06-.94-2.06-.94-.94-2.06-.94 2.06-2.06.94zm-11 1L8.5 8.5l.94-2.06 2.06-.94-2.06-.94L8.5 2.5l-.94 2.06-2.06.94zm10 10l.94 2.06.94-2.06 2.06-.94-2.06-.94-.94-2.06-.94 2.06-2.06.94z\"/><path d=\"M17.41 7.96l-1.37-1.37c-.4-.4-.92-.59-1.43-.59-.52 0-1.04.2-1.43.59L10.3 9.45l-7.72 7.72c-.78.78-.78 2.05 0 2.83L4 21.41c.39.39.9.59 1.41.59.51 0 1.02-.2 1.41-.59l7.78-7.78 2.81-2.81c.8-.78.8-2.07 0-2.86zM5.41 20L4 18.59l7.72-7.72 1.47 1.35L5.41 20z\"/>\n",
              "  </svg>\n",
              "      </button>\n",
              "      \n",
              "  <style>\n",
              "    .colab-df-container {\n",
              "      display:flex;\n",
              "      flex-wrap:wrap;\n",
              "      gap: 12px;\n",
              "    }\n",
              "\n",
              "    .colab-df-convert {\n",
              "      background-color: #E8F0FE;\n",
              "      border: none;\n",
              "      border-radius: 50%;\n",
              "      cursor: pointer;\n",
              "      display: none;\n",
              "      fill: #1967D2;\n",
              "      height: 32px;\n",
              "      padding: 0 0 0 0;\n",
              "      width: 32px;\n",
              "    }\n",
              "\n",
              "    .colab-df-convert:hover {\n",
              "      background-color: #E2EBFA;\n",
              "      box-shadow: 0px 1px 2px rgba(60, 64, 67, 0.3), 0px 1px 3px 1px rgba(60, 64, 67, 0.15);\n",
              "      fill: #174EA6;\n",
              "    }\n",
              "\n",
              "    [theme=dark] .colab-df-convert {\n",
              "      background-color: #3B4455;\n",
              "      fill: #D2E3FC;\n",
              "    }\n",
              "\n",
              "    [theme=dark] .colab-df-convert:hover {\n",
              "      background-color: #434B5C;\n",
              "      box-shadow: 0px 1px 3px 1px rgba(0, 0, 0, 0.15);\n",
              "      filter: drop-shadow(0px 1px 2px rgba(0, 0, 0, 0.3));\n",
              "      fill: #FFFFFF;\n",
              "    }\n",
              "  </style>\n",
              "\n",
              "      <script>\n",
              "        const buttonEl =\n",
              "          document.querySelector('#df-18bd3436-de19-4941-aa67-97d074e904fa button.colab-df-convert');\n",
              "        buttonEl.style.display =\n",
              "          google.colab.kernel.accessAllowed ? 'block' : 'none';\n",
              "\n",
              "        async function convertToInteractive(key) {\n",
              "          const element = document.querySelector('#df-18bd3436-de19-4941-aa67-97d074e904fa');\n",
              "          const dataTable =\n",
              "            await google.colab.kernel.invokeFunction('convertToInteractive',\n",
              "                                                     [key], {});\n",
              "          if (!dataTable) return;\n",
              "\n",
              "          const docLinkHtml = 'Like what you see? Visit the ' +\n",
              "            '<a target=\"_blank\" href=https://colab.research.google.com/notebooks/data_table.ipynb>data table notebook</a>'\n",
              "            + ' to learn more about interactive tables.';\n",
              "          element.innerHTML = '';\n",
              "          dataTable['output_type'] = 'display_data';\n",
              "          await google.colab.output.renderOutput(dataTable, element);\n",
              "          const docLink = document.createElement('div');\n",
              "          docLink.innerHTML = docLinkHtml;\n",
              "          element.appendChild(docLink);\n",
              "        }\n",
              "      </script>\n",
              "    </div>\n",
              "  </div>\n",
              "  "
            ],
            "text/plain": [
              "             count unique         top   freq\n",
              "loan_status  90000      2  Fully Paid  72433"
            ]
          },
          "execution_count": 6,
          "metadata": {},
          "output_type": "execute_result"
        }
      ],
      "source": [
        "y_train.describe().transpose()"
      ]
    },
    {
      "cell_type": "markdown",
      "metadata": {
        "id": "E4_mIxJNUP3O"
      },
      "source": [
        "It looks like there are missing rows from the number of mortage accounts, number of public record bankruptcies, and the revolving line utilization rate."
      ]
    },
    {
      "cell_type": "code",
      "execution_count": null,
      "metadata": {
        "colab": {
          "base_uri": "https://localhost:8080/",
          "height": 467
        },
        "id": "Z93u5wj6TuLA",
        "outputId": "7f8f557d-9e4c-4534-fa28-7442ca7809f7"
      },
      "outputs": [
        {
          "data": {
            "text/plain": [
              "<Axes: xlabel='loan_amnt', ylabel='Count'>"
            ]
          },
          "execution_count": 7,
          "metadata": {},
          "output_type": "execute_result"
        },
        {
          "data": {
            "image/png": "[encoded data removed]",
            "text/plain": [
              "<Figure size 640x480 with 1 Axes>"
            ]
          },
          "metadata": {},
          "output_type": "display_data"
        }
      ],
      "source": [
        "sns.histplot(X_train['loan_amnt'], kde=True, bins=60)"
      ]
    },
    {
      "cell_type": "code",
      "execution_count": null,
      "metadata": {
        "colab": {
          "base_uri": "https://localhost:8080/",
          "height": 646
        },
        "id": "mWJ1xtoFWK2b",
        "outputId": "0a488d40-fb21-4574-f1f2-a8c1d5d94215"
      },
      "outputs": [
        {
          "name": "stderr",
          "output_type": "stream",
          "text": [
            "<ipython-input-8-f6a568b220af>:1: FutureWarning: The default value of numeric_only in DataFrame.corr is deprecated. In a future version, it will default to False. Select only valid columns or specify the value of numeric_only to silence this warning.\n",
            "  sns.heatmap(X_train.corr())\n"
          ]
        },
        {
          "data": {
            "text/plain": [
              "<Axes: >"
            ]
          },
          "execution_count": 8,
          "metadata": {},
          "output_type": "execute_result"
        },
        {
          "data": {
            "image/png": "[encoded data removed]",
            "text/plain": [
              "<Figure size 640x480 with 2 Axes>"
            ]
          },
          "metadata": {},
          "output_type": "display_data"
        }
      ],
      "source": [
        "sns.heatmap(X_train.corr())"
      ]
    },
    {
      "cell_type": "markdown",
      "metadata": {
        "id": "sH7Abk1BFlbh"
      },
      "source": [
        "Installment and loan amount appear to be highly correlated. Derogatory public records and public records of bankruptcy as well as open accounts and total accounts also appear to be correlated."
      ]
    },
    {
      "cell_type": "code",
      "execution_count": null,
      "metadata": {
        "colab": {
          "base_uri": "https://localhost:8080/",
          "height": 726
        },
        "id": "x8h2pQ-Z0fyW",
        "outputId": "3b8447d7-dfb7-42b6-b164-e207e87a6037"
      },
      "outputs": [
        {
          "data": {
            "text/plain": [
              "(array([ 0,  1,  2,  3,  4,  5,  6,  7,  8,  9, 10, 11]),\n",
              " [Text(0, 0, '< 1 year'),\n",
              "  Text(1, 0, '1 year'),\n",
              "  Text(2, 0, '2 years'),\n",
              "  Text(3, 0, '3 years'),\n",
              "  Text(4, 0, '4 years'),\n",
              "  Text(5, 0, '5 years'),\n",
              "  Text(6, 0, '6 years'),\n",
              "  Text(7, 0, '7 years'),\n",
              "  Text(8, 0, '8 years'),\n",
              "  Text(9, 0, '9 years'),\n",
              "  Text(10, 0, '10+ years'),\n",
              "  Text(11, 0, 'nan')])"
            ]
          },
          "execution_count": 12,
          "metadata": {},
          "output_type": "execute_result"
        },
        {
          "data": {
            "image/png": "[encoded data removed]",
            "text/plain": [
              "<Figure size 640x480 with 1 Axes>"
            ]
          },
          "metadata": {},
          "output_type": "display_data"
        }
      ],
      "source": [
        "sns.countplot(data=X_train, x='emp_length', order=['< 1 year', '1 year', '2 years', '3 years', '4 years', '5 years', '6 years', '7 years', '8 years', '9 years', '10+ years', 'nan'])\n",
        "plt.xticks(rotation=45)\n"
      ]
    },
    {
      "cell_type": "markdown",
      "metadata": {
        "id": "2IH8hzFVIMCw"
      },
      "source": [
        "The employment length is skewed towards 10+ years. Also this feature should be encoded."
      ]
    },
    {
      "cell_type": "code",
      "execution_count": null,
      "metadata": {
        "colab": {
          "base_uri": "https://localhost:8080/"
        },
        "id": "R6wE8U_M0fvO",
        "outputId": "f0d5fc35-09a0-4100-9eb0-cb567a5bf5b7"
      },
      "outputs": [
        {
          "data": {
            "text/plain": [
              "Index(['loan_amnt', 'term', 'int_rate', 'installment', 'grade', 'sub_grade',\n",
              "       'emp_title', 'emp_length', 'home_ownership', 'annual_inc',\n",
              "       'verification_status', 'issue_d', 'purpose', 'title', 'dti',\n",
              "       'earliest_cr_line', 'open_acc', 'pub_rec', 'revol_bal', 'revol_util',\n",
              "       'total_acc', 'initial_list_status', 'application_type', 'mort_acc',\n",
              "       'pub_rec_bankruptcies', 'address'],\n",
              "      dtype='object')"
            ]
          },
          "execution_count": 10,
          "metadata": {},
          "output_type": "execute_result"
        }
      ],
      "source": [
        "\n",
        "X_train.columns"
      ]
    },
    {
      "cell_type": "code",
      "execution_count": null,
      "metadata": {
        "colab": {
          "base_uri": "https://localhost:8080/",
          "height": 835
        },
        "id": "Kbom7ZYh0fs8",
        "outputId": "785f31e7-2686-493d-a639-27375f787bf5"
      },
      "outputs": [
        {
          "data": {
            "text/plain": [
              "(array([ 0,  1,  2,  3,  4,  5,  6,  7,  8,  9, 10, 11, 12, 13]),\n",
              " [Text(0, 0, 'debt_consolidation'),\n",
              "  Text(1, 0, 'credit_card'),\n",
              "  Text(2, 0, 'home_improvement'),\n",
              "  Text(3, 0, 'other'),\n",
              "  Text(4, 0, 'small_business'),\n",
              "  Text(5, 0, 'moving'),\n",
              "  Text(6, 0, 'car'),\n",
              "  Text(7, 0, 'house'),\n",
              "  Text(8, 0, 'medical'),\n",
              "  Text(9, 0, 'wedding'),\n",
              "  Text(10, 0, 'major_purchase'),\n",
              "  Text(11, 0, 'vacation'),\n",
              "  Text(12, 0, 'renewable_energy'),\n",
              "  Text(13, 0, 'educational')])"
            ]
          },
          "execution_count": 11,
          "metadata": {},
          "output_type": "execute_result"
        },
        {
          "data": {
            "image/png": "[encoded data removed]",
            "text/plain": [
              "<Figure size 640x480 with 1 Axes>"
            ]
          },
          "metadata": {},
          "output_type": "display_data"
        }
      ],
      "source": [
        "sns.countplot(data=X_train, x='purpose')\n",
        "plt.xticks(rotation=90)\n"
      ]
    },
    {
      "cell_type": "markdown",
      "metadata": {
        "id": "OXPZIliMIY1Q"
      },
      "source": [
        "The loan purpose is skewed toward debt consolidation."
      ]
    },
    {
      "cell_type": "code",
      "execution_count": null,
      "metadata": {
        "colab": {
          "base_uri": "https://localhost:8080/",
          "height": 466
        },
        "id": "IwZmrYAn0fps",
        "outputId": "d3b5eb18-b501-421e-8f1a-48b5df16ed02"
      },
      "outputs": [
        {
          "data": {
            "text/plain": [
              "<Axes: xlabel='grade', ylabel='count'>"
            ]
          },
          "execution_count": 13,
          "metadata": {},
          "output_type": "execute_result"
        },
        {
          "data": {
            "image/png": "[encoded data removed]",
            "text/plain": [
              "<Figure size 640x480 with 1 Axes>"
            ]
          },
          "metadata": {},
          "output_type": "display_data"
        }
      ],
      "source": [
        "sns.countplot(data=X_train, x='grade', order=['A', 'B', 'C', 'D', 'E', 'F', 'G'])\n"
      ]
    },
    {
      "cell_type": "code",
      "execution_count": null,
      "metadata": {
        "colab": {
          "base_uri": "https://localhost:8080/",
          "height": 466
        },
        "id": "S-_WTJ7x0fnT",
        "outputId": "cf45f718-765f-451d-cdd7-3bc5cca87b51"
      },
      "outputs": [
        {
          "data": {
            "text/plain": [
              "<Axes: xlabel='open_acc', ylabel='Count'>"
            ]
          },
          "execution_count": 14,
          "metadata": {},
          "output_type": "execute_result"
        },
        {
          "data": {
            "image/png": "[encoded data removed]",
            "text/plain": [
              "<Figure size 640x480 with 1 Axes>"
            ]
          },
          "metadata": {},
          "output_type": "display_data"
        }
      ],
      "source": [
        "sns.histplot(X_train['open_acc'], kde=True, bins=60)"
      ]
    },
    {
      "cell_type": "code",
      "execution_count": null,
      "metadata": {
        "colab": {
          "base_uri": "https://localhost:8080/",
          "height": 606
        },
        "id": "5rTKLKy5_TiW",
        "outputId": "063d6fdc-13c2-4be1-ca17-381bd2fd3987"
      },
      "outputs": [
        {
          "data": {
            "text/plain": [
              "(array([0, 1, 2, 3, 4]),\n",
              " [Text(0, 0, 'MORTGAGE'),\n",
              "  Text(1, 0, 'RENT'),\n",
              "  Text(2, 0, 'OWN'),\n",
              "  Text(3, 0, 'NONE'),\n",
              "  Text(4, 0, 'OTHER')])"
            ]
          },
          "execution_count": 15,
          "metadata": {},
          "output_type": "execute_result"
        },
        {
          "data": {
            "image/png": "[encoded data removed]",
            "text/plain": [
              "<Figure size 640x480 with 1 Axes>"
            ]
          },
          "metadata": {},
          "output_type": "display_data"
        }
      ],
      "source": [
        "sns.countplot(data=X_train, x='home_ownership')\n",
        "plt.xticks(rotation=45)"
      ]
    },
    {
      "cell_type": "code",
      "execution_count": null,
      "metadata": {
        "colab": {
          "base_uri": "https://localhost:8080/",
          "height": 765
        },
        "id": "VR4P7RNk_TgY",
        "outputId": "73e61fb7-2f44-42d7-e36a-27837bdb0a99"
      },
      "outputs": [
        {
          "data": {
            "text/plain": [
              "(array([ 0,  1,  2,  3,  4,  5,  6,  7,  8,  9, 10, 11, 12, 13, 14, 15]),\n",
              " [Text(0, 0, '0.0'),\n",
              "  Text(1, 0, '1.0'),\n",
              "  Text(2, 0, '2.0'),\n",
              "  Text(3, 0, '3.0'),\n",
              "  Text(4, 0, '4.0'),\n",
              "  Text(5, 0, '5.0'),\n",
              "  Text(6, 0, '6.0'),\n",
              "  Text(7, 0, '7.0'),\n",
              "  Text(8, 0, '8.0'),\n",
              "  Text(9, 0, '9.0'),\n",
              "  Text(10, 0, '10.0'),\n",
              "  Text(11, 0, '11.0'),\n",
              "  Text(12, 0, '13.0'),\n",
              "  Text(13, 0, '17.0'),\n",
              "  Text(14, 0, '19.0'),\n",
              "  Text(15, 0, '40.0')])"
            ]
          },
          "execution_count": 16,
          "metadata": {},
          "output_type": "execute_result"
        },
        {
          "data": {
            "image/png": "[encoded data removed]",
            "text/plain": [
              "<Figure size 640x480 with 1 Axes>"
            ]
          },
          "metadata": {},
          "output_type": "display_data"
        }
      ],
      "source": [
        "sns.countplot(data=X_train, x='pub_rec')\n",
        "plt.xticks(rotation=45)"
      ]
    },
    {
      "cell_type": "code",
      "execution_count": null,
      "metadata": {
        "colab": {
          "base_uri": "https://localhost:8080/",
          "height": 617
        },
        "id": "ONI0cE6l_Tb2",
        "outputId": "bcd15f1a-9fb2-4a5f-e688-5bf64ba169a7"
      },
      "outputs": [
        {
          "data": {
            "text/plain": [
              "(array([0, 1, 2, 3, 4, 5, 6, 7]),\n",
              " [Text(0, 0, '0.0'),\n",
              "  Text(1, 0, '1.0'),\n",
              "  Text(2, 0, '2.0'),\n",
              "  Text(3, 0, '3.0'),\n",
              "  Text(4, 0, '4.0'),\n",
              "  Text(5, 0, '5.0'),\n",
              "  Text(6, 0, '6.0'),\n",
              "  Text(7, 0, '7.0')])"
            ]
          },
          "execution_count": 17,
          "metadata": {},
          "output_type": "execute_result"
        },
        {
          "data": {
            "image/png": "[encoded data removed]",
            "text/plain": [
              "<Figure size 640x480 with 1 Axes>"
            ]
          },
          "metadata": {},
          "output_type": "display_data"
        }
      ],
      "source": [
        "sns.countplot(data=X_train, x='pub_rec_bankruptcies')\n",
        "plt.xticks(rotation=45)\n"
      ]
    },
    {
      "cell_type": "markdown",
      "metadata": {
        "id": "Pvm3xBX2IiOR"
      },
      "source": [
        "Derogatory public records and public records of bankruptcy are skewed towards 0."
      ]
    },
    {
      "cell_type": "code",
      "execution_count": null,
      "metadata": {
        "colab": {
          "base_uri": "https://localhost:8080/",
          "height": 467
        },
        "id": "jjWNZISHBj3Z",
        "outputId": "a0eea891-051a-4f78-b787-40c3b0f115af"
      },
      "outputs": [
        {
          "data": {
            "text/plain": [
              "<Axes: xlabel='total_acc', ylabel='Count'>"
            ]
          },
          "execution_count": 18,
          "metadata": {},
          "output_type": "execute_result"
        },
        {
          "data": {
            "image/png": "[encoded data removed]",
            "text/plain": [
              "<Figure size 640x480 with 1 Axes>"
            ]
          },
          "metadata": {},
          "output_type": "display_data"
        }
      ],
      "source": [
        "sns.histplot(X_train['total_acc'], kde=True, bins=60)"
      ]
    },
    {
      "cell_type": "code",
      "execution_count": null,
      "metadata": {
        "colab": {
          "base_uri": "https://localhost:8080/",
          "height": 970
        },
        "id": "vnl9evMZBj05",
        "outputId": "e8281e1c-63af-4a1b-98db-aafc7c13266e"
      },
      "outputs": [
        {
          "data": {
            "text/plain": [
              "(array([ 0,  1,  2,  3,  4,  5,  6,  7,  8,  9, 10, 11, 12, 13, 14, 15, 16,\n",
              "        17, 18, 19, 20, 21, 22, 23, 24, 25, 26]),\n",
              " [Text(0, 0, '0.0'),\n",
              "  Text(1, 0, '1.0'),\n",
              "  Text(2, 0, '2.0'),\n",
              "  Text(3, 0, '3.0'),\n",
              "  Text(4, 0, '4.0'),\n",
              "  Text(5, 0, '5.0'),\n",
              "  Text(6, 0, '6.0'),\n",
              "  Text(7, 0, '7.0'),\n",
              "  Text(8, 0, '8.0'),\n",
              "  Text(9, 0, '9.0'),\n",
              "  Text(10, 0, '10.0'),\n",
              "  Text(11, 0, '11.0'),\n",
              "  Text(12, 0, '12.0'),\n",
              "  Text(13, 0, '13.0'),\n",
              "  Text(14, 0, '14.0'),\n",
              "  Text(15, 0, '15.0'),\n",
              "  Text(16, 0, '16.0'),\n",
              "  Text(17, 0, '17.0'),\n",
              "  Text(18, 0, '18.0'),\n",
              "  Text(19, 0, '19.0'),\n",
              "  Text(20, 0, '20.0'),\n",
              "  Text(21, 0, '21.0'),\n",
              "  Text(22, 0, '22.0'),\n",
              "  Text(23, 0, '24.0'),\n",
              "  Text(24, 0, '28.0'),\n",
              "  Text(25, 0, '30.0'),\n",
              "  Text(26, 0, '31.0')])"
            ]
          },
          "execution_count": 19,
          "metadata": {},
          "output_type": "execute_result"
        },
        {
          "data": {
            "image/png": "[encoded data removed]",
            "text/plain": [
              "<Figure size 640x480 with 1 Axes>"
            ]
          },
          "metadata": {},
          "output_type": "display_data"
        }
      ],
      "source": [
        "sns.countplot(data=X_train, x='mort_acc')\n",
        "plt.xticks(rotation=45)"
      ]
    },
    {
      "cell_type": "code",
      "execution_count": null,
      "metadata": {
        "colab": {
          "base_uri": "https://localhost:8080/",
          "height": 466
        },
        "id": "tzYr_MbQBjxF",
        "outputId": "e2c00b59-e892-4a92-c3e9-b2e4d30c39b3"
      },
      "outputs": [
        {
          "data": {
            "text/plain": [
              "<Axes: xlabel='dti', ylabel='Count'>"
            ]
          },
          "execution_count": 20,
          "metadata": {},
          "output_type": "execute_result"
        },
        {
          "data": {
            "image/png": "[encoded data removed]",
            "text/plain": [
              "<Figure size 640x480 with 1 Axes>"
            ]
          },
          "metadata": {},
          "output_type": "display_data"
        }
      ],
      "source": [
        "sns.histplot(X_train['dti'], kde=True, bins=60)"
      ]
    },
    {
      "cell_type": "markdown",
      "metadata": {
        "id": "cqdMbbJCbFaF"
      },
      "source": [
        "# Data pre-processing"
      ]
    },
    {
      "cell_type": "code",
      "execution_count": null,
      "metadata": {
        "colab": {
          "base_uri": "https://localhost:8080/"
        },
        "id": "wgITYj_jkMMa",
        "outputId": "62c56d85-a8a3-4efe-d8a1-d0526c28ef97"
      },
      "outputs": [
        {
          "name": "stdout",
          "output_type": "stream",
          "text": [
            "loan_amnt 0\n",
            "term 0\n",
            "int_rate 0\n",
            "installment 0\n",
            "grade 0\n",
            "sub_grade 0\n",
            "emp_title 5233\n",
            "emp_length 4214\n",
            "home_ownership 0\n",
            "annual_inc 0\n",
            "verification_status 0\n",
            "issue_d 0\n",
            "purpose 0\n",
            "title 393\n",
            "dti 0\n",
            "earliest_cr_line 0\n",
            "open_acc 0\n",
            "pub_rec 0\n",
            "revol_bal 0\n",
            "revol_util 60\n",
            "total_acc 0\n",
            "initial_list_status 0\n",
            "application_type 0\n",
            "mort_acc 8761\n",
            "pub_rec_bankruptcies 138\n",
            "address 0\n"
          ]
        }
      ],
      "source": [
        "# check for missing values\n",
        "for column in X_train:\n",
        "  col_data = X_train[column]\n",
        "  NA_count = col_data.isna().sum()\n",
        "  print(column, NA_count)\n"
      ]
    },
    {
      "cell_type": "markdown",
      "metadata": {
        "id": "HeJDSFgMo-9A"
      },
      "source": [
        "Title, public record of bankruptcies, and the revolving line utilization rate have low numbers of NA values, so those rows with NA values will be dropped. Mortage accounts, employment title and employment length have higher amounts of NA values, but imputing would contribute to class imbalance, so the rows with missing values will also be dropped."
      ]
    },
    {
      "cell_type": "code",
      "execution_count": null,
      "metadata": {
        "colab": {
          "base_uri": "https://localhost:8080/"
        },
        "id": "0kAmD4nUqLsa",
        "outputId": "48e77484-8665-4191-ec17-f845de58ecc3"
      },
      "outputs": [
        {
          "data": {
            "text/plain": [
              "(76121, 26)"
            ]
          },
          "execution_count": 237,
          "metadata": {},
          "output_type": "execute_result"
        }
      ],
      "source": [
        "# drop all rows with missing values\n",
        "# X_train.dropna(how='any', inplace=True)\n",
        "# X_train.shape"
      ]
    },
    {
      "cell_type": "code",
      "execution_count": null,
      "metadata": {
        "colab": {
          "base_uri": "https://localhost:8080/"
        },
        "id": "423HldswQCfS",
        "outputId": "047fb0d0-281b-4a8e-ac35-c8c2ce28e1ff"
      },
      "outputs": [
        {
          "data": {
            "text/plain": [
              "0"
            ]
          },
          "execution_count": 374,
          "metadata": {},
          "output_type": "execute_result"
        }
      ],
      "source": [
        "# there are no NA values in y_train but it's a different shape now after dropping X_train NA\n",
        "y_train['loan_status'].isna().sum()"
      ]
    },
    {
      "cell_type": "code",
      "execution_count": null,
      "metadata": {
        "colab": {
          "base_uri": "https://localhost:8080/"
        },
        "id": "WWs2uYOSQEn_",
        "outputId": "c5679cdd-c4c1-400d-8565-e7a78956d3fe"
      },
      "outputs": [
        {
          "data": {
            "text/plain": [
              "(76121, 27)"
            ]
          },
          "execution_count": 60,
          "metadata": {},
          "output_type": "execute_result"
        }
      ],
      "source": [
        "# add y_train to X_train, then drop all rows with missing values\n",
        "all_train = pd.concat([ X_train, y_train], axis=1)\n",
        "all_train.dropna(how='any', inplace=True)\n",
        "all_train.shape\n"
      ]
    },
    {
      "cell_type": "code",
      "execution_count": null,
      "metadata": {
        "id": "20v1oIeKQiIa"
      },
      "outputs": [],
      "source": [
        "# split back into x and y train\n",
        "X_train = all_train.drop('loan_status', axis=1)\n",
        "y_train = all_train[['loan_status']]"
      ]
    },
    {
      "cell_type": "code",
      "execution_count": null,
      "metadata": {
        "colab": {
          "base_uri": "https://localhost:8080/"
        },
        "id": "Kfmx0wmwSNSu",
        "outputId": "2f3dd9ea-30dc-4ce2-f822-33b6ddcf7f43"
      },
      "outputs": [
        {
          "data": {
            "text/plain": [
              "(76121, 26)"
            ]
          },
          "execution_count": 62,
          "metadata": {},
          "output_type": "execute_result"
        }
      ],
      "source": [
        "X_train.shape"
      ]
    },
    {
      "cell_type": "code",
      "execution_count": null,
      "metadata": {
        "colab": {
          "base_uri": "https://localhost:8080/"
        },
        "id": "e775XREzSPAK",
        "outputId": "cb2d287c-65ec-4390-ecb8-d675c1168f6d"
      },
      "outputs": [
        {
          "data": {
            "text/plain": [
              "(76121, 1)"
            ]
          },
          "execution_count": 63,
          "metadata": {},
          "output_type": "execute_result"
        }
      ],
      "source": [
        "y_train.shape"
      ]
    },
    {
      "cell_type": "code",
      "execution_count": null,
      "metadata": {
        "id": "OSKC-_Iz-4H4"
      },
      "outputs": [],
      "source": [
        "# convert employment years to numeric; 0.5 for less than 1 year; 10 for 10 years and more\n",
        "X_train['emp_length'] = X_train['emp_length'].replace(to_replace={'< 1 year': 0.5, '1 year': 1, '2 years': 2, '3 years': 3, '4 years': 4, '5 years': 5, '6 years': 6, '7 years': 7, '8 years': 8, '9 years': 9, '10+ years': 10})\n",
        "X_train['emp_length'] = X_train['emp_length'].astype('int64')\n"
      ]
    },
    {
      "cell_type": "code",
      "execution_count": null,
      "metadata": {
        "id": "plg5hI5ldwHm"
      },
      "outputs": [],
      "source": [
        "# convert term to numeric, strip empty space\n",
        "X_train['term'] = X_train['term'].str.rstrip(' months')\n",
        "X_train['term'] = X_train['term'].str.replace(' ', '')\n",
        "X_train['term'] = X_train['term'].astype('int64')\n"
      ]
    },
    {
      "cell_type": "code",
      "execution_count": null,
      "metadata": {
        "id": "b6Ju2u56-4FS"
      },
      "outputs": [],
      "source": [
        "# convert issue date to month and year columns\n",
        "X_train['issue_d'] = pd.to_datetime(X_train['issue_d'])\n",
        "\n",
        "X_train['issue_month'] = X_train['issue_d'].apply(lambda date:date.month)\n",
        "X_train['issue_year'] = X_train['issue_d'].apply(lambda date:date.year)\n",
        "\n",
        "# Drop the original date column\n",
        "X_train.drop('issue_d', axis=1, inplace=True)"
      ]
    },
    {
      "cell_type": "code",
      "execution_count": null,
      "metadata": {
        "id": "3sEshCjUSNle"
      },
      "outputs": [],
      "source": [
        "# convert earliest credit line to month and year columns\n",
        "X_train['earliest_cr_line'] = pd.to_datetime(X_train['earliest_cr_line'])\n",
        "\n",
        "X_train['cr_month'] = X_train['earliest_cr_line'].apply(lambda date:date.month)\n",
        "X_train['cr_year'] = X_train['earliest_cr_line'].apply(lambda date:date.year)\n",
        "\n",
        "# Drop the original date column\n",
        "X_train.drop('earliest_cr_line', axis=1, inplace=True)"
      ]
    },
    {
      "cell_type": "code",
      "execution_count": null,
      "metadata": {
        "id": "SfHxkcyn_4XY"
      },
      "outputs": [],
      "source": [
        "# remove address column; it would be too many features to encode\n",
        "X_train.drop('address', axis=1, inplace=True)"
      ]
    },
    {
      "cell_type": "code",
      "execution_count": null,
      "metadata": {
        "id": "x-aNAxgvbLXa"
      },
      "outputs": [],
      "source": [
        "# convert open accounts to integers\n",
        "X_train['open_acc'] = X_train['open_acc'].astype('int64')"
      ]
    },
    {
      "cell_type": "code",
      "execution_count": null,
      "metadata": {
        "id": "CxNk0EjWBLmU"
      },
      "outputs": [],
      "source": [
        "# convert public record bankruptcies to integers\n",
        "X_train['pub_rec_bankruptcies'] = X_train['pub_rec_bankruptcies'].astype('int64')"
      ]
    },
    {
      "cell_type": "code",
      "execution_count": null,
      "metadata": {
        "id": "u404h1HtCruV"
      },
      "outputs": [],
      "source": [
        "# convert mortgage accounts to integers\n",
        "X_train['mort_acc'] = X_train['mort_acc'].astype('int64')"
      ]
    },
    {
      "cell_type": "code",
      "execution_count": null,
      "metadata": {
        "id": "U_QRlpoPCRTk"
      },
      "outputs": [],
      "source": [
        "# convert total accounts to integers\n",
        "X_train['total_acc'] = X_train['total_acc'].astype('int64')"
      ]
    },
    {
      "cell_type": "code",
      "execution_count": null,
      "metadata": {
        "id": "jI4Sz6Bd_4Sf"
      },
      "outputs": [],
      "source": [
        "# convert number of public records to integers\n",
        "X_train['pub_rec'] = X_train['pub_rec'].astype('int64')"
      ]
    },
    {
      "cell_type": "code",
      "execution_count": null,
      "metadata": {
        "id": "SlcCPB8VFXV_"
      },
      "outputs": [],
      "source": [
        "# convert revol_util to integer\n",
        "X_train['revol_util'] = X_train['revol_util'].astype('float')"
      ]
    },
    {
      "cell_type": "code",
      "execution_count": null,
      "metadata": {
        "id": "F7DS8UuaFXSV"
      },
      "outputs": [],
      "source": [
        "# convert revol_bal to integer\n",
        "X_train['revol_bal'] = X_train['revol_bal'].astype('float')"
      ]
    },
    {
      "cell_type": "code",
      "execution_count": null,
      "metadata": {
        "id": "adM4zLH0r-US"
      },
      "outputs": [],
      "source": [
        "# encode grade as ordinal\n",
        "ordinal_encoder = OrdinalEncoder()\n",
        "grade_encoded = ordinal_encoder.fit_transform(X_train[['grade']])\n",
        "grade_encoded\n",
        "ordinal_encoder.categories_[0]\n",
        "grade_encoded_df = pd.DataFrame(grade_encoded, columns=['grade2'], index=X_train.index)\n",
        "grade_encoded_df\n",
        "X_train = pd.concat([grade_encoded_df, X_train], axis=1)\n",
        "# drop original column\n",
        "X_train.drop('grade', axis=1, inplace=True)\n",
        "# convert to integers\n",
        "X_train['grade2'] = X_train['grade2'].astype('int64')"
      ]
    },
    {
      "cell_type": "code",
      "execution_count": null,
      "metadata": {
        "id": "dN9zu2Pyr-SO"
      },
      "outputs": [],
      "source": [
        "# encode subgrade as ordinal\n",
        "ordinal_encoder = OrdinalEncoder()\n",
        "grade_encoded = ordinal_encoder.fit_transform(X_train[['sub_grade']])\n",
        "grade_encoded\n",
        "ordinal_encoder.categories_[0]\n",
        "grade_encoded_df = pd.DataFrame(grade_encoded, columns=['sub_grade2'], index=X_train.index)\n",
        "grade_encoded_df\n",
        "X_train = pd.concat([grade_encoded_df, X_train], axis=1)\n",
        "# drop original column\n",
        "X_train.drop('sub_grade', axis=1, inplace=True)\n",
        "# convert  to integers\n",
        "X_train['sub_grade2'] = X_train['sub_grade2'].astype('int64')"
      ]
    },
    {
      "cell_type": "code",
      "execution_count": null,
      "metadata": {
        "id": "l6AbCPTtr-Lw"
      },
      "outputs": [],
      "source": [
        "# employment title has too many options to encode; drop it instead\n",
        "len(X_train['emp_title'].unique()) # 48920\n",
        "X_train.drop('emp_title', axis=1, inplace=True)"
      ]
    },
    {
      "cell_type": "code",
      "execution_count": null,
      "metadata": {
        "id": "m7v-cvobke50"
      },
      "outputs": [],
      "source": [
        "# encode initial list status\n",
        "X_train[\"initial_list\"] = X_train[\"initial_list_status\"].apply(lambda status: 0 if status == 'w' else 1)\n",
        "\n",
        "# drop original column\n",
        "X_train.drop('initial_list_status', axis=1, inplace=True)"
      ]
    },
    {
      "cell_type": "code",
      "execution_count": null,
      "metadata": {
        "id": "RCh7XOz0si5u"
      },
      "outputs": [],
      "source": [
        "# encode home ownership\n",
        "oh_encoder = OneHotEncoder()\n",
        "home_encoded = oh_encoder.fit_transform(X_train[['home_ownership']])\n",
        "home_encoded_df = pd.DataFrame(home_encoded.toarray(), columns=oh_encoder.categories_[0], index=X_train.index)\n",
        "X_train = pd.concat([home_encoded_df, X_train], axis=1)\n",
        "# drop original column\n",
        "X_train.drop('home_ownership', axis=1, inplace=True)"
      ]
    },
    {
      "cell_type": "code",
      "execution_count": null,
      "metadata": {
        "id": "DzOLlFohsuie"
      },
      "outputs": [],
      "source": [
        "# encode application type\n",
        "oh_encoder = OneHotEncoder()\n",
        "app_encoded = oh_encoder.fit_transform(X_train[['application_type']])\n",
        "app_encoded_df = pd.DataFrame(app_encoded.toarray(), columns=oh_encoder.categories_[0], index=X_train.index)\n",
        "X_train = pd.concat([app_encoded_df, X_train], axis=1)\n",
        "# drop original column\n",
        "X_train.drop('application_type', axis=1, inplace=True)"
      ]
    },
    {
      "cell_type": "code",
      "execution_count": null,
      "metadata": {
        "id": "vE4eip5cQchO"
      },
      "outputs": [],
      "source": [
        "# encode verification status\n",
        "oh_encoder = OneHotEncoder()\n",
        "ver_encoded = oh_encoder.fit_transform(X_train[['verification_status']])\n",
        "ver_encoded_df = pd.DataFrame(ver_encoded.toarray(), columns=oh_encoder.categories_[0], index=X_train.index)\n",
        "X_train = pd.concat([ver_encoded_df, X_train], axis=1)\n",
        "# drop original column\n",
        "X_train.drop('verification_status', axis=1, inplace=True)"
      ]
    },
    {
      "cell_type": "code",
      "execution_count": null,
      "metadata": {
        "id": "7yufByYfQyQ4"
      },
      "outputs": [],
      "source": [
        "# encode purpose\n",
        "oh_encoder = OneHotEncoder()\n",
        "pur_encoded = oh_encoder.fit_transform(X_train[['purpose']])\n",
        "pur_encoded_df = pd.DataFrame(pur_encoded.toarray(), columns=oh_encoder.categories_[0], index=X_train.index)\n",
        "X_train = pd.concat([pur_encoded_df, X_train], axis=1)\n",
        "# drop original column\n",
        "X_train.drop('purpose', axis=1, inplace=True)"
      ]
    },
    {
      "cell_type": "code",
      "execution_count": null,
      "metadata": {
        "id": "ekggxr6rQyJq"
      },
      "outputs": [],
      "source": [
        "# encode title\n",
        "len(X_train['title'].unique()) # 9257\n",
        "# drop original column, too many options to encode\n",
        "X_train.drop('title', axis=1, inplace=True)"
      ]
    },
    {
      "cell_type": "code",
      "execution_count": null,
      "metadata": {
        "colab": {
          "base_uri": "https://localhost:8080/"
        },
        "id": "3SYH7FSdFT05",
        "outputId": "e5eee518-86c6-4425-84ae-a8f93ff868db"
      },
      "outputs": [
        {
          "data": {
            "text/plain": [
              "car                     float64\n",
              "credit_card             float64\n",
              "debt_consolidation      float64\n",
              "home_improvement        float64\n",
              "house                   float64\n",
              "major_purchase          float64\n",
              "medical                 float64\n",
              "moving                  float64\n",
              "other                   float64\n",
              "renewable_energy        float64\n",
              "small_business          float64\n",
              "vacation                float64\n",
              "wedding                 float64\n",
              "Not Verified            float64\n",
              "Source Verified         float64\n",
              "Verified                float64\n",
              "DIRECT_PAY              float64\n",
              "INDIVIDUAL              float64\n",
              "JOINT                   float64\n",
              "MORTGAGE                float64\n",
              "NONE                    float64\n",
              "OTHER                   float64\n",
              "OWN                     float64\n",
              "RENT                    float64\n",
              "sub_grade2                int64\n",
              "grade2                    int64\n",
              "loan_amnt               float64\n",
              "term                      int64\n",
              "int_rate                float64\n",
              "installment             float64\n",
              "emp_length                int64\n",
              "annual_inc              float64\n",
              "dti                     float64\n",
              "open_acc                  int64\n",
              "pub_rec                   int64\n",
              "revol_bal               float64\n",
              "revol_util              float64\n",
              "total_acc                 int64\n",
              "mort_acc                  int64\n",
              "pub_rec_bankruptcies      int64\n",
              "issue_month               int64\n",
              "issue_year                int64\n",
              "cr_month                  int64\n",
              "cr_year                   int64\n",
              "initial_list              int64\n",
              "dtype: object"
            ]
          },
          "execution_count": 85,
          "metadata": {},
          "output_type": "execute_result"
        }
      ],
      "source": [
        "X_train.dtypes"
      ]
    },
    {
      "cell_type": "code",
      "execution_count": null,
      "metadata": {
        "colab": {
          "base_uri": "https://localhost:8080/"
        },
        "id": "TOlYA7H4dGzC",
        "outputId": "a5fcefaf-d8e1-4649-e6b1-f3be68756f87"
      },
      "outputs": [
        {
          "data": {
            "text/plain": [
              "loan_status    object\n",
              "dtype: object"
            ]
          },
          "execution_count": 86,
          "metadata": {},
          "output_type": "execute_result"
        }
      ],
      "source": [
        "y_train.dtypes"
      ]
    },
    {
      "cell_type": "code",
      "execution_count": null,
      "metadata": {
        "colab": {
          "base_uri": "https://localhost:8080/",
          "height": 614
        },
        "id": "gqWug928dK0o",
        "outputId": "d9b537dc-3180-4da0-aa9c-6d297218a395"
      },
      "outputs": [
        {
          "name": "stderr",
          "output_type": "stream",
          "text": [
            "<ipython-input-87-6983358ee800>:2: SettingWithCopyWarning: \n",
            "A value is trying to be set on a copy of a slice from a DataFrame.\n",
            "Try using .loc[row_indexer,col_indexer] = value instead\n",
            "\n",
            "See the caveats in the documentation: https://pandas.pydata.org/pandas-docs/stable/user_guide/indexing.html#returning-a-view-versus-a-copy\n",
            "  y_train['loan_status2'] = y_train['loan_status'].apply(lambda status: 0 if status == 'Charged Off' else 1)\n",
            "<ipython-input-87-6983358ee800>:5: SettingWithCopyWarning: \n",
            "A value is trying to be set on a copy of a slice from a DataFrame\n",
            "\n",
            "See the caveats in the documentation: https://pandas.pydata.org/pandas-docs/stable/user_guide/indexing.html#returning-a-view-versus-a-copy\n",
            "  y_train.drop('loan_status', axis=1, inplace=True)\n"
          ]
        },
        {
          "data": {
            "text/html": [
              "\n",
              "  <div id=\"df-a0773f78-9897-4175-8930-8be313ce878b\">\n",
              "    <div class=\"colab-df-container\">\n",
              "      <div>\n",
              "<style scoped>\n",
              "    .dataframe tbody tr th:only-of-type {\n",
              "        vertical-align: middle;\n",
              "    }\n",
              "\n",
              "    .dataframe tbody tr th {\n",
              "        vertical-align: top;\n",
              "    }\n",
              "\n",
              "    .dataframe thead th {\n",
              "        text-align: right;\n",
              "    }\n",
              "</style>\n",
              "<table border=\"1\" class=\"dataframe\">\n",
              "  <thead>\n",
              "    <tr style=\"text-align: right;\">\n",
              "      <th></th>\n",
              "      <th>loan_status2</th>\n",
              "    </tr>\n",
              "  </thead>\n",
              "  <tbody>\n",
              "    <tr>\n",
              "      <th>0</th>\n",
              "      <td>0</td>\n",
              "    </tr>\n",
              "    <tr>\n",
              "      <th>1</th>\n",
              "      <td>1</td>\n",
              "    </tr>\n",
              "    <tr>\n",
              "      <th>2</th>\n",
              "      <td>1</td>\n",
              "    </tr>\n",
              "    <tr>\n",
              "      <th>3</th>\n",
              "      <td>1</td>\n",
              "    </tr>\n",
              "    <tr>\n",
              "      <th>4</th>\n",
              "      <td>1</td>\n",
              "    </tr>\n",
              "    <tr>\n",
              "      <th>...</th>\n",
              "      <td>...</td>\n",
              "    </tr>\n",
              "    <tr>\n",
              "      <th>89994</th>\n",
              "      <td>1</td>\n",
              "    </tr>\n",
              "    <tr>\n",
              "      <th>89995</th>\n",
              "      <td>1</td>\n",
              "    </tr>\n",
              "    <tr>\n",
              "      <th>89996</th>\n",
              "      <td>1</td>\n",
              "    </tr>\n",
              "    <tr>\n",
              "      <th>89997</th>\n",
              "      <td>1</td>\n",
              "    </tr>\n",
              "    <tr>\n",
              "      <th>89998</th>\n",
              "      <td>1</td>\n",
              "    </tr>\n",
              "  </tbody>\n",
              "</table>\n",
              "<p>76121 rows × 1 columns</p>\n",
              "</div>\n",
              "      <button class=\"colab-df-convert\" onclick=\"convertToInteractive('df-a0773f78-9897-4175-8930-8be313ce878b')\"\n",
              "              title=\"Convert this dataframe to an interactive table.\"\n",
              "              style=\"display:none;\">\n",
              "        \n",
              "  <svg xmlns=\"http://www.w3.org/2000/svg\" height=\"24px\"viewBox=\"0 0 24 24\"\n",
              "       width=\"24px\">\n",
              "    <path d=\"M0 0h24v24H0V0z\" fill=\"none\"/>\n",
              "    <path d=\"M18.56 5.44l.94 2.06.94-2.06 2.06-.94-2.06-.94-.94-2.06-.94 2.06-2.06.94zm-11 1L8.5 8.5l.94-2.06 2.06-.94-2.06-.94L8.5 2.5l-.94 2.06-2.06.94zm10 10l.94 2.06.94-2.06 2.06-.94-2.06-.94-.94-2.06-.94 2.06-2.06.94z\"/><path d=\"M17.41 7.96l-1.37-1.37c-.4-.4-.92-.59-1.43-.59-.52 0-1.04.2-1.43.59L10.3 9.45l-7.72 7.72c-.78.78-.78 2.05 0 2.83L4 21.41c.39.39.9.59 1.41.59.51 0 1.02-.2 1.41-.59l7.78-7.78 2.81-2.81c.8-.78.8-2.07 0-2.86zM5.41 20L4 18.59l7.72-7.72 1.47 1.35L5.41 20z\"/>\n",
              "  </svg>\n",
              "      </button>\n",
              "      \n",
              "  <style>\n",
              "    .colab-df-container {\n",
              "      display:flex;\n",
              "      flex-wrap:wrap;\n",
              "      gap: 12px;\n",
              "    }\n",
              "\n",
              "    .colab-df-convert {\n",
              "      background-color: #E8F0FE;\n",
              "      border: none;\n",
              "      border-radius: 50%;\n",
              "      cursor: pointer;\n",
              "      display: none;\n",
              "      fill: #1967D2;\n",
              "      height: 32px;\n",
              "      padding: 0 0 0 0;\n",
              "      width: 32px;\n",
              "    }\n",
              "\n",
              "    .colab-df-convert:hover {\n",
              "      background-color: #E2EBFA;\n",
              "      box-shadow: 0px 1px 2px rgba(60, 64, 67, 0.3), 0px 1px 3px 1px rgba(60, 64, 67, 0.15);\n",
              "      fill: #174EA6;\n",
              "    }\n",
              "\n",
              "    [theme=dark] .colab-df-convert {\n",
              "      background-color: #3B4455;\n",
              "      fill: #D2E3FC;\n",
              "    }\n",
              "\n",
              "    [theme=dark] .colab-df-convert:hover {\n",
              "      background-color: #434B5C;\n",
              "      box-shadow: 0px 1px 3px 1px rgba(0, 0, 0, 0.15);\n",
              "      filter: drop-shadow(0px 1px 2px rgba(0, 0, 0, 0.3));\n",
              "      fill: #FFFFFF;\n",
              "    }\n",
              "  </style>\n",
              "\n",
              "      <script>\n",
              "        const buttonEl =\n",
              "          document.querySelector('#df-a0773f78-9897-4175-8930-8be313ce878b button.colab-df-convert');\n",
              "        buttonEl.style.display =\n",
              "          google.colab.kernel.accessAllowed ? 'block' : 'none';\n",
              "\n",
              "        async function convertToInteractive(key) {\n",
              "          const element = document.querySelector('#df-a0773f78-9897-4175-8930-8be313ce878b');\n",
              "          const dataTable =\n",
              "            await google.colab.kernel.invokeFunction('convertToInteractive',\n",
              "                                                     [key], {});\n",
              "          if (!dataTable) return;\n",
              "\n",
              "          const docLinkHtml = 'Like what you see? Visit the ' +\n",
              "            '<a target=\"_blank\" href=https://colab.research.google.com/notebooks/data_table.ipynb>data table notebook</a>'\n",
              "            + ' to learn more about interactive tables.';\n",
              "          element.innerHTML = '';\n",
              "          dataTable['output_type'] = 'display_data';\n",
              "          await google.colab.output.renderOutput(dataTable, element);\n",
              "          const docLink = document.createElement('div');\n",
              "          docLink.innerHTML = docLinkHtml;\n",
              "          element.appendChild(docLink);\n",
              "        }\n",
              "      </script>\n",
              "    </div>\n",
              "  </div>\n",
              "  "
            ],
            "text/plain": [
              "       loan_status2\n",
              "0                 0\n",
              "1                 1\n",
              "2                 1\n",
              "3                 1\n",
              "4                 1\n",
              "...             ...\n",
              "89994             1\n",
              "89995             1\n",
              "89996             1\n",
              "89997             1\n",
              "89998             1\n",
              "\n",
              "[76121 rows x 1 columns]"
            ]
          },
          "execution_count": 87,
          "metadata": {},
          "output_type": "execute_result"
        }
      ],
      "source": [
        "# convert loan status to numeric\n",
        "y_train['loan_status2'] = y_train['loan_status'].apply(lambda status: 0 if status == 'Charged Off' else 1)\n",
        "\n",
        "# drop original column\n",
        "y_train.drop('loan_status', axis=1, inplace=True)\n",
        "\n",
        "y_train\n"
      ]
    },
    {
      "cell_type": "code",
      "execution_count": null,
      "metadata": {
        "colab": {
          "base_uri": "https://localhost:8080/"
        },
        "id": "Sng_sMoQlBAI",
        "outputId": "f323e96d-0fd5-4a8f-fe67-1e46342bddd8"
      },
      "outputs": [
        {
          "data": {
            "text/plain": [
              "(8491, 26)"
            ]
          },
          "execution_count": 88,
          "metadata": {},
          "output_type": "execute_result"
        }
      ],
      "source": [
        "# preprocess X_test in same manner as X_train to avoid feature names seen at fit time but now missing error in scalar\n",
        "# drop all rows with missing values\n",
        "X_test.dropna(how='any', inplace=True)\n",
        "X_test.shape"
      ]
    },
    {
      "cell_type": "code",
      "execution_count": null,
      "metadata": {
        "id": "8a47rRm2QyDV"
      },
      "outputs": [],
      "source": [
        "# convert employment years to numeric; 0.5 for less than 1 year; 10 for 10 years and more\n",
        "X_test['emp_length'] = X_test['emp_length'].replace(to_replace={'< 1 year': 0.5, '1 year': 1, '2 years': 2, '3 years': 3, '4 years': 4, '5 years': 5, '6 years': 6, '7 years': 7, '8 years': 8, '9 years': 9, '10+ years': 10})\n",
        "X_test['emp_length'] = X_test['emp_length'].astype('int64')\n",
        "\n",
        "# convert term to numeric, strip empty space\n",
        "X_test['term'] = X_test['term'].str.rstrip(' months')\n",
        "X_test['term'] = X_test['term'].str.replace(' ', '')\n",
        "X_test['term'] = X_test['term'].astype('int64')\n",
        "\n",
        "# convert open accounts to integers\n",
        "X_test['open_acc'] = X_test['open_acc'].astype('int64')\n",
        "\n",
        "# convert public record bankruptcies to integers\n",
        "X_test['pub_rec_bankruptcies'] = X_test['pub_rec_bankruptcies'].astype('int64')\n",
        "\n",
        "# convert mortgage accounts to integers\n",
        "X_test['mort_acc'] = X_test['mort_acc'].astype('int64')\n",
        "\n",
        "# convert total accounts to integers\n",
        "X_test['total_acc'] = X_test['total_acc'].astype('int64')\n",
        "\n",
        "# convert number of public records to integers\n",
        "X_test['pub_rec'] = X_test['pub_rec'].astype('int64')\n",
        "\n",
        "# convert revol_util to integer\n",
        "X_test['revol_util'] = X_test['revol_util'].astype('float')\n",
        "\n",
        "# convert revol_bal to integer\n",
        "X_test['revol_bal'] = X_test['revol_bal'].astype('float')\n"
      ]
    },
    {
      "cell_type": "code",
      "execution_count": null,
      "metadata": {
        "id": "XiPU1Y4iQPS9"
      },
      "outputs": [],
      "source": [
        "# convert issue date to month and year columns\n",
        "X_test['issue_d'] = pd.to_datetime(X_test['issue_d'])\n",
        "\n",
        "X_test['issue_month'] = X_test['issue_d'].apply(lambda date:date.month)\n",
        "X_test['issue_year'] = X_test['issue_d'].apply(lambda date:date.year)\n",
        "\n",
        "# Drop the original date column\n",
        "X_test.drop('issue_d', axis=1, inplace=True)\n",
        "\n",
        "# convert earliest credit line to month and year columns\n",
        "X_test['earliest_cr_line'] = pd.to_datetime(X_test['earliest_cr_line'])\n",
        "\n",
        "X_test['cr_month'] = X_test['earliest_cr_line'].apply(lambda date:date.month)\n",
        "X_test['cr_year'] = X_test['earliest_cr_line'].apply(lambda date:date.year)\n",
        "\n",
        "# Drop the original date column\n",
        "X_test.drop('earliest_cr_line', axis=1, inplace=True)\n",
        "\n",
        "# remove address column; it would be too many features to encode\n",
        "X_test.drop('address', axis=1, inplace=True)\n",
        "\n",
        "# drop title, too many options to encode\n",
        "X_test.drop('title', axis=1, inplace=True)\n",
        "\n",
        "# employment title has too many options to encode; drop it instead\n",
        "X_test.drop('emp_title', axis=1, inplace=True)"
      ]
    },
    {
      "cell_type": "code",
      "execution_count": null,
      "metadata": {
        "id": "KCgauyLTnMlE"
      },
      "outputs": [],
      "source": [
        "# encode grade as ordinal\n",
        "ordinal_encoder = OrdinalEncoder()\n",
        "grade_encoded = ordinal_encoder.fit_transform(X_test[['grade']])\n",
        "ordinal_encoder.categories_[0]\n",
        "grade_encoded_df = pd.DataFrame(grade_encoded, columns=['grade2'], index=X_test.index)\n",
        "X_test = pd.concat([grade_encoded_df, X_test], axis=1)\n",
        "\n",
        "# drop original column\n",
        "X_test.drop('grade', axis=1, inplace=True)\n",
        "\n",
        "# convert to integers\n",
        "X_test['grade2'] = X_test['grade2'].astype('int64')\n",
        "\n",
        "# encode subgrade as ordinal\n",
        "ordinal_encoder = OrdinalEncoder()\n",
        "grade_encoded = ordinal_encoder.fit_transform(X_test[['sub_grade']])\n",
        "ordinal_encoder.categories_[0]\n",
        "grade_encoded_df = pd.DataFrame(grade_encoded, columns=['sub_grade2'], index=X_test.index)\n",
        "X_test = pd.concat([grade_encoded_df, X_test], axis=1)\n",
        "\n",
        "# drop original column\n",
        "X_test.drop('sub_grade', axis=1, inplace=True)\n",
        "\n",
        "# convert  to integers\n",
        "X_test['sub_grade2'] = X_test['sub_grade2'].astype('int64')"
      ]
    },
    {
      "cell_type": "code",
      "execution_count": null,
      "metadata": {
        "id": "vThLNGsuFTxI"
      },
      "outputs": [],
      "source": [
        "# encode initial list status\n",
        "X_test[\"initial_list\"] = X_test[\"initial_list_status\"].apply(lambda status: 0 if status == 'w' else 1)\n",
        "\n",
        "# drop original column\n",
        "X_test.drop('initial_list_status', axis=1, inplace=True)\n",
        "\n",
        "# encode home ownership\n",
        "oh_encoder = OneHotEncoder()\n",
        "home_encoded = oh_encoder.fit_transform(X_test[['home_ownership']])\n",
        "home_encoded_df = pd.DataFrame(home_encoded.toarray(), columns=oh_encoder.categories_[0], index=X_test.index)\n",
        "X_test = pd.concat([home_encoded_df, X_test], axis=1)\n",
        "\n",
        "# drop original column\n",
        "X_test.drop('home_ownership', axis=1, inplace=True)\n",
        "\n",
        "# encode application type\n",
        "oh_encoder = OneHotEncoder()\n",
        "app_encoded = oh_encoder.fit_transform(X_test[['application_type']])\n",
        "app_encoded_df = pd.DataFrame(app_encoded.toarray(), columns=oh_encoder.categories_[0], index=X_test.index)\n",
        "X_test = pd.concat([app_encoded_df, X_test], axis=1)\n",
        "\n",
        "# drop original column\n",
        "X_test.drop('application_type', axis=1, inplace=True)\n",
        "\n",
        "# encode verification status\n",
        "oh_encoder = OneHotEncoder()\n",
        "ver_encoded = oh_encoder.fit_transform(X_test[['verification_status']])\n",
        "ver_encoded_df = pd.DataFrame(ver_encoded.toarray(), columns=oh_encoder.categories_[0], index=X_test.index)\n",
        "X_test = pd.concat([ver_encoded_df, X_test], axis=1)\n",
        "# drop original column\n",
        "X_test.drop('verification_status', axis=1, inplace=True)\n",
        "\n",
        "# encode purpose\n",
        "oh_encoder = OneHotEncoder()\n",
        "pur_encoded = oh_encoder.fit_transform(X_test[['purpose']])\n",
        "pur_encoded_df = pd.DataFrame(pur_encoded.toarray(), columns=oh_encoder.categories_[0], index=X_test.index)\n",
        "X_test = pd.concat([pur_encoded_df, X_test], axis=1)\n",
        "\n",
        "# drop original column\n",
        "X_test.drop('purpose', axis=1, inplace=True)\n"
      ]
    },
    {
      "cell_type": "code",
      "execution_count": null,
      "metadata": {
        "colab": {
          "base_uri": "https://localhost:8080/"
        },
        "id": "W-Z4pbsX0Zkk",
        "outputId": "7975899a-df2d-43e9-8784-2b3976b49ba5"
      },
      "outputs": [
        {
          "data": {
            "text/plain": [
              "Index(['car', 'credit_card', 'debt_consolidation', 'home_improvement', 'house',\n",
              "       'major_purchase', 'medical', 'moving', 'other', 'renewable_energy',\n",
              "       'small_business', 'vacation', 'wedding', 'Not Verified',\n",
              "       'Source Verified', 'Verified', 'DIRECT_PAY', 'INDIVIDUAL', 'JOINT',\n",
              "       'MORTGAGE', 'OWN', 'RENT', 'sub_grade2', 'grade2', 'loan_amnt', 'term',\n",
              "       'int_rate', 'installment', 'emp_length', 'annual_inc', 'dti',\n",
              "       'open_acc', 'pub_rec', 'revol_bal', 'revol_util', 'total_acc',\n",
              "       'mort_acc', 'pub_rec_bankruptcies', 'issue_month', 'issue_year',\n",
              "       'cr_month', 'cr_year', 'initial_list'],\n",
              "      dtype='object')"
            ]
          },
          "execution_count": 93,
          "metadata": {},
          "output_type": "execute_result"
        }
      ],
      "source": [
        "X_test.columns"
      ]
    },
    {
      "cell_type": "code",
      "execution_count": null,
      "metadata": {
        "colab": {
          "base_uri": "https://localhost:8080/"
        },
        "id": "EL4ZMnR9jJ1N",
        "outputId": "d8700307-ff18-49fe-f77e-0d6720838490"
      },
      "outputs": [
        {
          "data": {
            "text/plain": [
              "Index(['car', 'credit_card', 'debt_consolidation', 'home_improvement', 'house',\n",
              "       'major_purchase', 'medical', 'moving', 'other', 'renewable_energy',\n",
              "       'small_business', 'vacation', 'wedding', 'Not Verified',\n",
              "       'Source Verified', 'Verified', 'DIRECT_PAY', 'INDIVIDUAL', 'JOINT',\n",
              "       'MORTGAGE', 'NONE', 'OTHER', 'OWN', 'RENT', 'sub_grade2', 'grade2',\n",
              "       'loan_amnt', 'term', 'int_rate', 'installment', 'emp_length',\n",
              "       'annual_inc', 'dti', 'open_acc', 'pub_rec', 'revol_bal', 'revol_util',\n",
              "       'total_acc', 'mort_acc', 'pub_rec_bankruptcies', 'issue_month',\n",
              "       'issue_year', 'cr_month', 'cr_year', 'initial_list'],\n",
              "      dtype='object')"
            ]
          },
          "execution_count": 94,
          "metadata": {},
          "output_type": "execute_result"
        }
      ],
      "source": [
        "X_train.columns"
      ]
    },
    {
      "cell_type": "code",
      "execution_count": null,
      "metadata": {
        "id": "1iP8iMMY0sl7"
      },
      "outputs": [],
      "source": [
        "#  drop NONE and OTHER columns to avoid scaling error\n",
        "X_train.drop('NONE', axis=1, inplace=True)\n",
        "X_train.drop('OTHER', axis=1, inplace=True)"
      ]
    },
    {
      "cell_type": "code",
      "execution_count": null,
      "metadata": {
        "id": "u67tKuDIrpat"
      },
      "outputs": [],
      "source": [
        "x_train = X_train\n",
        "# scaling\n",
        "scaler = MinMaxScaler()\n",
        "scaler.fit(X_train)\n",
        "X_train = scaler.transform(X_train)\n",
        "X_test = scaler.transform(X_test)\n"
      ]
    },
    {
      "cell_type": "code",
      "execution_count": null,
      "metadata": {
        "colab": {
          "base_uri": "https://localhost:8080/"
        },
        "id": "Ji1ic3b9rpYj",
        "outputId": "c4736cc1-8de4-427d-e4c9-fe0511303dad"
      },
      "outputs": [
        {
          "data": {
            "text/plain": [
              "(76121, 43)"
            ]
          },
          "execution_count": 97,
          "metadata": {},
          "output_type": "execute_result"
        }
      ],
      "source": [
        "X_train.shape"
      ]
    },
    {
      "cell_type": "code",
      "execution_count": null,
      "metadata": {
        "colab": {
          "base_uri": "https://localhost:8080/"
        },
        "id": "3lsJqqbTPBg1",
        "outputId": "0e65befd-9cce-409d-c813-760d6fe00b3a"
      },
      "outputs": [
        {
          "data": {
            "text/plain": [
              "(76121, 1)"
            ]
          },
          "execution_count": 98,
          "metadata": {},
          "output_type": "execute_result"
        }
      ],
      "source": [
        "\n",
        "y_train.shape"
      ]
    },
    {
      "cell_type": "code",
      "execution_count": null,
      "metadata": {
        "colab": {
          "base_uri": "https://localhost:8080/"
        },
        "id": "POvk71YcSr8W",
        "outputId": "25a0820a-1acb-4d0a-ff32-9b170d9cf164"
      },
      "outputs": [
        {
          "data": {
            "text/plain": [
              "(8491, 43)"
            ]
          },
          "execution_count": 423,
          "metadata": {},
          "output_type": "execute_result"
        }
      ],
      "source": [
        "X_test.shape"
      ]
    },
    {
      "cell_type": "markdown",
      "metadata": {
        "id": "gHX4h5KabMNE"
      },
      "source": [
        "# Model definition, training, and validation"
      ]
    },
    {
      "cell_type": "code",
      "execution_count": null,
      "metadata": {
        "id": "5394JaZBriyv"
      },
      "outputs": [],
      "source": [
        "# keep original X_train; y_train\n",
        "X_train_full = X_train\n",
        "y_train_full = y_train\n",
        "\n",
        "# split training into validation set\n",
        "X_train, X_val, y_train, y_val = train_test_split(X_train, y_train, test_size=0.15, random_state=42)"
      ]
    },
    {
      "cell_type": "code",
      "execution_count": null,
      "metadata": {
        "colab": {
          "base_uri": "https://localhost:8080/"
        },
        "id": "KiVjheLjJZeG",
        "outputId": "3657b10b-2c17-4ed2-9b4e-51c91ebc4371"
      },
      "outputs": [
        {
          "data": {
            "text/plain": [
              "(64702, 43)"
            ]
          },
          "execution_count": 425,
          "metadata": {},
          "output_type": "execute_result"
        }
      ],
      "source": [
        "X_train.shape"
      ]
    },
    {
      "cell_type": "code",
      "execution_count": null,
      "metadata": {
        "colab": {
          "base_uri": "https://localhost:8080/"
        },
        "id": "dPSputdrL_74",
        "outputId": "6ae99cd7-bfd9-4df0-a7d7-a3d69e479bc8"
      },
      "outputs": [
        {
          "data": {
            "text/plain": [
              "(64702, 1)"
            ]
          },
          "execution_count": 426,
          "metadata": {},
          "output_type": "execute_result"
        }
      ],
      "source": [
        "y_train.shape"
      ]
    },
    {
      "cell_type": "code",
      "execution_count": null,
      "metadata": {
        "colab": {
          "base_uri": "https://localhost:8080/"
        },
        "id": "LX8VY3ytJZMv",
        "outputId": "f0c8a0f1-8c38-407b-cb0e-5cd7a7f4ad1b"
      },
      "outputs": [
        {
          "data": {
            "text/plain": [
              "(11419, 43)"
            ]
          },
          "execution_count": 427,
          "metadata": {},
          "output_type": "execute_result"
        }
      ],
      "source": [
        "X_val.shape"
      ]
    },
    {
      "cell_type": "code",
      "execution_count": null,
      "metadata": {
        "colab": {
          "base_uri": "https://localhost:8080/"
        },
        "id": "HbRirWbeL-sP",
        "outputId": "8a6b4cd4-36d9-4a27-efe4-fdd7e95b98db"
      },
      "outputs": [
        {
          "data": {
            "text/plain": [
              "(11419, 1)"
            ]
          },
          "execution_count": 428,
          "metadata": {},
          "output_type": "execute_result"
        }
      ],
      "source": [
        "y_val.shape"
      ]
    },
    {
      "cell_type": "code",
      "execution_count": null,
      "metadata": {
        "id": "rN3do4qarivZ"
      },
      "outputs": [],
      "source": [
        "model = Sequential()\n",
        "\n",
        "model.add(Dense(units=30,activation='relu'))\n",
        "\n",
        "model.add(Dense(units=15,activation='relu'))\n",
        "\n",
        "model.add(Dense(units=1,activation='sigmoid'))\n",
        "\n",
        "# For a binary classification problem\n",
        "model.compile(loss='binary_crossentropy', optimizer='adam')"
      ]
    },
    {
      "cell_type": "code",
      "execution_count": null,
      "metadata": {
        "colab": {
          "base_uri": "https://localhost:8080/"
        },
        "id": "5d3fBa0irisr",
        "outputId": "fd4744a7-9611-43d2-a3dc-0c3bb1e696e3"
      },
      "outputs": [
        {
          "name": "stdout",
          "output_type": "stream",
          "text": [
            "Epoch 1/400\n",
            "2022/2022 [==============================] - 8s 3ms/step - loss: 0.4557 - val_loss: 0.4530\n",
            "Epoch 2/400\n",
            "2022/2022 [==============================] - 5s 2ms/step - loss: 0.4483 - val_loss: 0.4482\n",
            "Epoch 3/400\n",
            "2022/2022 [==============================] - 5s 2ms/step - loss: 0.4468 - val_loss: 0.4472\n",
            "Epoch 4/400\n",
            "2022/2022 [==============================] - 6s 3ms/step - loss: 0.4456 - val_loss: 0.4457\n",
            "Epoch 5/400\n",
            "2022/2022 [==============================] - 5s 2ms/step - loss: 0.4448 - val_loss: 0.4456\n",
            "Epoch 6/400\n",
            "2022/2022 [==============================] - 7s 3ms/step - loss: 0.4437 - val_loss: 0.4454\n",
            "Epoch 7/400\n",
            "2022/2022 [==============================] - 5s 3ms/step - loss: 0.4429 - val_loss: 0.4442\n",
            "Epoch 8/400\n",
            "2022/2022 [==============================] - 5s 3ms/step - loss: 0.4423 - val_loss: 0.4470\n",
            "Epoch 9/400\n",
            "2022/2022 [==============================] - 6s 3ms/step - loss: 0.4418 - val_loss: 0.4440\n",
            "Epoch 10/400\n",
            "2022/2022 [==============================] - 5s 2ms/step - loss: 0.4414 - val_loss: 0.4426\n",
            "Epoch 11/400\n",
            "2022/2022 [==============================] - 5s 2ms/step - loss: 0.4408 - val_loss: 0.4448\n",
            "Epoch 12/400\n",
            "2022/2022 [==============================] - 6s 3ms/step - loss: 0.4401 - val_loss: 0.4436\n",
            "Epoch 13/400\n",
            "2022/2022 [==============================] - 5s 2ms/step - loss: 0.4399 - val_loss: 0.4440\n",
            "Epoch 14/400\n",
            "2022/2022 [==============================] - 5s 3ms/step - loss: 0.4394 - val_loss: 0.4494\n",
            "Epoch 15/400\n",
            "2022/2022 [==============================] - 5s 3ms/step - loss: 0.4388 - val_loss: 0.4438\n",
            "Epoch 16/400\n",
            "2022/2022 [==============================] - 5s 2ms/step - loss: 0.4386 - val_loss: 0.4430\n",
            "Epoch 17/400\n",
            "2022/2022 [==============================] - 6s 3ms/step - loss: 0.4380 - val_loss: 0.4441\n",
            "Epoch 18/400\n",
            "2022/2022 [==============================] - 5s 3ms/step - loss: 0.4379 - val_loss: 0.4453\n",
            "Epoch 19/400\n",
            "2022/2022 [==============================] - 6s 3ms/step - loss: 0.4373 - val_loss: 0.4453\n",
            "Epoch 20/400\n",
            "2022/2022 [==============================] - 6s 3ms/step - loss: 0.4371 - val_loss: 0.4449\n",
            "Epoch 21/400\n",
            "2022/2022 [==============================] - 4s 2ms/step - loss: 0.4367 - val_loss: 0.4470\n",
            "Epoch 22/400\n",
            "2022/2022 [==============================] - 5s 2ms/step - loss: 0.4364 - val_loss: 0.4437\n",
            "Epoch 23/400\n",
            "2022/2022 [==============================] - 6s 3ms/step - loss: 0.4359 - val_loss: 0.4435\n",
            "Epoch 24/400\n",
            "2022/2022 [==============================] - 5s 2ms/step - loss: 0.4355 - val_loss: 0.4439\n",
            "Epoch 25/400\n",
            "2022/2022 [==============================] - 5s 2ms/step - loss: 0.4353 - val_loss: 0.4428\n",
            "Epoch 26/400\n",
            "2022/2022 [==============================] - 6s 3ms/step - loss: 0.4351 - val_loss: 0.4444\n",
            "Epoch 27/400\n",
            "2022/2022 [==============================] - 5s 2ms/step - loss: 0.4350 - val_loss: 0.4437\n",
            "Epoch 28/400\n",
            "2022/2022 [==============================] - 5s 3ms/step - loss: 0.4348 - val_loss: 0.4479\n",
            "Epoch 29/400\n",
            "2022/2022 [==============================] - 5s 3ms/step - loss: 0.4346 - val_loss: 0.4440\n",
            "Epoch 30/400\n",
            "2022/2022 [==============================] - 5s 2ms/step - loss: 0.4342 - val_loss: 0.4444\n",
            "Epoch 31/400\n",
            "2022/2022 [==============================] - 6s 3ms/step - loss: 0.4341 - val_loss: 0.4453\n",
            "Epoch 32/400\n",
            "2022/2022 [==============================] - 5s 2ms/step - loss: 0.4340 - val_loss: 0.4451\n",
            "Epoch 33/400\n",
            "2022/2022 [==============================] - 5s 2ms/step - loss: 0.4335 - val_loss: 0.4456\n",
            "Epoch 34/400\n",
            "2022/2022 [==============================] - 7s 3ms/step - loss: 0.4336 - val_loss: 0.4448\n",
            "Epoch 35/400\n",
            "2022/2022 [==============================] - 5s 2ms/step - loss: 0.4333 - val_loss: 0.4442\n",
            "Epoch 36/400\n",
            "2022/2022 [==============================] - 5s 2ms/step - loss: 0.4331 - val_loss: 0.4458\n",
            "Epoch 37/400\n",
            "2022/2022 [==============================] - 6s 3ms/step - loss: 0.4326 - val_loss: 0.4444\n",
            "Epoch 38/400\n",
            "2022/2022 [==============================] - 4s 2ms/step - loss: 0.4326 - val_loss: 0.4460\n",
            "Epoch 39/400\n",
            "2022/2022 [==============================] - 5s 2ms/step - loss: 0.4326 - val_loss: 0.4456\n",
            "Epoch 40/400\n",
            "2022/2022 [==============================] - 6s 3ms/step - loss: 0.4321 - val_loss: 0.4452\n",
            "Epoch 41/400\n",
            "2022/2022 [==============================] - 5s 2ms/step - loss: 0.4321 - val_loss: 0.4457\n",
            "Epoch 42/400\n",
            "2022/2022 [==============================] - 5s 3ms/step - loss: 0.4315 - val_loss: 0.4460\n",
            "Epoch 43/400\n",
            "2022/2022 [==============================] - 6s 3ms/step - loss: 0.4315 - val_loss: 0.4461\n",
            "Epoch 44/400\n",
            "2022/2022 [==============================] - 5s 2ms/step - loss: 0.4315 - val_loss: 0.4462\n",
            "Epoch 45/400\n",
            "2022/2022 [==============================] - 6s 3ms/step - loss: 0.4311 - val_loss: 0.4451\n",
            "Epoch 46/400\n",
            "2022/2022 [==============================] - 5s 2ms/step - loss: 0.4314 - val_loss: 0.4454\n",
            "Epoch 47/400\n",
            "2022/2022 [==============================] - 5s 2ms/step - loss: 0.4307 - val_loss: 0.4492\n",
            "Epoch 48/400\n",
            "2022/2022 [==============================] - 6s 3ms/step - loss: 0.4310 - val_loss: 0.4488\n",
            "Epoch 49/400\n",
            "2022/2022 [==============================] - 5s 3ms/step - loss: 0.4306 - val_loss: 0.4461\n",
            "Epoch 50/400\n",
            "2022/2022 [==============================] - 6s 3ms/step - loss: 0.4305 - val_loss: 0.4454\n",
            "Epoch 51/400\n",
            "2022/2022 [==============================] - 6s 3ms/step - loss: 0.4305 - val_loss: 0.4478\n",
            "Epoch 52/400\n",
            "2022/2022 [==============================] - 5s 2ms/step - loss: 0.4305 - val_loss: 0.4455\n",
            "Epoch 53/400\n",
            "2022/2022 [==============================] - 7s 3ms/step - loss: 0.4301 - val_loss: 0.4467\n",
            "Epoch 54/400\n",
            "2022/2022 [==============================] - 5s 2ms/step - loss: 0.4301 - val_loss: 0.4469\n",
            "Epoch 55/400\n",
            "2022/2022 [==============================] - 6s 3ms/step - loss: 0.4299 - val_loss: 0.4474\n",
            "Epoch 56/400\n",
            "2022/2022 [==============================] - 6s 3ms/step - loss: 0.4298 - val_loss: 0.4490\n",
            "Epoch 57/400\n",
            "2022/2022 [==============================] - 5s 2ms/step - loss: 0.4295 - val_loss: 0.4479\n",
            "Epoch 58/400\n",
            "2022/2022 [==============================] - 6s 3ms/step - loss: 0.4299 - val_loss: 0.4469\n",
            "Epoch 59/400\n",
            "2022/2022 [==============================] - 5s 3ms/step - loss: 0.4296 - val_loss: 0.4468\n",
            "Epoch 60/400\n",
            "2022/2022 [==============================] - 5s 2ms/step - loss: 0.4296 - val_loss: 0.4488\n",
            "Epoch 61/400\n",
            "2022/2022 [==============================] - 6s 3ms/step - loss: 0.4293 - val_loss: 0.4533\n",
            "Epoch 62/400\n",
            "2022/2022 [==============================] - 5s 2ms/step - loss: 0.4295 - val_loss: 0.4491\n",
            "Epoch 63/400\n",
            "2022/2022 [==============================] - 5s 2ms/step - loss: 0.4290 - val_loss: 0.4553\n",
            "Epoch 64/400\n",
            "2022/2022 [==============================] - 6s 3ms/step - loss: 0.4290 - val_loss: 0.4487\n",
            "Epoch 65/400\n",
            "2022/2022 [==============================] - 5s 2ms/step - loss: 0.4291 - val_loss: 0.4541\n",
            "Epoch 66/400\n",
            "2022/2022 [==============================] - 6s 3ms/step - loss: 0.4288 - val_loss: 0.4515\n",
            "Epoch 67/400\n",
            "2022/2022 [==============================] - 6s 3ms/step - loss: 0.4289 - val_loss: 0.4495\n",
            "Epoch 68/400\n",
            "2022/2022 [==============================] - 5s 2ms/step - loss: 0.4289 - val_loss: 0.4502\n",
            "Epoch 69/400\n",
            "2022/2022 [==============================] - 6s 3ms/step - loss: 0.4290 - val_loss: 0.4480\n",
            "Epoch 70/400\n",
            "2022/2022 [==============================] - 5s 2ms/step - loss: 0.4286 - val_loss: 0.4482\n",
            "Epoch 71/400\n",
            "2022/2022 [==============================] - 5s 2ms/step - loss: 0.4285 - val_loss: 0.4508\n",
            "Epoch 72/400\n",
            "2022/2022 [==============================] - 6s 3ms/step - loss: 0.4283 - val_loss: 0.4521\n",
            "Epoch 73/400\n",
            "2022/2022 [==============================] - 5s 2ms/step - loss: 0.4282 - val_loss: 0.4475\n",
            "Epoch 74/400\n",
            "2022/2022 [==============================] - 5s 2ms/step - loss: 0.4281 - val_loss: 0.4479\n",
            "Epoch 75/400\n",
            "2022/2022 [==============================] - 6s 3ms/step - loss: 0.4282 - val_loss: 0.4479\n",
            "Epoch 76/400\n",
            "2022/2022 [==============================] - 5s 2ms/step - loss: 0.4281 - val_loss: 0.4486\n",
            "Epoch 77/400\n",
            "2022/2022 [==============================] - 5s 3ms/step - loss: 0.4280 - val_loss: 0.4496\n",
            "Epoch 78/400\n",
            "2022/2022 [==============================] - 6s 3ms/step - loss: 0.4278 - val_loss: 0.4480\n",
            "Epoch 79/400\n",
            "2022/2022 [==============================] - 5s 2ms/step - loss: 0.4277 - val_loss: 0.4491\n",
            "Epoch 80/400\n",
            "2022/2022 [==============================] - 6s 3ms/step - loss: 0.4276 - val_loss: 0.4490\n",
            "Epoch 81/400\n",
            "2022/2022 [==============================] - 5s 3ms/step - loss: 0.4277 - val_loss: 0.4488\n",
            "Epoch 82/400\n",
            "2022/2022 [==============================] - 5s 2ms/step - loss: 0.4274 - val_loss: 0.4492\n",
            "Epoch 83/400\n",
            "2022/2022 [==============================] - 6s 3ms/step - loss: 0.4276 - val_loss: 0.4505\n",
            "Epoch 84/400\n",
            "2022/2022 [==============================] - 5s 2ms/step - loss: 0.4274 - val_loss: 0.4505\n",
            "Epoch 85/400\n",
            "2022/2022 [==============================] - 5s 2ms/step - loss: 0.4273 - val_loss: 0.4523\n",
            "Epoch 86/400\n",
            "2022/2022 [==============================] - 6s 3ms/step - loss: 0.4272 - val_loss: 0.4502\n",
            "Epoch 87/400\n",
            "2022/2022 [==============================] - 5s 2ms/step - loss: 0.4269 - val_loss: 0.4488\n",
            "Epoch 88/400\n",
            "2022/2022 [==============================] - 5s 2ms/step - loss: 0.4271 - val_loss: 0.4511\n",
            "Epoch 89/400\n",
            "2022/2022 [==============================] - 6s 3ms/step - loss: 0.4268 - val_loss: 0.4490\n",
            "Epoch 90/400\n",
            "2022/2022 [==============================] - 5s 2ms/step - loss: 0.4272 - val_loss: 0.4508\n",
            "Epoch 91/400\n",
            "2022/2022 [==============================] - 6s 3ms/step - loss: 0.4267 - val_loss: 0.4512\n",
            "Epoch 92/400\n",
            "2022/2022 [==============================] - 5s 3ms/step - loss: 0.4269 - val_loss: 0.4509\n",
            "Epoch 93/400\n",
            "2022/2022 [==============================] - 5s 2ms/step - loss: 0.4270 - val_loss: 0.4537\n",
            "Epoch 94/400\n",
            "2022/2022 [==============================] - 6s 3ms/step - loss: 0.4269 - val_loss: 0.4499\n",
            "Epoch 95/400\n",
            "2022/2022 [==============================] - 5s 2ms/step - loss: 0.4269 - val_loss: 0.4497\n",
            "Epoch 96/400\n",
            "2022/2022 [==============================] - 4s 2ms/step - loss: 0.4265 - val_loss: 0.4502\n",
            "Epoch 97/400\n",
            "2022/2022 [==============================] - 6s 3ms/step - loss: 0.4265 - val_loss: 0.4503\n",
            "Epoch 98/400\n",
            "2022/2022 [==============================] - 5s 2ms/step - loss: 0.4264 - val_loss: 0.4507\n",
            "Epoch 99/400\n",
            "2022/2022 [==============================] - 5s 2ms/step - loss: 0.4265 - val_loss: 0.4496\n",
            "Epoch 100/400\n",
            "2022/2022 [==============================] - 6s 3ms/step - loss: 0.4262 - val_loss: 0.4511\n",
            "Epoch 101/400\n",
            "2022/2022 [==============================] - 5s 2ms/step - loss: 0.4263 - val_loss: 0.4512\n",
            "Epoch 102/400\n",
            "2022/2022 [==============================] - 5s 2ms/step - loss: 0.4263 - val_loss: 0.4504\n",
            "Epoch 103/400\n",
            "2022/2022 [==============================] - 6s 3ms/step - loss: 0.4264 - val_loss: 0.4516\n",
            "Epoch 104/400\n",
            "2022/2022 [==============================] - 5s 2ms/step - loss: 0.4264 - val_loss: 0.4503\n",
            "Epoch 105/400\n",
            "2022/2022 [==============================] - 5s 3ms/step - loss: 0.4261 - val_loss: 0.4529\n",
            "Epoch 106/400\n",
            "2022/2022 [==============================] - 6s 3ms/step - loss: 0.4260 - val_loss: 0.4502\n",
            "Epoch 107/400\n",
            "2022/2022 [==============================] - 5s 2ms/step - loss: 0.4257 - val_loss: 0.4515\n",
            "Epoch 108/400\n",
            "2022/2022 [==============================] - 6s 3ms/step - loss: 0.4259 - val_loss: 0.4519\n",
            "Epoch 109/400\n",
            "2022/2022 [==============================] - 5s 3ms/step - loss: 0.4258 - val_loss: 0.4534\n",
            "Epoch 110/400\n",
            "2022/2022 [==============================] - 5s 2ms/step - loss: 0.4259 - val_loss: 0.4513\n",
            "Epoch 111/400\n",
            "2022/2022 [==============================] - 6s 3ms/step - loss: 0.4258 - val_loss: 0.4528\n",
            "Epoch 112/400\n",
            "2022/2022 [==============================] - 5s 2ms/step - loss: 0.4259 - val_loss: 0.4519\n",
            "Epoch 113/400\n",
            "2022/2022 [==============================] - 5s 2ms/step - loss: 0.4258 - val_loss: 0.4519\n",
            "Epoch 114/400\n",
            "2022/2022 [==============================] - 6s 3ms/step - loss: 0.4258 - val_loss: 0.4514\n",
            "Epoch 115/400\n",
            "2022/2022 [==============================] - 4s 2ms/step - loss: 0.4253 - val_loss: 0.4520\n",
            "Epoch 116/400\n",
            "2022/2022 [==============================] - 4s 2ms/step - loss: 0.4254 - val_loss: 0.4538\n",
            "Epoch 117/400\n",
            "2022/2022 [==============================] - 6s 3ms/step - loss: 0.4255 - val_loss: 0.4534\n",
            "Epoch 118/400\n",
            "2022/2022 [==============================] - 5s 2ms/step - loss: 0.4257 - val_loss: 0.4511\n",
            "Epoch 119/400\n",
            "2022/2022 [==============================] - 5s 2ms/step - loss: 0.4254 - val_loss: 0.4524\n",
            "Epoch 120/400\n",
            "2022/2022 [==============================] - 6s 3ms/step - loss: 0.4252 - val_loss: 0.4523\n",
            "Epoch 121/400\n",
            "2022/2022 [==============================] - 5s 2ms/step - loss: 0.4254 - val_loss: 0.4531\n",
            "Epoch 122/400\n",
            "2022/2022 [==============================] - 6s 3ms/step - loss: 0.4254 - val_loss: 0.4495\n",
            "Epoch 123/400\n",
            "2022/2022 [==============================] - 5s 3ms/step - loss: 0.4251 - val_loss: 0.4523\n",
            "Epoch 124/400\n",
            "2022/2022 [==============================] - 5s 2ms/step - loss: 0.4253 - val_loss: 0.4536\n",
            "Epoch 125/400\n",
            "2022/2022 [==============================] - 6s 3ms/step - loss: 0.4251 - val_loss: 0.4517\n",
            "Epoch 126/400\n",
            "2022/2022 [==============================] - 5s 2ms/step - loss: 0.4250 - val_loss: 0.4535\n",
            "Epoch 127/400\n",
            "2022/2022 [==============================] - 5s 2ms/step - loss: 0.4249 - val_loss: 0.4526\n",
            "Epoch 128/400\n",
            "2022/2022 [==============================] - 6s 3ms/step - loss: 0.4249 - val_loss: 0.4516\n",
            "Epoch 129/400\n",
            "2022/2022 [==============================] - 5s 2ms/step - loss: 0.4246 - val_loss: 0.4573\n",
            "Epoch 130/400\n",
            "2022/2022 [==============================] - 5s 2ms/step - loss: 0.4247 - val_loss: 0.4506\n",
            "Epoch 131/400\n",
            "2022/2022 [==============================] - 6s 3ms/step - loss: 0.4247 - val_loss: 0.4554\n",
            "Epoch 132/400\n",
            "2022/2022 [==============================] - 5s 2ms/step - loss: 0.4249 - val_loss: 0.4517\n",
            "Epoch 133/400\n",
            "2022/2022 [==============================] - 5s 3ms/step - loss: 0.4245 - val_loss: 0.4541\n",
            "Epoch 134/400\n",
            "2022/2022 [==============================] - 5s 3ms/step - loss: 0.4248 - val_loss: 0.4539\n",
            "Epoch 135/400\n",
            "2022/2022 [==============================] - 4s 2ms/step - loss: 0.4247 - val_loss: 0.4549\n",
            "Epoch 136/400\n",
            "2022/2022 [==============================] - 5s 3ms/step - loss: 0.4241 - val_loss: 0.4564\n",
            "Epoch 137/400\n",
            "2022/2022 [==============================] - 5s 3ms/step - loss: 0.4245 - val_loss: 0.4533\n",
            "Epoch 138/400\n",
            "2022/2022 [==============================] - 5s 2ms/step - loss: 0.4246 - val_loss: 0.4531\n",
            "Epoch 139/400\n",
            "2022/2022 [==============================] - 6s 3ms/step - loss: 0.4245 - val_loss: 0.4533\n",
            "Epoch 140/400\n",
            "2022/2022 [==============================] - 5s 2ms/step - loss: 0.4245 - val_loss: 0.4549\n",
            "Epoch 141/400\n",
            "2022/2022 [==============================] - 5s 2ms/step - loss: 0.4243 - val_loss: 0.4570\n",
            "Epoch 142/400\n",
            "2022/2022 [==============================] - 6s 3ms/step - loss: 0.4243 - val_loss: 0.4524\n",
            "Epoch 143/400\n",
            "2022/2022 [==============================] - 4s 2ms/step - loss: 0.4241 - val_loss: 0.4543\n",
            "Epoch 144/400\n",
            "2022/2022 [==============================] - 5s 2ms/step - loss: 0.4242 - val_loss: 0.4537\n",
            "Epoch 145/400\n",
            "2022/2022 [==============================] - 6s 3ms/step - loss: 0.4242 - val_loss: 0.4535\n",
            "Epoch 146/400\n",
            "2022/2022 [==============================] - 5s 2ms/step - loss: 0.4240 - val_loss: 0.4564\n",
            "Epoch 147/400\n",
            "2022/2022 [==============================] - 5s 2ms/step - loss: 0.4243 - val_loss: 0.4528\n",
            "Epoch 148/400\n",
            "2022/2022 [==============================] - 6s 3ms/step - loss: 0.4240 - val_loss: 0.4520\n",
            "Epoch 149/400\n",
            "2022/2022 [==============================] - 5s 2ms/step - loss: 0.4241 - val_loss: 0.4538\n",
            "Epoch 150/400\n",
            "2022/2022 [==============================] - 6s 3ms/step - loss: 0.4240 - val_loss: 0.4532\n",
            "Epoch 151/400\n",
            "2022/2022 [==============================] - 5s 3ms/step - loss: 0.4240 - val_loss: 0.4535\n",
            "Epoch 152/400\n",
            "2022/2022 [==============================] - 4s 2ms/step - loss: 0.4239 - val_loss: 0.4536\n",
            "Epoch 153/400\n",
            "2022/2022 [==============================] - 6s 3ms/step - loss: 0.4239 - val_loss: 0.4548\n",
            "Epoch 154/400\n",
            "2022/2022 [==============================] - 5s 3ms/step - loss: 0.4238 - val_loss: 0.4550\n",
            "Epoch 155/400\n",
            "2022/2022 [==============================] - 5s 2ms/step - loss: 0.4239 - val_loss: 0.4544\n",
            "Epoch 156/400\n",
            "2022/2022 [==============================] - 6s 3ms/step - loss: 0.4240 - val_loss: 0.4557\n",
            "Epoch 157/400\n",
            "2022/2022 [==============================] - 5s 2ms/step - loss: 0.4237 - val_loss: 0.4542\n",
            "Epoch 158/400\n",
            "2022/2022 [==============================] - 5s 2ms/step - loss: 0.4237 - val_loss: 0.4536\n",
            "Epoch 159/400\n",
            "2022/2022 [==============================] - 6s 3ms/step - loss: 0.4235 - val_loss: 0.4555\n",
            "Epoch 160/400\n",
            "2022/2022 [==============================] - 5s 2ms/step - loss: 0.4236 - val_loss: 0.4540\n",
            "Epoch 161/400\n",
            "2022/2022 [==============================] - 5s 2ms/step - loss: 0.4238 - val_loss: 0.4534\n",
            "Epoch 162/400\n",
            "2022/2022 [==============================] - 6s 3ms/step - loss: 0.4236 - val_loss: 0.4541\n",
            "Epoch 163/400\n",
            "2022/2022 [==============================] - 5s 2ms/step - loss: 0.4235 - val_loss: 0.4557\n",
            "Epoch 164/400\n",
            "2022/2022 [==============================] - 5s 2ms/step - loss: 0.4234 - val_loss: 0.4550\n",
            "Epoch 165/400\n",
            "2022/2022 [==============================] - 6s 3ms/step - loss: 0.4234 - val_loss: 0.4577\n",
            "Epoch 166/400\n",
            "2022/2022 [==============================] - 5s 2ms/step - loss: 0.4233 - val_loss: 0.4563\n",
            "Epoch 167/400\n",
            "2022/2022 [==============================] - 6s 3ms/step - loss: 0.4234 - val_loss: 0.4566\n",
            "Epoch 168/400\n",
            "2022/2022 [==============================] - 5s 3ms/step - loss: 0.4235 - val_loss: 0.4553\n",
            "Epoch 169/400\n",
            "2022/2022 [==============================] - 5s 2ms/step - loss: 0.4234 - val_loss: 0.4516\n",
            "Epoch 170/400\n",
            "2022/2022 [==============================] - 7s 3ms/step - loss: 0.4235 - val_loss: 0.4548\n",
            "Epoch 171/400\n",
            "2022/2022 [==============================] - 5s 2ms/step - loss: 0.4234 - val_loss: 0.4567\n",
            "Epoch 172/400\n",
            "2022/2022 [==============================] - 5s 2ms/step - loss: 0.4231 - val_loss: 0.4551\n",
            "Epoch 173/400\n",
            "2022/2022 [==============================] - 6s 3ms/step - loss: 0.4231 - val_loss: 0.4574\n",
            "Epoch 174/400\n",
            "2022/2022 [==============================] - 5s 2ms/step - loss: 0.4231 - val_loss: 0.4546\n",
            "Epoch 175/400\n",
            "2022/2022 [==============================] - 6s 3ms/step - loss: 0.4231 - val_loss: 0.4557\n",
            "Epoch 176/400\n",
            "2022/2022 [==============================] - 5s 3ms/step - loss: 0.4233 - val_loss: 0.4560\n",
            "Epoch 177/400\n",
            "2022/2022 [==============================] - 5s 2ms/step - loss: 0.4233 - val_loss: 0.4532\n",
            "Epoch 178/400\n",
            "2022/2022 [==============================] - 6s 3ms/step - loss: 0.4230 - val_loss: 0.4563\n",
            "Epoch 179/400\n",
            "2022/2022 [==============================] - 5s 3ms/step - loss: 0.4226 - val_loss: 0.4578\n",
            "Epoch 180/400\n",
            "2022/2022 [==============================] - 5s 2ms/step - loss: 0.4232 - val_loss: 0.4564\n",
            "Epoch 181/400\n",
            "2022/2022 [==============================] - 6s 3ms/step - loss: 0.4229 - val_loss: 0.4573\n",
            "Epoch 182/400\n",
            "2022/2022 [==============================] - 5s 2ms/step - loss: 0.4227 - val_loss: 0.4602\n",
            "Epoch 183/400\n",
            "2022/2022 [==============================] - 5s 2ms/step - loss: 0.4231 - val_loss: 0.4550\n",
            "Epoch 184/400\n",
            "2022/2022 [==============================] - 7s 3ms/step - loss: 0.4229 - val_loss: 0.4561\n",
            "Epoch 185/400\n",
            "2022/2022 [==============================] - 5s 2ms/step - loss: 0.4228 - val_loss: 0.4566\n",
            "Epoch 186/400\n",
            "2022/2022 [==============================] - 5s 2ms/step - loss: 0.4227 - val_loss: 0.4579\n",
            "Epoch 187/400\n",
            "2022/2022 [==============================] - 6s 3ms/step - loss: 0.4227 - val_loss: 0.4566\n",
            "Epoch 188/400\n",
            "2022/2022 [==============================] - 5s 2ms/step - loss: 0.4228 - val_loss: 0.4574\n",
            "Epoch 189/400\n",
            "2022/2022 [==============================] - 5s 2ms/step - loss: 0.4225 - val_loss: 0.4557\n",
            "Epoch 190/400\n",
            "2022/2022 [==============================] - 6s 3ms/step - loss: 0.4226 - val_loss: 0.4570\n",
            "Epoch 191/400\n",
            "2022/2022 [==============================] - 5s 2ms/step - loss: 0.4226 - val_loss: 0.4549\n",
            "Epoch 192/400\n",
            "2022/2022 [==============================] - 5s 3ms/step - loss: 0.4228 - val_loss: 0.4541\n",
            "Epoch 193/400\n",
            "2022/2022 [==============================] - 6s 3ms/step - loss: 0.4226 - val_loss: 0.4563\n",
            "Epoch 194/400\n",
            "2022/2022 [==============================] - 5s 2ms/step - loss: 0.4222 - val_loss: 0.4565\n",
            "Epoch 195/400\n",
            "2022/2022 [==============================] - 6s 3ms/step - loss: 0.4224 - val_loss: 0.4601\n",
            "Epoch 196/400\n",
            "2022/2022 [==============================] - 5s 2ms/step - loss: 0.4225 - val_loss: 0.4580\n",
            "Epoch 197/400\n",
            "2022/2022 [==============================] - 4s 2ms/step - loss: 0.4223 - val_loss: 0.4569\n",
            "Epoch 198/400\n",
            "2022/2022 [==============================] - 6s 3ms/step - loss: 0.4224 - val_loss: 0.4576\n",
            "Epoch 199/400\n",
            "2022/2022 [==============================] - 5s 2ms/step - loss: 0.4225 - val_loss: 0.4574\n",
            "Epoch 200/400\n",
            "2022/2022 [==============================] - 5s 2ms/step - loss: 0.4225 - val_loss: 0.4576\n",
            "Epoch 201/400\n",
            "2022/2022 [==============================] - 6s 3ms/step - loss: 0.4223 - val_loss: 0.4606\n",
            "Epoch 202/400\n",
            "2022/2022 [==============================] - 5s 2ms/step - loss: 0.4222 - val_loss: 0.4569\n",
            "Epoch 203/400\n",
            "2022/2022 [==============================] - 5s 2ms/step - loss: 0.4225 - val_loss: 0.4607\n",
            "Epoch 204/400\n",
            "2022/2022 [==============================] - 6s 3ms/step - loss: 0.4223 - val_loss: 0.4588\n",
            "Epoch 205/400\n",
            "2022/2022 [==============================] - 5s 2ms/step - loss: 0.4224 - val_loss: 0.4559\n",
            "Epoch 206/400\n",
            "2022/2022 [==============================] - 4s 2ms/step - loss: 0.4218 - val_loss: 0.4573\n",
            "Epoch 207/400\n",
            "2022/2022 [==============================] - 6s 3ms/step - loss: 0.4219 - val_loss: 0.4574\n",
            "Epoch 208/400\n",
            "2022/2022 [==============================] - 5s 2ms/step - loss: 0.4221 - val_loss: 0.4572\n",
            "Epoch 209/400\n",
            "2022/2022 [==============================] - 5s 2ms/step - loss: 0.4222 - val_loss: 0.4581\n",
            "Epoch 210/400\n",
            "2022/2022 [==============================] - 6s 3ms/step - loss: 0.4221 - val_loss: 0.4585\n",
            "Epoch 211/400\n",
            "2022/2022 [==============================] - 5s 2ms/step - loss: 0.4218 - val_loss: 0.4583\n",
            "Epoch 212/400\n",
            "2022/2022 [==============================] - 5s 2ms/step - loss: 0.4218 - val_loss: 0.4599\n",
            "Epoch 213/400\n",
            "2022/2022 [==============================] - 6s 3ms/step - loss: 0.4219 - val_loss: 0.4579\n",
            "Epoch 214/400\n",
            "2022/2022 [==============================] - 5s 2ms/step - loss: 0.4217 - val_loss: 0.4577\n",
            "Epoch 215/400\n",
            "2022/2022 [==============================] - 6s 3ms/step - loss: 0.4216 - val_loss: 0.4584\n",
            "Epoch 216/400\n",
            "2022/2022 [==============================] - 6s 3ms/step - loss: 0.4222 - val_loss: 0.4603\n",
            "Epoch 217/400\n",
            "2022/2022 [==============================] - 5s 2ms/step - loss: 0.4219 - val_loss: 0.4572\n",
            "Epoch 218/400\n",
            "2022/2022 [==============================] - 6s 3ms/step - loss: 0.4218 - val_loss: 0.4595\n",
            "Epoch 219/400\n",
            "2022/2022 [==============================] - 5s 2ms/step - loss: 0.4216 - val_loss: 0.4590\n",
            "Epoch 220/400\n",
            "2022/2022 [==============================] - 5s 2ms/step - loss: 0.4215 - val_loss: 0.4613\n",
            "Epoch 221/400\n",
            "2022/2022 [==============================] - 6s 3ms/step - loss: 0.4217 - val_loss: 0.4585\n",
            "Epoch 222/400\n",
            "2022/2022 [==============================] - 5s 2ms/step - loss: 0.4221 - val_loss: 0.4591\n",
            "Epoch 223/400\n",
            "2022/2022 [==============================] - 5s 2ms/step - loss: 0.4213 - val_loss: 0.4615\n",
            "Epoch 224/400\n",
            "2022/2022 [==============================] - 6s 3ms/step - loss: 0.4217 - val_loss: 0.4621\n",
            "Epoch 225/400\n",
            "2022/2022 [==============================] - 4s 2ms/step - loss: 0.4216 - val_loss: 0.4614\n",
            "Epoch 226/400\n",
            "2022/2022 [==============================] - 5s 2ms/step - loss: 0.4214 - val_loss: 0.4605\n",
            "Epoch 227/400\n",
            "2022/2022 [==============================] - 6s 3ms/step - loss: 0.4213 - val_loss: 0.4591\n",
            "Epoch 228/400\n",
            "2022/2022 [==============================] - 5s 2ms/step - loss: 0.4213 - val_loss: 0.4599\n",
            "Epoch 229/400\n",
            "2022/2022 [==============================] - 6s 3ms/step - loss: 0.4217 - val_loss: 0.4589\n",
            "Epoch 230/400\n",
            "2022/2022 [==============================] - 5s 3ms/step - loss: 0.4213 - val_loss: 0.4616\n",
            "Epoch 231/400\n",
            "2022/2022 [==============================] - 5s 2ms/step - loss: 0.4215 - val_loss: 0.4612\n",
            "Epoch 232/400\n",
            "2022/2022 [==============================] - 6s 3ms/step - loss: 0.4211 - val_loss: 0.4590\n",
            "Epoch 233/400\n",
            "2022/2022 [==============================] - 5s 2ms/step - loss: 0.4211 - val_loss: 0.4612\n",
            "Epoch 234/400\n",
            "2022/2022 [==============================] - 5s 2ms/step - loss: 0.4209 - val_loss: 0.4616\n",
            "Epoch 235/400\n",
            "2022/2022 [==============================] - 6s 3ms/step - loss: 0.4213 - val_loss: 0.4592\n",
            "Epoch 236/400\n",
            "2022/2022 [==============================] - 5s 2ms/step - loss: 0.4214 - val_loss: 0.4596\n",
            "Epoch 237/400\n",
            "2022/2022 [==============================] - 5s 2ms/step - loss: 0.4212 - val_loss: 0.4591\n",
            "Epoch 238/400\n",
            "2022/2022 [==============================] - 6s 3ms/step - loss: 0.4209 - val_loss: 0.4595\n",
            "Epoch 239/400\n",
            "2022/2022 [==============================] - 5s 2ms/step - loss: 0.4211 - val_loss: 0.4575\n",
            "Epoch 240/400\n",
            "2022/2022 [==============================] - 6s 3ms/step - loss: 0.4213 - val_loss: 0.4646\n",
            "Epoch 241/400\n",
            "2022/2022 [==============================] - 6s 3ms/step - loss: 0.4209 - val_loss: 0.4611\n",
            "Epoch 242/400\n",
            "2022/2022 [==============================] - 5s 2ms/step - loss: 0.4212 - val_loss: 0.4587\n",
            "Epoch 243/400\n",
            "2022/2022 [==============================] - 6s 3ms/step - loss: 0.4213 - val_loss: 0.4597\n",
            "Epoch 244/400\n",
            "2022/2022 [==============================] - 5s 2ms/step - loss: 0.4210 - val_loss: 0.4595\n",
            "Epoch 245/400\n",
            "2022/2022 [==============================] - 5s 2ms/step - loss: 0.4209 - val_loss: 0.4616\n",
            "Epoch 246/400\n",
            "2022/2022 [==============================] - 6s 3ms/step - loss: 0.4207 - val_loss: 0.4602\n",
            "Epoch 247/400\n",
            "2022/2022 [==============================] - 5s 2ms/step - loss: 0.4210 - val_loss: 0.4652\n",
            "Epoch 248/400\n",
            "2022/2022 [==============================] - 5s 2ms/step - loss: 0.4209 - val_loss: 0.4597\n",
            "Epoch 249/400\n",
            "2022/2022 [==============================] - 7s 3ms/step - loss: 0.4207 - val_loss: 0.4664\n",
            "Epoch 250/400\n",
            "2022/2022 [==============================] - 5s 3ms/step - loss: 0.4204 - val_loss: 0.4610\n",
            "Epoch 251/400\n",
            "2022/2022 [==============================] - 6s 3ms/step - loss: 0.4209 - val_loss: 0.4599\n",
            "Epoch 252/400\n",
            "2022/2022 [==============================] - 6s 3ms/step - loss: 0.4210 - val_loss: 0.4612\n",
            "Epoch 253/400\n",
            "2022/2022 [==============================] - 5s 2ms/step - loss: 0.4206 - val_loss: 0.4627\n",
            "Epoch 254/400\n",
            "2022/2022 [==============================] - 7s 3ms/step - loss: 0.4209 - val_loss: 0.4625\n",
            "Epoch 255/400\n",
            "2022/2022 [==============================] - 5s 2ms/step - loss: 0.4205 - val_loss: 0.4628\n",
            "Epoch 256/400\n",
            "2022/2022 [==============================] - 5s 2ms/step - loss: 0.4206 - val_loss: 0.4669\n",
            "Epoch 257/400\n",
            "2022/2022 [==============================] - 6s 3ms/step - loss: 0.4212 - val_loss: 0.4612\n",
            "Epoch 258/400\n",
            "2022/2022 [==============================] - 5s 2ms/step - loss: 0.4207 - val_loss: 0.4630\n",
            "Epoch 259/400\n",
            "2022/2022 [==============================] - 6s 3ms/step - loss: 0.4208 - val_loss: 0.4629\n",
            "Epoch 260/400\n",
            "2022/2022 [==============================] - 5s 3ms/step - loss: 0.4204 - val_loss: 0.4643\n",
            "Epoch 261/400\n",
            "2022/2022 [==============================] - 5s 2ms/step - loss: 0.4208 - val_loss: 0.4638\n",
            "Epoch 262/400\n",
            "2022/2022 [==============================] - 6s 3ms/step - loss: 0.4205 - val_loss: 0.4627\n",
            "Epoch 263/400\n",
            "2022/2022 [==============================] - 5s 3ms/step - loss: 0.4206 - val_loss: 0.4630\n",
            "Epoch 264/400\n",
            "2022/2022 [==============================] - 5s 2ms/step - loss: 0.4207 - val_loss: 0.4633\n",
            "Epoch 265/400\n",
            "2022/2022 [==============================] - 7s 3ms/step - loss: 0.4203 - val_loss: 0.4589\n",
            "Epoch 266/400\n",
            "2022/2022 [==============================] - 5s 2ms/step - loss: 0.4206 - val_loss: 0.4608\n",
            "Epoch 267/400\n",
            "2022/2022 [==============================] - 5s 2ms/step - loss: 0.4203 - val_loss: 0.4605\n",
            "Epoch 268/400\n",
            "2022/2022 [==============================] - 6s 3ms/step - loss: 0.4205 - val_loss: 0.4632\n",
            "Epoch 269/400\n",
            "2022/2022 [==============================] - 5s 2ms/step - loss: 0.4206 - val_loss: 0.4610\n",
            "Epoch 270/400\n",
            "2022/2022 [==============================] - 5s 2ms/step - loss: 0.4203 - val_loss: 0.4614\n",
            "Epoch 271/400\n",
            "2022/2022 [==============================] - 6s 3ms/step - loss: 0.4203 - val_loss: 0.4660\n",
            "Epoch 272/400\n",
            "2022/2022 [==============================] - 5s 2ms/step - loss: 0.4204 - val_loss: 0.4637\n",
            "Epoch 273/400\n",
            "2022/2022 [==============================] - 6s 3ms/step - loss: 0.4204 - val_loss: 0.4662\n",
            "Epoch 274/400\n",
            "2022/2022 [==============================] - 5s 3ms/step - loss: 0.4204 - val_loss: 0.4622\n",
            "Epoch 275/400\n",
            "2022/2022 [==============================] - 5s 2ms/step - loss: 0.4203 - val_loss: 0.4629\n",
            "Epoch 276/400\n",
            "2022/2022 [==============================] - 6s 3ms/step - loss: 0.4203 - val_loss: 0.4662\n",
            "Epoch 277/400\n",
            "2022/2022 [==============================] - 5s 3ms/step - loss: 0.4204 - val_loss: 0.4624\n",
            "Epoch 278/400\n",
            "2022/2022 [==============================] - 5s 2ms/step - loss: 0.4202 - val_loss: 0.4674\n",
            "Epoch 279/400\n",
            "2022/2022 [==============================] - 6s 3ms/step - loss: 0.4202 - val_loss: 0.4645\n",
            "Epoch 280/400\n",
            "2022/2022 [==============================] - 5s 2ms/step - loss: 0.4200 - val_loss: 0.4656\n",
            "Epoch 281/400\n",
            "2022/2022 [==============================] - 5s 2ms/step - loss: 0.4203 - val_loss: 0.4624\n",
            "Epoch 282/400\n",
            "2022/2022 [==============================] - 6s 3ms/step - loss: 0.4201 - val_loss: 0.4623\n",
            "Epoch 283/400\n",
            "2022/2022 [==============================] - 5s 2ms/step - loss: 0.4206 - val_loss: 0.4642\n",
            "Epoch 284/400\n",
            "2022/2022 [==============================] - 5s 2ms/step - loss: 0.4203 - val_loss: 0.4643\n",
            "Epoch 285/400\n",
            "2022/2022 [==============================] - 6s 3ms/step - loss: 0.4202 - val_loss: 0.4634\n",
            "Epoch 286/400\n",
            "2022/2022 [==============================] - 5s 2ms/step - loss: 0.4205 - val_loss: 0.4648\n",
            "Epoch 287/400\n",
            "2022/2022 [==============================] - 6s 3ms/step - loss: 0.4202 - val_loss: 0.4647\n",
            "Epoch 288/400\n",
            "2022/2022 [==============================] - 6s 3ms/step - loss: 0.4202 - val_loss: 0.4648\n",
            "Epoch 289/400\n",
            "2022/2022 [==============================] - 5s 2ms/step - loss: 0.4201 - val_loss: 0.4678\n",
            "Epoch 290/400\n",
            "2022/2022 [==============================] - 7s 3ms/step - loss: 0.4199 - val_loss: 0.4665\n",
            "Epoch 291/400\n",
            "2022/2022 [==============================] - 5s 3ms/step - loss: 0.4204 - val_loss: 0.4645\n",
            "Epoch 292/400\n",
            "2022/2022 [==============================] - 5s 2ms/step - loss: 0.4199 - val_loss: 0.4649\n",
            "Epoch 293/400\n",
            "2022/2022 [==============================] - 6s 3ms/step - loss: 0.4199 - val_loss: 0.4668\n",
            "Epoch 294/400\n",
            "2022/2022 [==============================] - 5s 2ms/step - loss: 0.4202 - val_loss: 0.4633\n",
            "Epoch 295/400\n",
            "2022/2022 [==============================] - 5s 3ms/step - loss: 0.4199 - val_loss: 0.4632\n",
            "Epoch 296/400\n",
            "2022/2022 [==============================] - 6s 3ms/step - loss: 0.4201 - val_loss: 0.4669\n",
            "Epoch 297/400\n",
            "2022/2022 [==============================] - 5s 2ms/step - loss: 0.4203 - val_loss: 0.4675\n",
            "Epoch 298/400\n",
            "2022/2022 [==============================] - 6s 3ms/step - loss: 0.4202 - val_loss: 0.4645\n",
            "Epoch 299/400\n",
            "2022/2022 [==============================] - 5s 2ms/step - loss: 0.4200 - val_loss: 0.4664\n",
            "Epoch 300/400\n",
            "2022/2022 [==============================] - 5s 2ms/step - loss: 0.4200 - val_loss: 0.4670\n",
            "Epoch 301/400\n",
            "2022/2022 [==============================] - 6s 3ms/step - loss: 0.4196 - val_loss: 0.4651\n",
            "Epoch 302/400\n",
            "2022/2022 [==============================] - 5s 3ms/step - loss: 0.4199 - val_loss: 0.4664\n",
            "Epoch 303/400\n",
            "2022/2022 [==============================] - 5s 2ms/step - loss: 0.4202 - val_loss: 0.4640\n",
            "Epoch 304/400\n",
            "2022/2022 [==============================] - 6s 3ms/step - loss: 0.4200 - val_loss: 0.4663\n",
            "Epoch 305/400\n",
            "2022/2022 [==============================] - 5s 2ms/step - loss: 0.4198 - val_loss: 0.4643\n",
            "Epoch 306/400\n",
            "2022/2022 [==============================] - 5s 2ms/step - loss: 0.4198 - val_loss: 0.4656\n",
            "Epoch 307/400\n",
            "2022/2022 [==============================] - 7s 3ms/step - loss: 0.4200 - val_loss: 0.4652\n",
            "Epoch 308/400\n",
            "2022/2022 [==============================] - 5s 2ms/step - loss: 0.4198 - val_loss: 0.4662\n",
            "Epoch 309/400\n",
            "2022/2022 [==============================] - 6s 3ms/step - loss: 0.4198 - val_loss: 0.4643\n",
            "Epoch 310/400\n",
            "2022/2022 [==============================] - 6s 3ms/step - loss: 0.4197 - val_loss: 0.4656\n",
            "Epoch 311/400\n",
            "2022/2022 [==============================] - 5s 2ms/step - loss: 0.4196 - val_loss: 0.4642\n",
            "Epoch 312/400\n",
            "2022/2022 [==============================] - 6s 3ms/step - loss: 0.4199 - val_loss: 0.4672\n",
            "Epoch 313/400\n",
            "2022/2022 [==============================] - 5s 3ms/step - loss: 0.4195 - val_loss: 0.4709\n",
            "Epoch 314/400\n",
            "2022/2022 [==============================] - 5s 2ms/step - loss: 0.4198 - val_loss: 0.4648\n",
            "Epoch 315/400\n",
            "2022/2022 [==============================] - 7s 3ms/step - loss: 0.4198 - val_loss: 0.4652\n",
            "Epoch 316/400\n",
            "2022/2022 [==============================] - 5s 2ms/step - loss: 0.4194 - val_loss: 0.4687\n",
            "Epoch 317/400\n",
            "2022/2022 [==============================] - 5s 2ms/step - loss: 0.4196 - val_loss: 0.4658\n",
            "Epoch 318/400\n",
            "2022/2022 [==============================] - 6s 3ms/step - loss: 0.4194 - val_loss: 0.4646\n",
            "Epoch 319/400\n",
            "2022/2022 [==============================] - 5s 2ms/step - loss: 0.4197 - val_loss: 0.4686\n",
            "Epoch 320/400\n",
            "2022/2022 [==============================] - 5s 2ms/step - loss: 0.4199 - val_loss: 0.4630\n",
            "Epoch 321/400\n",
            "2022/2022 [==============================] - 6s 3ms/step - loss: 0.4196 - val_loss: 0.4724\n",
            "Epoch 322/400\n",
            "2022/2022 [==============================] - 5s 2ms/step - loss: 0.4198 - val_loss: 0.4647\n",
            "Epoch 323/400\n",
            "2022/2022 [==============================] - 5s 3ms/step - loss: 0.4197 - val_loss: 0.4709\n",
            "Epoch 324/400\n",
            "2022/2022 [==============================] - 6s 3ms/step - loss: 0.4196 - val_loss: 0.4665\n",
            "Epoch 325/400\n",
            "2022/2022 [==============================] - 5s 2ms/step - loss: 0.4194 - val_loss: 0.4677\n",
            "Epoch 326/400\n",
            "2022/2022 [==============================] - 6s 3ms/step - loss: 0.4196 - val_loss: 0.4694\n",
            "Epoch 327/400\n",
            "2022/2022 [==============================] - 6s 3ms/step - loss: 0.4195 - val_loss: 0.4698\n",
            "Epoch 328/400\n",
            "2022/2022 [==============================] - 5s 2ms/step - loss: 0.4197 - val_loss: 0.4650\n",
            "Epoch 329/400\n",
            "2022/2022 [==============================] - 6s 3ms/step - loss: 0.4193 - val_loss: 0.4698\n",
            "Epoch 330/400\n",
            "2022/2022 [==============================] - 5s 2ms/step - loss: 0.4192 - val_loss: 0.4671\n",
            "Epoch 331/400\n",
            "2022/2022 [==============================] - 5s 2ms/step - loss: 0.4198 - val_loss: 0.4680\n",
            "Epoch 332/400\n",
            "2022/2022 [==============================] - 9s 4ms/step - loss: 0.4194 - val_loss: 0.4651\n",
            "Epoch 333/400\n",
            "2022/2022 [==============================] - 5s 3ms/step - loss: 0.4194 - val_loss: 0.4666\n",
            "Epoch 334/400\n",
            "2022/2022 [==============================] - 6s 3ms/step - loss: 0.4193 - val_loss: 0.4675\n",
            "Epoch 335/400\n",
            "2022/2022 [==============================] - 5s 2ms/step - loss: 0.4194 - val_loss: 0.4670\n",
            "Epoch 336/400\n",
            "2022/2022 [==============================] - 5s 2ms/step - loss: 0.4190 - val_loss: 0.4687\n",
            "Epoch 337/400\n",
            "2022/2022 [==============================] - 6s 3ms/step - loss: 0.4195 - val_loss: 0.4676\n",
            "Epoch 338/400\n",
            "2022/2022 [==============================] - 5s 2ms/step - loss: 0.4194 - val_loss: 0.4693\n",
            "Epoch 339/400\n",
            "2022/2022 [==============================] - 5s 2ms/step - loss: 0.4196 - val_loss: 0.4683\n",
            "Epoch 340/400\n",
            "2022/2022 [==============================] - 6s 3ms/step - loss: 0.4193 - val_loss: 0.4682\n",
            "Epoch 341/400\n",
            "2022/2022 [==============================] - 5s 2ms/step - loss: 0.4193 - val_loss: 0.4667\n",
            "Epoch 342/400\n",
            "2022/2022 [==============================] - 5s 2ms/step - loss: 0.4194 - val_loss: 0.4642\n",
            "Epoch 343/400\n",
            "2022/2022 [==============================] - 6s 3ms/step - loss: 0.4191 - val_loss: 0.4699\n",
            "Epoch 344/400\n",
            "2022/2022 [==============================] - 7s 4ms/step - loss: 0.4194 - val_loss: 0.4686\n",
            "Epoch 345/400\n",
            "2022/2022 [==============================] - 6s 3ms/step - loss: 0.4195 - val_loss: 0.4736\n",
            "Epoch 346/400\n",
            "2022/2022 [==============================] - 5s 2ms/step - loss: 0.4194 - val_loss: 0.4670\n",
            "Epoch 347/400\n",
            "2022/2022 [==============================] - 5s 2ms/step - loss: 0.4190 - val_loss: 0.4741\n",
            "Epoch 348/400\n",
            "2022/2022 [==============================] - 6s 3ms/step - loss: 0.4193 - val_loss: 0.4666\n",
            "Epoch 349/400\n",
            "2022/2022 [==============================] - 6s 3ms/step - loss: 0.4192 - val_loss: 0.4745\n",
            "Epoch 350/400\n",
            "2022/2022 [==============================] - 6s 3ms/step - loss: 0.4193 - val_loss: 0.4682\n",
            "Epoch 351/400\n",
            "2022/2022 [==============================] - 6s 3ms/step - loss: 0.4192 - val_loss: 0.4663\n",
            "Epoch 352/400\n",
            "2022/2022 [==============================] - 8s 4ms/step - loss: 0.4191 - val_loss: 0.4696\n",
            "Epoch 353/400\n",
            "2022/2022 [==============================] - 6s 3ms/step - loss: 0.4191 - val_loss: 0.4685\n",
            "Epoch 354/400\n",
            "2022/2022 [==============================] - 5s 3ms/step - loss: 0.4192 - val_loss: 0.4675\n",
            "Epoch 355/400\n",
            "2022/2022 [==============================] - 6s 3ms/step - loss: 0.4190 - val_loss: 0.4682\n",
            "Epoch 356/400\n",
            "2022/2022 [==============================] - 5s 3ms/step - loss: 0.4193 - val_loss: 0.4698\n",
            "Epoch 357/400\n",
            "2022/2022 [==============================] - 6s 3ms/step - loss: 0.4191 - val_loss: 0.4710\n",
            "Epoch 358/400\n",
            "2022/2022 [==============================] - 6s 3ms/step - loss: 0.4191 - val_loss: 0.4678\n",
            "Epoch 359/400\n",
            "2022/2022 [==============================] - 6s 3ms/step - loss: 0.4191 - val_loss: 0.4689\n",
            "Epoch 360/400\n",
            "2022/2022 [==============================] - 8s 4ms/step - loss: 0.4193 - val_loss: 0.4673\n",
            "Epoch 361/400\n",
            "2022/2022 [==============================] - 5s 3ms/step - loss: 0.4188 - val_loss: 0.4732\n",
            "Epoch 362/400\n",
            "2022/2022 [==============================] - 6s 3ms/step - loss: 0.4188 - val_loss: 0.4674\n",
            "Epoch 363/400\n",
            "2022/2022 [==============================] - 7s 3ms/step - loss: 0.4192 - val_loss: 0.4671\n",
            "Epoch 364/400\n",
            "2022/2022 [==============================] - 5s 3ms/step - loss: 0.4191 - val_loss: 0.4676\n",
            "Epoch 365/400\n",
            "2022/2022 [==============================] - 5s 3ms/step - loss: 0.4191 - val_loss: 0.4692\n",
            "Epoch 366/400\n",
            "2022/2022 [==============================] - 6s 3ms/step - loss: 0.4190 - val_loss: 0.4686\n",
            "Epoch 367/400\n",
            "2022/2022 [==============================] - 5s 2ms/step - loss: 0.4192 - val_loss: 0.4749\n",
            "Epoch 368/400\n",
            "2022/2022 [==============================] - 6s 3ms/step - loss: 0.4190 - val_loss: 0.4678\n",
            "Epoch 369/400\n",
            "2022/2022 [==============================] - 6s 3ms/step - loss: 0.4190 - val_loss: 0.4686\n",
            "Epoch 370/400\n",
            "2022/2022 [==============================] - 9s 5ms/step - loss: 0.4190 - val_loss: 0.4700\n",
            "Epoch 371/400\n",
            "2022/2022 [==============================] - 7s 4ms/step - loss: 0.4189 - val_loss: 0.4690\n",
            "Epoch 372/400\n",
            "2022/2022 [==============================] - 7s 4ms/step - loss: 0.4188 - val_loss: 0.4710\n",
            "Epoch 373/400\n",
            "2022/2022 [==============================] - 7s 4ms/step - loss: 0.4187 - val_loss: 0.4729\n",
            "Epoch 374/400\n",
            "2022/2022 [==============================] - 6s 3ms/step - loss: 0.4191 - val_loss: 0.4665\n",
            "Epoch 375/400\n",
            "2022/2022 [==============================] - 6s 3ms/step - loss: 0.4192 - val_loss: 0.4710\n",
            "Epoch 376/400\n",
            "2022/2022 [==============================] - 5s 3ms/step - loss: 0.4189 - val_loss: 0.4680\n",
            "Epoch 377/400\n",
            "2022/2022 [==============================] - 8s 4ms/step - loss: 0.4189 - val_loss: 0.4710\n",
            "Epoch 378/400\n",
            "2022/2022 [==============================] - 5s 3ms/step - loss: 0.4191 - val_loss: 0.4690\n",
            "Epoch 379/400\n",
            "2022/2022 [==============================] - 9s 4ms/step - loss: 0.4188 - val_loss: 0.4704\n",
            "Epoch 380/400\n",
            "2022/2022 [==============================] - 6s 3ms/step - loss: 0.4186 - val_loss: 0.4704\n",
            "Epoch 381/400\n",
            "2022/2022 [==============================] - 6s 3ms/step - loss: 0.4187 - val_loss: 0.4682\n",
            "Epoch 382/400\n",
            "2022/2022 [==============================] - 7s 4ms/step - loss: 0.4186 - val_loss: 0.4685\n",
            "Epoch 383/400\n",
            "2022/2022 [==============================] - 7s 3ms/step - loss: 0.4186 - val_loss: 0.4723\n",
            "Epoch 384/400\n",
            "2022/2022 [==============================] - 6s 3ms/step - loss: 0.4190 - val_loss: 0.4659\n",
            "Epoch 385/400\n",
            "2022/2022 [==============================] - 5s 3ms/step - loss: 0.4190 - val_loss: 0.4700\n",
            "Epoch 386/400\n",
            "2022/2022 [==============================] - 6s 3ms/step - loss: 0.4187 - val_loss: 0.4722\n",
            "Epoch 387/400\n",
            "2022/2022 [==============================] - 6s 3ms/step - loss: 0.4190 - val_loss: 0.4661\n",
            "Epoch 388/400\n",
            "2022/2022 [==============================] - 5s 3ms/step - loss: 0.4185 - val_loss: 0.4717\n",
            "Epoch 389/400\n",
            "2022/2022 [==============================] - 7s 3ms/step - loss: 0.4187 - val_loss: 0.4700\n",
            "Epoch 390/400\n",
            "2022/2022 [==============================] - 5s 3ms/step - loss: 0.4187 - val_loss: 0.4717\n",
            "Epoch 391/400\n",
            "2022/2022 [==============================] - 6s 3ms/step - loss: 0.4188 - val_loss: 0.4723\n",
            "Epoch 392/400\n",
            "2022/2022 [==============================] - 6s 3ms/step - loss: 0.4185 - val_loss: 0.4695\n",
            "Epoch 393/400\n",
            "2022/2022 [==============================] - 5s 2ms/step - loss: 0.4186 - val_loss: 0.4731\n",
            "Epoch 394/400\n",
            "2022/2022 [==============================] - 7s 4ms/step - loss: 0.4189 - val_loss: 0.4732\n",
            "Epoch 395/400\n",
            "2022/2022 [==============================] - 5s 3ms/step - loss: 0.4188 - val_loss: 0.4671\n",
            "Epoch 396/400\n",
            "2022/2022 [==============================] - 6s 3ms/step - loss: 0.4186 - val_loss: 0.4680\n",
            "Epoch 397/400\n",
            "2022/2022 [==============================] - 6s 3ms/step - loss: 0.4184 - val_loss: 0.4694\n",
            "Epoch 398/400\n",
            "2022/2022 [==============================] - 5s 3ms/step - loss: 0.4188 - val_loss: 0.4705\n",
            "Epoch 399/400\n",
            "2022/2022 [==============================] - 7s 3ms/step - loss: 0.4185 - val_loss: 0.4702\n",
            "Epoch 400/400\n",
            "2022/2022 [==============================] - 7s 3ms/step - loss: 0.4186 - val_loss: 0.4686\n"
          ]
        },
        {
          "data": {
            "text/plain": [
              "<keras.callbacks.History at 0x7ff8e79f7790>"
            ]
          },
          "execution_count": 430,
          "metadata": {},
          "output_type": "execute_result"
        }
      ],
      "source": [
        "model.fit(x=X_train,\n",
        "          y=y_train,\n",
        "          epochs=400,\n",
        "          validation_data=(X_val, y_val), verbose=1\n",
        "          )"
      ]
    },
    {
      "cell_type": "code",
      "execution_count": null,
      "metadata": {
        "id": "pgFHGow3riqC"
      },
      "outputs": [],
      "source": [
        "model_loss = pd.DataFrame(model.history.history)"
      ]
    },
    {
      "cell_type": "code",
      "execution_count": null,
      "metadata": {
        "colab": {
          "base_uri": "https://localhost:8080/",
          "height": 447
        },
        "id": "wXYC8y4zrin2",
        "outputId": "1e19bbc3-cda8-4179-8097-e88de0b135f6"
      },
      "outputs": [
        {
          "data": {
            "text/plain": [
              "<Axes: >"
            ]
          },
          "execution_count": 433,
          "metadata": {},
          "output_type": "execute_result"
        },
        {
          "data": {
            "image/png": "[encoded data removed]",
            "text/plain": [
              "<Figure size 640x480 with 1 Axes>"
            ]
          },
          "metadata": {},
          "output_type": "display_data"
        }
      ],
      "source": [
        "model_loss.plot()"
      ]
    },
    {
      "cell_type": "markdown",
      "metadata": {
        "id": "c465-DRsqFcT"
      },
      "source": [
        "The model is overfit to the training dataa."
      ]
    },
    {
      "cell_type": "code",
      "execution_count": null,
      "metadata": {
        "id": "kxJkl-Y9rijT"
      },
      "outputs": [],
      "source": [
        "# Defining the Early Stopping callback object\n",
        "early_stop = EarlyStopping(monitor='val_loss', mode='min', verbose=1, patience=25)"
      ]
    },
    {
      "cell_type": "code",
      "execution_count": null,
      "metadata": {
        "id": "P3DZ8b9ubW_S"
      },
      "outputs": [],
      "source": [
        "# Re-defining the model\n",
        "model = Sequential()\n",
        "model.add(Dense(units=30,activation='relu'))\n",
        "model.add(Dense(units=15,activation='relu'))\n",
        "model.add(Dense(units=1,activation='sigmoid'))\n",
        "model.compile(loss='binary_crossentropy', optimizer='adam')"
      ]
    },
    {
      "cell_type": "code",
      "execution_count": null,
      "metadata": {
        "colab": {
          "base_uri": "https://localhost:8080/"
        },
        "id": "ApP7zipynswp",
        "outputId": "b4a7453a-1508-4aea-8cc2-46e89e512dd2"
      },
      "outputs": [
        {
          "name": "stdout",
          "output_type": "stream",
          "text": [
            "Epoch 1/600\n",
            "2022/2022 [==============================] - 5s 2ms/step - loss: 0.4574 - val_loss: 0.4526\n",
            "Epoch 2/600\n",
            "2022/2022 [==============================] - 6s 3ms/step - loss: 0.4482 - val_loss: 0.4483\n",
            "Epoch 3/600\n",
            "2022/2022 [==============================] - 4s 2ms/step - loss: 0.4464 - val_loss: 0.4472\n",
            "Epoch 4/600\n",
            "2022/2022 [==============================] - 5s 2ms/step - loss: 0.4455 - val_loss: 0.4476\n",
            "Epoch 5/600\n",
            "2022/2022 [==============================] - 6s 3ms/step - loss: 0.4446 - val_loss: 0.4444\n",
            "Epoch 6/600\n",
            "2022/2022 [==============================] - 5s 2ms/step - loss: 0.4435 - val_loss: 0.4452\n",
            "Epoch 7/600\n",
            "2022/2022 [==============================] - 5s 2ms/step - loss: 0.4428 - val_loss: 0.4440\n",
            "Epoch 8/600\n",
            "2022/2022 [==============================] - 6s 3ms/step - loss: 0.4425 - val_loss: 0.4435\n",
            "Epoch 9/600\n",
            "2022/2022 [==============================] - 5s 3ms/step - loss: 0.4417 - val_loss: 0.4499\n",
            "Epoch 10/600\n",
            "2022/2022 [==============================] - 7s 3ms/step - loss: 0.4409 - val_loss: 0.4441\n",
            "Epoch 11/600\n",
            "2022/2022 [==============================] - 5s 3ms/step - loss: 0.4403 - val_loss: 0.4422\n",
            "Epoch 12/600\n",
            "2022/2022 [==============================] - 5s 2ms/step - loss: 0.4398 - val_loss: 0.4433\n",
            "Epoch 13/600\n",
            "2022/2022 [==============================] - 6s 3ms/step - loss: 0.4392 - val_loss: 0.4435\n",
            "Epoch 14/600\n",
            "2022/2022 [==============================] - 4s 2ms/step - loss: 0.4390 - val_loss: 0.4455\n",
            "Epoch 15/600\n",
            "2022/2022 [==============================] - 5s 2ms/step - loss: 0.4385 - val_loss: 0.4447\n",
            "Epoch 16/600\n",
            "2022/2022 [==============================] - 6s 3ms/step - loss: 0.4382 - val_loss: 0.4426\n",
            "Epoch 17/600\n",
            "2022/2022 [==============================] - 5s 2ms/step - loss: 0.4378 - val_loss: 0.4452\n",
            "Epoch 18/600\n",
            "2022/2022 [==============================] - 5s 2ms/step - loss: 0.4372 - val_loss: 0.4419\n",
            "Epoch 19/600\n",
            "2022/2022 [==============================] - 8s 4ms/step - loss: 0.4369 - val_loss: 0.4422\n",
            "Epoch 20/600\n",
            "2022/2022 [==============================] - 5s 2ms/step - loss: 0.4367 - val_loss: 0.4412\n",
            "Epoch 21/600\n",
            "2022/2022 [==============================] - 6s 3ms/step - loss: 0.4364 - val_loss: 0.4450\n",
            "Epoch 22/600\n",
            "2022/2022 [==============================] - 5s 2ms/step - loss: 0.4360 - val_loss: 0.4460\n",
            "Epoch 23/600\n",
            "2022/2022 [==============================] - 5s 2ms/step - loss: 0.4357 - val_loss: 0.4438\n",
            "Epoch 24/600\n",
            "2022/2022 [==============================] - 7s 3ms/step - loss: 0.4354 - val_loss: 0.4444\n",
            "Epoch 25/600\n",
            "2022/2022 [==============================] - 4s 2ms/step - loss: 0.4351 - val_loss: 0.4429\n",
            "Epoch 26/600\n",
            "2022/2022 [==============================] - 5s 2ms/step - loss: 0.4351 - val_loss: 0.4425\n",
            "Epoch 27/600\n",
            "2022/2022 [==============================] - 6s 3ms/step - loss: 0.4346 - val_loss: 0.4434\n",
            "Epoch 28/600\n",
            "2022/2022 [==============================] - 5s 2ms/step - loss: 0.4345 - val_loss: 0.4451\n",
            "Epoch 29/600\n",
            "2022/2022 [==============================] - 5s 3ms/step - loss: 0.4342 - val_loss: 0.4429\n",
            "Epoch 30/600\n",
            "2022/2022 [==============================] - 5s 3ms/step - loss: 0.4340 - val_loss: 0.4430\n",
            "Epoch 31/600\n",
            "2022/2022 [==============================] - 5s 2ms/step - loss: 0.4335 - val_loss: 0.4490\n",
            "Epoch 32/600\n",
            "2022/2022 [==============================] - 5s 3ms/step - loss: 0.4334 - val_loss: 0.4468\n",
            "Epoch 33/600\n",
            "2022/2022 [==============================] - 5s 3ms/step - loss: 0.4329 - val_loss: 0.4447\n",
            "Epoch 34/600\n",
            "2022/2022 [==============================] - 5s 2ms/step - loss: 0.4328 - val_loss: 0.4456\n",
            "Epoch 35/600\n",
            "2022/2022 [==============================] - 6s 3ms/step - loss: 0.4328 - val_loss: 0.4458\n",
            "Epoch 36/600\n",
            "2022/2022 [==============================] - 5s 2ms/step - loss: 0.4327 - val_loss: 0.4452\n",
            "Epoch 37/600\n",
            "2022/2022 [==============================] - 5s 2ms/step - loss: 0.4323 - val_loss: 0.4463\n",
            "Epoch 38/600\n",
            "2022/2022 [==============================] - 6s 3ms/step - loss: 0.4321 - val_loss: 0.4461\n",
            "Epoch 39/600\n",
            "2022/2022 [==============================] - 5s 2ms/step - loss: 0.4318 - val_loss: 0.4476\n",
            "Epoch 40/600\n",
            "2022/2022 [==============================] - 5s 3ms/step - loss: 0.4317 - val_loss: 0.4452\n",
            "Epoch 41/600\n",
            "2022/2022 [==============================] - 6s 3ms/step - loss: 0.4313 - val_loss: 0.4456\n",
            "Epoch 42/600\n",
            "2022/2022 [==============================] - 5s 2ms/step - loss: 0.4315 - val_loss: 0.4464\n",
            "Epoch 43/600\n",
            "2022/2022 [==============================] - 6s 3ms/step - loss: 0.4313 - val_loss: 0.4458\n",
            "Epoch 44/600\n",
            "2022/2022 [==============================] - 5s 3ms/step - loss: 0.4310 - val_loss: 0.4469\n",
            "Epoch 45/600\n",
            "2022/2022 [==============================] - 5s 2ms/step - loss: 0.4307 - val_loss: 0.4484\n",
            "Epoch 45: early stopping\n"
          ]
        },
        {
          "data": {
            "text/plain": [
              "<keras.callbacks.History at 0x7ff8e797ad70>"
            ]
          },
          "execution_count": 437,
          "metadata": {},
          "output_type": "execute_result"
        }
      ],
      "source": [
        "# Early stopping is specified using the 'callbacks' parameter of the fit method\n",
        "model.fit(x=X_train,\n",
        "          y=y_train,\n",
        "          epochs=600,\n",
        "          validation_data=(X_val, y_val), verbose=1,\n",
        "          callbacks=[early_stop]\n",
        "          )"
      ]
    },
    {
      "cell_type": "code",
      "execution_count": null,
      "metadata": {
        "colab": {
          "base_uri": "https://localhost:8080/",
          "height": 447
        },
        "id": "t28yVkVlnstJ",
        "outputId": "165ec3b4-2378-401a-8540-3d92e30fdf8d"
      },
      "outputs": [
        {
          "data": {
            "text/plain": [
              "<Axes: >"
            ]
          },
          "execution_count": 438,
          "metadata": {},
          "output_type": "execute_result"
        },
        {
          "data": {
            "image/png": "[encoded data removed]",
            "text/plain": [
              "<Figure size 640x480 with 1 Axes>"
            ]
          },
          "metadata": {},
          "output_type": "display_data"
        }
      ],
      "source": [
        "model_loss = pd.DataFrame(model.history.history)\n",
        "model_loss.plot()"
      ]
    },
    {
      "cell_type": "code",
      "execution_count": null,
      "metadata": {
        "id": "BXPVdb9sn39U"
      },
      "outputs": [],
      "source": [
        "# Re-defining the model\n",
        "# Dropout layers are added after each linear layer\n",
        "# Usual dropout values range from [0.1 - 0.5]\n",
        "model = Sequential()\n",
        "model.add(Dense(units=30,activation='relu'))\n",
        "model.add(Dropout(0.5))\n",
        "\n",
        "model.add(Dense(units=15,activation='relu'))\n",
        "model.add(Dropout(0.5))\n",
        "\n",
        "model.add(Dense(units=1,activation='sigmoid'))\n",
        "model.compile(loss='binary_crossentropy', optimizer='adam')"
      ]
    },
    {
      "cell_type": "code",
      "execution_count": null,
      "metadata": {
        "colab": {
          "base_uri": "https://localhost:8080/"
        },
        "id": "Iw87N8u4n3ud",
        "outputId": "4b6b7f21-5e1d-44af-d170-948610b7b0ad"
      },
      "outputs": [
        {
          "name": "stdout",
          "output_type": "stream",
          "text": [
            "Epoch 1/600\n",
            "2022/2022 [==============================] - 11s 4ms/step - loss: 0.4876 - val_loss: 0.4538\n",
            "Epoch 2/600\n",
            "2022/2022 [==============================] - 5s 2ms/step - loss: 0.4648 - val_loss: 0.4513\n",
            "Epoch 3/600\n",
            "2022/2022 [==============================] - 5s 3ms/step - loss: 0.4613 - val_loss: 0.4493\n",
            "Epoch 4/600\n",
            "2022/2022 [==============================] - 7s 3ms/step - loss: 0.4585 - val_loss: 0.4484\n",
            "Epoch 5/600\n",
            "2022/2022 [==============================] - 5s 3ms/step - loss: 0.4593 - val_loss: 0.4506\n",
            "Epoch 6/600\n",
            "2022/2022 [==============================] - 6s 3ms/step - loss: 0.4568 - val_loss: 0.4483\n",
            "Epoch 7/600\n",
            "2022/2022 [==============================] - 5s 3ms/step - loss: 0.4566 - val_loss: 0.4472\n",
            "Epoch 8/600\n",
            "2022/2022 [==============================] - 5s 2ms/step - loss: 0.4562 - val_loss: 0.4508\n",
            "Epoch 9/600\n",
            "2022/2022 [==============================] - 7s 3ms/step - loss: 0.4558 - val_loss: 0.4466\n",
            "Epoch 10/600\n",
            "2022/2022 [==============================] - 5s 3ms/step - loss: 0.4544 - val_loss: 0.4471\n",
            "Epoch 11/600\n",
            "2022/2022 [==============================] - 6s 3ms/step - loss: 0.4551 - val_loss: 0.4474\n",
            "Epoch 12/600\n",
            "2022/2022 [==============================] - 5s 3ms/step - loss: 0.4550 - val_loss: 0.4483\n",
            "Epoch 13/600\n",
            "2022/2022 [==============================] - 5s 2ms/step - loss: 0.4540 - val_loss: 0.4493\n",
            "Epoch 14/600\n",
            "2022/2022 [==============================] - 7s 3ms/step - loss: 0.4534 - val_loss: 0.4469\n",
            "Epoch 15/600\n",
            "2022/2022 [==============================] - 5s 3ms/step - loss: 0.4540 - val_loss: 0.4475\n",
            "Epoch 16/600\n",
            "2022/2022 [==============================] - 7s 3ms/step - loss: 0.4544 - val_loss: 0.4467\n",
            "Epoch 17/600\n",
            "2022/2022 [==============================] - 5s 2ms/step - loss: 0.4530 - val_loss: 0.4469\n",
            "Epoch 18/600\n",
            "2022/2022 [==============================] - 5s 2ms/step - loss: 0.4536 - val_loss: 0.4471\n",
            "Epoch 19/600\n",
            "2022/2022 [==============================] - 7s 3ms/step - loss: 0.4526 - val_loss: 0.4453\n",
            "Epoch 20/600\n",
            "2022/2022 [==============================] - 5s 3ms/step - loss: 0.4533 - val_loss: 0.4467\n",
            "Epoch 21/600\n",
            "2022/2022 [==============================] - 6s 3ms/step - loss: 0.4531 - val_loss: 0.4470\n",
            "Epoch 22/600\n",
            "2022/2022 [==============================] - 6s 3ms/step - loss: 0.4521 - val_loss: 0.4470\n",
            "Epoch 23/600\n",
            "2022/2022 [==============================] - 5s 2ms/step - loss: 0.4526 - val_loss: 0.4451\n",
            "Epoch 24/600\n",
            "2022/2022 [==============================] - 7s 3ms/step - loss: 0.4528 - val_loss: 0.4460\n",
            "Epoch 25/600\n",
            "2022/2022 [==============================] - 5s 2ms/step - loss: 0.4529 - val_loss: 0.4460\n",
            "Epoch 26/600\n",
            "2022/2022 [==============================] - 6s 3ms/step - loss: 0.4528 - val_loss: 0.4470\n",
            "Epoch 27/600\n",
            "2022/2022 [==============================] - 6s 3ms/step - loss: 0.4522 - val_loss: 0.4457\n",
            "Epoch 28/600\n",
            "2022/2022 [==============================] - 5s 2ms/step - loss: 0.4521 - val_loss: 0.4451\n",
            "Epoch 29/600\n",
            "2022/2022 [==============================] - 7s 3ms/step - loss: 0.4519 - val_loss: 0.4454\n",
            "Epoch 30/600\n",
            "2022/2022 [==============================] - 5s 3ms/step - loss: 0.4525 - val_loss: 0.4463\n",
            "Epoch 31/600\n",
            "2022/2022 [==============================] - 6s 3ms/step - loss: 0.4516 - val_loss: 0.4442\n",
            "Epoch 32/600\n",
            "2022/2022 [==============================] - 5s 3ms/step - loss: 0.4519 - val_loss: 0.4452\n",
            "Epoch 33/600\n",
            "2022/2022 [==============================] - 5s 2ms/step - loss: 0.4525 - val_loss: 0.4449\n",
            "Epoch 34/600\n",
            "2022/2022 [==============================] - 7s 3ms/step - loss: 0.4525 - val_loss: 0.4447\n",
            "Epoch 35/600\n",
            "2022/2022 [==============================] - 5s 2ms/step - loss: 0.4527 - val_loss: 0.4454\n",
            "Epoch 36/600\n",
            "2022/2022 [==============================] - 5s 2ms/step - loss: 0.4514 - val_loss: 0.4446\n",
            "Epoch 37/600\n",
            "2022/2022 [==============================] - 6s 3ms/step - loss: 0.4515 - val_loss: 0.4451\n",
            "Epoch 38/600\n",
            "2022/2022 [==============================] - 5s 2ms/step - loss: 0.4515 - val_loss: 0.4447\n",
            "Epoch 39/600\n",
            "2022/2022 [==============================] - 6s 3ms/step - loss: 0.4514 - val_loss: 0.4442\n",
            "Epoch 40/600\n",
            "2022/2022 [==============================] - 5s 3ms/step - loss: 0.4510 - val_loss: 0.4439\n",
            "Epoch 41/600\n",
            "2022/2022 [==============================] - 5s 2ms/step - loss: 0.4512 - val_loss: 0.4476\n",
            "Epoch 42/600\n",
            "2022/2022 [==============================] - 7s 3ms/step - loss: 0.4515 - val_loss: 0.4448\n",
            "Epoch 43/600\n",
            "2022/2022 [==============================] - 5s 2ms/step - loss: 0.4528 - val_loss: 0.4447\n",
            "Epoch 44/600\n",
            "2022/2022 [==============================] - 5s 2ms/step - loss: 0.4508 - val_loss: 0.4439\n",
            "Epoch 45/600\n",
            "2022/2022 [==============================] - 6s 3ms/step - loss: 0.4518 - val_loss: 0.4458\n",
            "Epoch 46/600\n",
            "2022/2022 [==============================] - 5s 2ms/step - loss: 0.4509 - val_loss: 0.4450\n",
            "Epoch 47/600\n",
            "2022/2022 [==============================] - 6s 3ms/step - loss: 0.4505 - val_loss: 0.4447\n",
            "Epoch 48/600\n",
            "2022/2022 [==============================] - 6s 3ms/step - loss: 0.4513 - val_loss: 0.4451\n",
            "Epoch 49/600\n",
            "2022/2022 [==============================] - 5s 3ms/step - loss: 0.4513 - val_loss: 0.4438\n",
            "Epoch 50/600\n",
            "2022/2022 [==============================] - 6s 3ms/step - loss: 0.4513 - val_loss: 0.4438\n",
            "Epoch 51/600\n",
            "2022/2022 [==============================] - 5s 2ms/step - loss: 0.4514 - val_loss: 0.4448\n",
            "Epoch 52/600\n",
            "2022/2022 [==============================] - 5s 2ms/step - loss: 0.4522 - val_loss: 0.4439\n",
            "Epoch 53/600\n",
            "2022/2022 [==============================] - 7s 3ms/step - loss: 0.4512 - val_loss: 0.4455\n",
            "Epoch 54/600\n",
            "2022/2022 [==============================] - 5s 2ms/step - loss: 0.4513 - val_loss: 0.4443\n",
            "Epoch 55/600\n",
            "2022/2022 [==============================] - 6s 3ms/step - loss: 0.4509 - val_loss: 0.4441\n",
            "Epoch 56/600\n",
            "2022/2022 [==============================] - 6s 3ms/step - loss: 0.4510 - val_loss: 0.4435\n",
            "Epoch 57/600\n",
            "2022/2022 [==============================] - 5s 2ms/step - loss: 0.4506 - val_loss: 0.4450\n",
            "Epoch 58/600\n",
            "2022/2022 [==============================] - 6s 3ms/step - loss: 0.4511 - val_loss: 0.4450\n",
            "Epoch 59/600\n",
            "2022/2022 [==============================] - 5s 3ms/step - loss: 0.4506 - val_loss: 0.4444\n",
            "Epoch 60/600\n",
            "2022/2022 [==============================] - 5s 3ms/step - loss: 0.4503 - val_loss: 0.4455\n",
            "Epoch 61/600\n",
            "2022/2022 [==============================] - 6s 3ms/step - loss: 0.4515 - val_loss: 0.4454\n",
            "Epoch 62/600\n",
            "2022/2022 [==============================] - 5s 2ms/step - loss: 0.4513 - val_loss: 0.4444\n",
            "Epoch 63/600\n",
            "2022/2022 [==============================] - 6s 3ms/step - loss: 0.4502 - val_loss: 0.4446\n",
            "Epoch 64/600\n",
            "2022/2022 [==============================] - 6s 3ms/step - loss: 0.4507 - val_loss: 0.4447\n",
            "Epoch 65/600\n",
            "2022/2022 [==============================] - 5s 2ms/step - loss: 0.4504 - val_loss: 0.4439\n",
            "Epoch 66/600\n",
            "2022/2022 [==============================] - 7s 3ms/step - loss: 0.4499 - val_loss: 0.4450\n",
            "Epoch 67/600\n",
            "2022/2022 [==============================] - 5s 2ms/step - loss: 0.4513 - val_loss: 0.4458\n",
            "Epoch 68/600\n",
            "2022/2022 [==============================] - 5s 2ms/step - loss: 0.4509 - val_loss: 0.4451\n",
            "Epoch 69/600\n",
            "2022/2022 [==============================] - 6s 3ms/step - loss: 0.4512 - val_loss: 0.4438\n",
            "Epoch 70/600\n",
            "2022/2022 [==============================] - 5s 3ms/step - loss: 0.4508 - val_loss: 0.4456\n",
            "Epoch 71/600\n",
            "2022/2022 [==============================] - 7s 3ms/step - loss: 0.4509 - val_loss: 0.4433\n",
            "Epoch 72/600\n",
            "2022/2022 [==============================] - 5s 3ms/step - loss: 0.4505 - val_loss: 0.4445\n",
            "Epoch 73/600\n",
            "2022/2022 [==============================] - 5s 2ms/step - loss: 0.4510 - val_loss: 0.4439\n",
            "Epoch 74/600\n",
            "2022/2022 [==============================] - 6s 3ms/step - loss: 0.4499 - val_loss: 0.4447\n",
            "Epoch 75/600\n",
            "2022/2022 [==============================] - 5s 3ms/step - loss: 0.4508 - val_loss: 0.4452\n",
            "Epoch 76/600\n",
            "2022/2022 [==============================] - 6s 3ms/step - loss: 0.4499 - val_loss: 0.4446\n",
            "Epoch 77/600\n",
            "2022/2022 [==============================] - 6s 3ms/step - loss: 0.4498 - val_loss: 0.4459\n",
            "Epoch 78/600\n",
            "2022/2022 [==============================] - 5s 2ms/step - loss: 0.4498 - val_loss: 0.4435\n",
            "Epoch 79/600\n",
            "2022/2022 [==============================] - 7s 3ms/step - loss: 0.4503 - val_loss: 0.4429\n",
            "Epoch 80/600\n",
            "2022/2022 [==============================] - 5s 3ms/step - loss: 0.4501 - val_loss: 0.4440\n",
            "Epoch 81/600\n",
            "2022/2022 [==============================] - 6s 3ms/step - loss: 0.4505 - val_loss: 0.4440\n",
            "Epoch 82/600\n",
            "2022/2022 [==============================] - 6s 3ms/step - loss: 0.4494 - val_loss: 0.4434\n",
            "Epoch 83/600\n",
            "2022/2022 [==============================] - 5s 3ms/step - loss: 0.4501 - val_loss: 0.4432\n",
            "Epoch 84/600\n",
            "2022/2022 [==============================] - 7s 3ms/step - loss: 0.4490 - val_loss: 0.4455\n",
            "Epoch 85/600\n",
            "2022/2022 [==============================] - 6s 3ms/step - loss: 0.4504 - val_loss: 0.4437\n",
            "Epoch 86/600\n",
            "2022/2022 [==============================] - 6s 3ms/step - loss: 0.4511 - val_loss: 0.4451\n",
            "Epoch 87/600\n",
            "2022/2022 [==============================] - 6s 3ms/step - loss: 0.4495 - val_loss: 0.4470\n",
            "Epoch 88/600\n",
            "2022/2022 [==============================] - 5s 3ms/step - loss: 0.4493 - val_loss: 0.4427\n",
            "Epoch 89/600\n",
            "2022/2022 [==============================] - 6s 3ms/step - loss: 0.4496 - val_loss: 0.4444\n",
            "Epoch 90/600\n",
            "2022/2022 [==============================] - 5s 3ms/step - loss: 0.4502 - val_loss: 0.4434\n",
            "Epoch 91/600\n",
            "2022/2022 [==============================] - 6s 3ms/step - loss: 0.4508 - val_loss: 0.4437\n",
            "Epoch 92/600\n",
            "2022/2022 [==============================] - 6s 3ms/step - loss: 0.4498 - val_loss: 0.4431\n",
            "Epoch 93/600\n",
            "2022/2022 [==============================] - 5s 3ms/step - loss: 0.4510 - val_loss: 0.4432\n",
            "Epoch 94/600\n",
            "2022/2022 [==============================] - 7s 3ms/step - loss: 0.4501 - val_loss: 0.4448\n",
            "Epoch 95/600\n",
            "2022/2022 [==============================] - 5s 3ms/step - loss: 0.4504 - val_loss: 0.4441\n",
            "Epoch 96/600\n",
            "2022/2022 [==============================] - 6s 3ms/step - loss: 0.4497 - val_loss: 0.4448\n",
            "Epoch 97/600\n",
            "2022/2022 [==============================] - 6s 3ms/step - loss: 0.4496 - val_loss: 0.4440\n",
            "Epoch 98/600\n",
            "2022/2022 [==============================] - 5s 3ms/step - loss: 0.4495 - val_loss: 0.4423\n",
            "Epoch 99/600\n",
            "2022/2022 [==============================] - 7s 3ms/step - loss: 0.4488 - val_loss: 0.4430\n",
            "Epoch 100/600\n",
            "2022/2022 [==============================] - 5s 3ms/step - loss: 0.4491 - val_loss: 0.4432\n",
            "Epoch 101/600\n",
            "2022/2022 [==============================] - 6s 3ms/step - loss: 0.4496 - val_loss: 0.4437\n",
            "Epoch 102/600\n",
            "2022/2022 [==============================] - 6s 3ms/step - loss: 0.4505 - val_loss: 0.4446\n",
            "Epoch 103/600\n",
            "2022/2022 [==============================] - 5s 3ms/step - loss: 0.4493 - val_loss: 0.4421\n",
            "Epoch 104/600\n",
            "2022/2022 [==============================] - 7s 3ms/step - loss: 0.4510 - val_loss: 0.4434\n",
            "Epoch 105/600\n",
            "2022/2022 [==============================] - 5s 2ms/step - loss: 0.4494 - val_loss: 0.4449\n",
            "Epoch 106/600\n",
            "2022/2022 [==============================] - 6s 3ms/step - loss: 0.4499 - val_loss: 0.4436\n",
            "Epoch 107/600\n",
            "2022/2022 [==============================] - 6s 3ms/step - loss: 0.4503 - val_loss: 0.4427\n",
            "Epoch 108/600\n",
            "2022/2022 [==============================] - 5s 3ms/step - loss: 0.4487 - val_loss: 0.4426\n",
            "Epoch 109/600\n",
            "2022/2022 [==============================] - 7s 3ms/step - loss: 0.4493 - val_loss: 0.4439\n",
            "Epoch 110/600\n",
            "2022/2022 [==============================] - 5s 3ms/step - loss: 0.4502 - val_loss: 0.4442\n",
            "Epoch 111/600\n",
            "2022/2022 [==============================] - 7s 3ms/step - loss: 0.4495 - val_loss: 0.4427\n",
            "Epoch 112/600\n",
            "2022/2022 [==============================] - 6s 3ms/step - loss: 0.4496 - val_loss: 0.4421\n",
            "Epoch 113/600\n",
            "2022/2022 [==============================] - 5s 3ms/step - loss: 0.4496 - val_loss: 0.4426\n",
            "Epoch 114/600\n",
            "2022/2022 [==============================] - 7s 3ms/step - loss: 0.4498 - val_loss: 0.4437\n",
            "Epoch 115/600\n",
            "2022/2022 [==============================] - 5s 3ms/step - loss: 0.4499 - val_loss: 0.4445\n",
            "Epoch 116/600\n",
            "2022/2022 [==============================] - 6s 3ms/step - loss: 0.4500 - val_loss: 0.4431\n",
            "Epoch 117/600\n",
            "2022/2022 [==============================] - 6s 3ms/step - loss: 0.4502 - val_loss: 0.4435\n",
            "Epoch 118/600\n",
            "2022/2022 [==============================] - 5s 3ms/step - loss: 0.4496 - val_loss: 0.4443\n",
            "Epoch 119/600\n",
            "2022/2022 [==============================] - 7s 3ms/step - loss: 0.4492 - val_loss: 0.4441\n",
            "Epoch 120/600\n",
            "2022/2022 [==============================] - 5s 3ms/step - loss: 0.4489 - val_loss: 0.4441\n",
            "Epoch 121/600\n",
            "2022/2022 [==============================] - 6s 3ms/step - loss: 0.4493 - val_loss: 0.4435\n",
            "Epoch 122/600\n",
            "2022/2022 [==============================] - 6s 3ms/step - loss: 0.4500 - val_loss: 0.4428\n",
            "Epoch 123/600\n",
            "2022/2022 [==============================] - 5s 3ms/step - loss: 0.4486 - val_loss: 0.4442\n",
            "Epoch 124/600\n",
            "2022/2022 [==============================] - 7s 3ms/step - loss: 0.4505 - val_loss: 0.4430\n",
            "Epoch 125/600\n",
            "2022/2022 [==============================] - 5s 2ms/step - loss: 0.4496 - val_loss: 0.4433\n",
            "Epoch 126/600\n",
            "2022/2022 [==============================] - 7s 3ms/step - loss: 0.4492 - val_loss: 0.4426\n",
            "Epoch 127/600\n",
            "2022/2022 [==============================] - 6s 3ms/step - loss: 0.4491 - val_loss: 0.4443\n",
            "Epoch 128/600\n",
            "2022/2022 [==============================] - 6s 3ms/step - loss: 0.4508 - val_loss: 0.4429\n",
            "Epoch 128: early stopping\n"
          ]
        },
        {
          "data": {
            "text/plain": [
              "<keras.callbacks.History at 0x7ff8f4179a50>"
            ]
          },
          "execution_count": 443,
          "metadata": {},
          "output_type": "execute_result"
        }
      ],
      "source": [
        "model.fit(x=X_train,\n",
        "          y=y_train,\n",
        "          epochs=600,\n",
        "          validation_data=(X_val, y_val), verbose=1,\n",
        "          callbacks=[early_stop]\n",
        "          )"
      ]
    },
    {
      "cell_type": "code",
      "execution_count": null,
      "metadata": {
        "colab": {
          "base_uri": "https://localhost:8080/",
          "height": 447
        },
        "id": "7YKcvbd7n3rX",
        "outputId": "0b958058-e105-4517-e65e-2d6fe33c8454"
      },
      "outputs": [
        {
          "data": {
            "text/plain": [
              "<Axes: >"
            ]
          },
          "execution_count": 444,
          "metadata": {},
          "output_type": "execute_result"
        },
        {
          "data": {
            "image/png": "[encoded data removed]",
            "text/plain": [
              "<Figure size 640x480 with 1 Axes>"
            ]
          },
          "metadata": {},
          "output_type": "display_data"
        }
      ],
      "source": [
        "model_loss = pd.DataFrame(model.history.history)\n",
        "model_loss.plot()"
      ]
    },
    {
      "cell_type": "code",
      "execution_count": null,
      "metadata": {
        "id": "rCTvBJWI0hET"
      },
      "outputs": [],
      "source": [
        "# Re-defining the model\n",
        "# Dropout layers are added after each linear layer\n",
        "# Usual dropout values range from [0.1 - 0.5]\n",
        "model = Sequential()\n",
        "model.add(Dense(units=30,activation='relu'))\n",
        "model.add(Dropout(0.3))\n",
        "\n",
        "model.add(Dense(units=15,activation='relu'))\n",
        "model.add(Dropout(0.3))\n",
        "\n",
        "model.add(Dense(units=1,activation='sigmoid'))\n",
        "model.compile(loss='binary_crossentropy', optimizer='adam')"
      ]
    },
    {
      "cell_type": "code",
      "execution_count": null,
      "metadata": {
        "colab": {
          "base_uri": "https://localhost:8080/"
        },
        "id": "uKiindNw0hCW",
        "outputId": "090f5b8f-7dc4-45a9-94ae-a15b8dd2746b"
      },
      "outputs": [
        {
          "name": "stdout",
          "output_type": "stream",
          "text": [
            "Epoch 1/600\n",
            "2022/2022 [==============================] - 17s 7ms/step - loss: 0.4740 - val_loss: 0.4505\n",
            "Epoch 2/600\n",
            "2022/2022 [==============================] - 11s 5ms/step - loss: 0.4589 - val_loss: 0.4497\n",
            "Epoch 3/600\n",
            "2022/2022 [==============================] - 6s 3ms/step - loss: 0.4547 - val_loss: 0.4495\n",
            "Epoch 4/600\n",
            "2022/2022 [==============================] - 5s 2ms/step - loss: 0.4546 - val_loss: 0.4477\n",
            "Epoch 5/600\n",
            "2022/2022 [==============================] - 5s 3ms/step - loss: 0.4529 - val_loss: 0.4473\n",
            "Epoch 6/600\n",
            "2022/2022 [==============================] - 6s 3ms/step - loss: 0.4518 - val_loss: 0.4470\n",
            "Epoch 7/600\n",
            "2022/2022 [==============================] - 5s 2ms/step - loss: 0.4512 - val_loss: 0.4466\n",
            "Epoch 8/600\n",
            "2022/2022 [==============================] - 5s 3ms/step - loss: 0.4510 - val_loss: 0.4457\n",
            "Epoch 9/600\n",
            "2022/2022 [==============================] - 6s 3ms/step - loss: 0.4501 - val_loss: 0.4479\n",
            "Epoch 10/600\n",
            "2022/2022 [==============================] - 5s 2ms/step - loss: 0.4496 - val_loss: 0.4459\n",
            "Epoch 11/600\n",
            "2022/2022 [==============================] - 6s 3ms/step - loss: 0.4494 - val_loss: 0.4464\n",
            "Epoch 12/600\n",
            "2022/2022 [==============================] - 5s 2ms/step - loss: 0.4490 - val_loss: 0.4452\n",
            "Epoch 13/600\n",
            "2022/2022 [==============================] - 5s 2ms/step - loss: 0.4487 - val_loss: 0.4455\n",
            "Epoch 14/600\n",
            "2022/2022 [==============================] - 6s 3ms/step - loss: 0.4479 - val_loss: 0.4461\n",
            "Epoch 15/600\n",
            "2022/2022 [==============================] - 6s 3ms/step - loss: 0.4481 - val_loss: 0.4464\n",
            "Epoch 16/600\n",
            "2022/2022 [==============================] - 11s 5ms/step - loss: 0.4481 - val_loss: 0.4453\n",
            "Epoch 17/600\n",
            "2022/2022 [==============================] - 11s 6ms/step - loss: 0.4474 - val_loss: 0.4462\n",
            "Epoch 18/600\n",
            "2022/2022 [==============================] - 10s 5ms/step - loss: 0.4474 - val_loss: 0.4456\n",
            "Epoch 19/600\n",
            "2022/2022 [==============================] - 5s 3ms/step - loss: 0.4473 - val_loss: 0.4463\n",
            "Epoch 20/600\n",
            "2022/2022 [==============================] - 5s 3ms/step - loss: 0.4469 - val_loss: 0.4443\n",
            "Epoch 21/600\n",
            "2022/2022 [==============================] - 5s 2ms/step - loss: 0.4460 - val_loss: 0.4449\n",
            "Epoch 22/600\n",
            "2022/2022 [==============================] - 5s 3ms/step - loss: 0.4475 - val_loss: 0.4447\n",
            "Epoch 23/600\n",
            "2022/2022 [==============================] - 5s 3ms/step - loss: 0.4466 - val_loss: 0.4449\n",
            "Epoch 24/600\n",
            "2022/2022 [==============================] - 4s 2ms/step - loss: 0.4463 - val_loss: 0.4446\n",
            "Epoch 25/600\n",
            "2022/2022 [==============================] - 6s 3ms/step - loss: 0.4461 - val_loss: 0.4429\n",
            "Epoch 26/600\n",
            "2022/2022 [==============================] - 5s 2ms/step - loss: 0.4458 - val_loss: 0.4455\n",
            "Epoch 27/600\n",
            "2022/2022 [==============================] - 4s 2ms/step - loss: 0.4465 - val_loss: 0.4435\n",
            "Epoch 28/600\n",
            "2022/2022 [==============================] - 6s 3ms/step - loss: 0.4448 - val_loss: 0.4442\n",
            "Epoch 29/600\n",
            "2022/2022 [==============================] - 5s 3ms/step - loss: 0.4453 - val_loss: 0.4437\n",
            "Epoch 30/600\n",
            "2022/2022 [==============================] - 5s 2ms/step - loss: 0.4457 - val_loss: 0.4433\n",
            "Epoch 31/600\n",
            "2022/2022 [==============================] - 6s 3ms/step - loss: 0.4454 - val_loss: 0.4418\n",
            "Epoch 32/600\n",
            "2022/2022 [==============================] - 4s 2ms/step - loss: 0.4451 - val_loss: 0.4425\n",
            "Epoch 33/600\n",
            "2022/2022 [==============================] - 5s 2ms/step - loss: 0.4454 - val_loss: 0.4442\n",
            "Epoch 34/600\n",
            "2022/2022 [==============================] - 6s 3ms/step - loss: 0.4450 - val_loss: 0.4432\n",
            "Epoch 35/600\n",
            "2022/2022 [==============================] - 5s 2ms/step - loss: 0.4451 - val_loss: 0.4440\n",
            "Epoch 36/600\n",
            "2022/2022 [==============================] - 4s 2ms/step - loss: 0.4452 - val_loss: 0.4440\n",
            "Epoch 37/600\n",
            "2022/2022 [==============================] - 7s 3ms/step - loss: 0.4451 - val_loss: 0.4419\n",
            "Epoch 38/600\n",
            "2022/2022 [==============================] - 5s 2ms/step - loss: 0.4456 - val_loss: 0.4447\n",
            "Epoch 39/600\n",
            "2022/2022 [==============================] - 6s 3ms/step - loss: 0.4441 - val_loss: 0.4434\n",
            "Epoch 40/600\n",
            "2022/2022 [==============================] - 5s 3ms/step - loss: 0.4442 - val_loss: 0.4423\n",
            "Epoch 41/600\n",
            "2022/2022 [==============================] - 5s 2ms/step - loss: 0.4441 - val_loss: 0.4429\n",
            "Epoch 42/600\n",
            "2022/2022 [==============================] - 6s 3ms/step - loss: 0.4437 - val_loss: 0.4424\n",
            "Epoch 43/600\n",
            "2022/2022 [==============================] - 5s 2ms/step - loss: 0.4443 - val_loss: 0.4428\n",
            "Epoch 44/600\n",
            "2022/2022 [==============================] - 5s 2ms/step - loss: 0.4436 - val_loss: 0.4430\n",
            "Epoch 45/600\n",
            "2022/2022 [==============================] - 6s 3ms/step - loss: 0.4447 - val_loss: 0.4429\n",
            "Epoch 46/600\n",
            "2022/2022 [==============================] - 4s 2ms/step - loss: 0.4441 - val_loss: 0.4431\n",
            "Epoch 47/600\n",
            "2022/2022 [==============================] - 4s 2ms/step - loss: 0.4440 - val_loss: 0.4422\n",
            "Epoch 48/600\n",
            "2022/2022 [==============================] - 6s 3ms/step - loss: 0.4439 - val_loss: 0.4418\n",
            "Epoch 49/600\n",
            "2022/2022 [==============================] - 5s 2ms/step - loss: 0.4431 - val_loss: 0.4425\n",
            "Epoch 50/600\n",
            "2022/2022 [==============================] - 5s 2ms/step - loss: 0.4435 - val_loss: 0.4416\n",
            "Epoch 51/600\n",
            "2022/2022 [==============================] - 6s 3ms/step - loss: 0.4435 - val_loss: 0.4416\n",
            "Epoch 52/600\n",
            "2022/2022 [==============================] - 5s 2ms/step - loss: 0.4443 - val_loss: 0.4425\n",
            "Epoch 53/600\n",
            "2022/2022 [==============================] - 5s 2ms/step - loss: 0.4437 - val_loss: 0.4430\n",
            "Epoch 54/600\n",
            "2022/2022 [==============================] - 6s 3ms/step - loss: 0.4437 - val_loss: 0.4424\n",
            "Epoch 55/600\n",
            "2022/2022 [==============================] - 5s 2ms/step - loss: 0.4432 - val_loss: 0.4425\n",
            "Epoch 56/600\n",
            "2022/2022 [==============================] - 5s 3ms/step - loss: 0.4432 - val_loss: 0.4416\n",
            "Epoch 57/600\n",
            "2022/2022 [==============================] - 6s 3ms/step - loss: 0.4424 - val_loss: 0.4419\n",
            "Epoch 58/600\n",
            "2022/2022 [==============================] - 5s 2ms/step - loss: 0.4434 - val_loss: 0.4433\n",
            "Epoch 59/600\n",
            "2022/2022 [==============================] - 7s 3ms/step - loss: 0.4433 - val_loss: 0.4427\n",
            "Epoch 60/600\n",
            "2022/2022 [==============================] - 5s 2ms/step - loss: 0.4432 - val_loss: 0.4431\n",
            "Epoch 61/600\n",
            "2022/2022 [==============================] - 5s 2ms/step - loss: 0.4433 - val_loss: 0.4414\n",
            "Epoch 62/600\n",
            "2022/2022 [==============================] - 6s 3ms/step - loss: 0.4430 - val_loss: 0.4418\n",
            "Epoch 63/600\n",
            "2022/2022 [==============================] - 5s 2ms/step - loss: 0.4430 - val_loss: 0.4417\n",
            "Epoch 64/600\n",
            "2022/2022 [==============================] - 5s 2ms/step - loss: 0.4429 - val_loss: 0.4417\n",
            "Epoch 65/600\n",
            "2022/2022 [==============================] - 6s 3ms/step - loss: 0.4428 - val_loss: 0.4414\n",
            "Epoch 66/600\n",
            "2022/2022 [==============================] - 5s 2ms/step - loss: 0.4424 - val_loss: 0.4423\n",
            "Epoch 67/600\n",
            "2022/2022 [==============================] - 5s 2ms/step - loss: 0.4424 - val_loss: 0.4418\n",
            "Epoch 68/600\n",
            "2022/2022 [==============================] - 6s 3ms/step - loss: 0.4429 - val_loss: 0.4426\n",
            "Epoch 69/600\n",
            "2022/2022 [==============================] - 5s 2ms/step - loss: 0.4430 - val_loss: 0.4422\n",
            "Epoch 70/600\n",
            "2022/2022 [==============================] - 6s 3ms/step - loss: 0.4422 - val_loss: 0.4410\n",
            "Epoch 71/600\n",
            "2022/2022 [==============================] - 6s 3ms/step - loss: 0.4427 - val_loss: 0.4421\n",
            "Epoch 72/600\n",
            "2022/2022 [==============================] - 5s 2ms/step - loss: 0.4431 - val_loss: 0.4421\n",
            "Epoch 73/600\n",
            "2022/2022 [==============================] - 6s 3ms/step - loss: 0.4423 - val_loss: 0.4420\n",
            "Epoch 74/600\n",
            "2022/2022 [==============================] - 5s 2ms/step - loss: 0.4427 - val_loss: 0.4424\n",
            "Epoch 75/600\n",
            "2022/2022 [==============================] - 5s 2ms/step - loss: 0.4428 - val_loss: 0.4421\n",
            "Epoch 76/600\n",
            "2022/2022 [==============================] - 6s 3ms/step - loss: 0.4430 - val_loss: 0.4431\n",
            "Epoch 77/600\n",
            "2022/2022 [==============================] - 4s 2ms/step - loss: 0.4419 - val_loss: 0.4420\n",
            "Epoch 78/600\n",
            "2022/2022 [==============================] - 4s 2ms/step - loss: 0.4428 - val_loss: 0.4417\n",
            "Epoch 79/600\n",
            "2022/2022 [==============================] - 6s 3ms/step - loss: 0.4427 - val_loss: 0.4429\n",
            "Epoch 80/600\n",
            "2022/2022 [==============================] - 5s 2ms/step - loss: 0.4426 - val_loss: 0.4417\n",
            "Epoch 81/600\n",
            "2022/2022 [==============================] - 5s 2ms/step - loss: 0.4421 - val_loss: 0.4423\n",
            "Epoch 82/600\n",
            "2022/2022 [==============================] - 6s 3ms/step - loss: 0.4423 - val_loss: 0.4421\n",
            "Epoch 83/600\n",
            "2022/2022 [==============================] - 5s 2ms/step - loss: 0.4420 - val_loss: 0.4412\n",
            "Epoch 84/600\n",
            "2022/2022 [==============================] - 6s 3ms/step - loss: 0.4427 - val_loss: 0.4431\n",
            "Epoch 85/600\n",
            "2022/2022 [==============================] - 6s 3ms/step - loss: 0.4421 - val_loss: 0.4430\n",
            "Epoch 86/600\n",
            "2022/2022 [==============================] - 5s 2ms/step - loss: 0.4428 - val_loss: 0.4424\n",
            "Epoch 87/600\n",
            "2022/2022 [==============================] - 5s 3ms/step - loss: 0.4423 - val_loss: 0.4426\n",
            "Epoch 88/600\n",
            "2022/2022 [==============================] - 5s 3ms/step - loss: 0.4416 - val_loss: 0.4426\n",
            "Epoch 89/600\n",
            "2022/2022 [==============================] - 5s 2ms/step - loss: 0.4423 - val_loss: 0.4420\n",
            "Epoch 90/600\n",
            "2022/2022 [==============================] - 6s 3ms/step - loss: 0.4420 - val_loss: 0.4419\n",
            "Epoch 91/600\n",
            "2022/2022 [==============================] - 5s 3ms/step - loss: 0.4424 - val_loss: 0.4410\n",
            "Epoch 92/600\n",
            "2022/2022 [==============================] - 5s 2ms/step - loss: 0.4414 - val_loss: 0.4413\n",
            "Epoch 93/600\n",
            "2022/2022 [==============================] - 6s 3ms/step - loss: 0.4423 - val_loss: 0.4419\n",
            "Epoch 94/600\n",
            "2022/2022 [==============================] - 5s 2ms/step - loss: 0.4417 - val_loss: 0.4417\n",
            "Epoch 95/600\n",
            "2022/2022 [==============================] - 5s 2ms/step - loss: 0.4422 - val_loss: 0.4419\n",
            "Epoch 96/600\n",
            "2022/2022 [==============================] - 7s 3ms/step - loss: 0.4418 - val_loss: 0.4412\n",
            "Epoch 97/600\n",
            "2022/2022 [==============================] - 5s 2ms/step - loss: 0.4421 - val_loss: 0.4426\n",
            "Epoch 98/600\n",
            "2022/2022 [==============================] - 5s 2ms/step - loss: 0.4408 - val_loss: 0.4427\n",
            "Epoch 99/600\n",
            "2022/2022 [==============================] - 6s 3ms/step - loss: 0.4409 - val_loss: 0.4416\n",
            "Epoch 100/600\n",
            "2022/2022 [==============================] - 5s 2ms/step - loss: 0.4411 - val_loss: 0.4427\n",
            "Epoch 101/600\n",
            "2022/2022 [==============================] - 5s 3ms/step - loss: 0.4417 - val_loss: 0.4412\n",
            "Epoch 102/600\n",
            "2022/2022 [==============================] - 6s 3ms/step - loss: 0.4415 - val_loss: 0.4418\n",
            "Epoch 103/600\n",
            "2022/2022 [==============================] - 5s 2ms/step - loss: 0.4411 - val_loss: 0.4414\n",
            "Epoch 104/600\n",
            "2022/2022 [==============================] - 6s 3ms/step - loss: 0.4417 - val_loss: 0.4415\n",
            "Epoch 105/600\n",
            "2022/2022 [==============================] - 5s 3ms/step - loss: 0.4419 - val_loss: 0.4422\n",
            "Epoch 106/600\n",
            "2022/2022 [==============================] - 5s 2ms/step - loss: 0.4412 - val_loss: 0.4421\n",
            "Epoch 107/600\n",
            "2022/2022 [==============================] - 6s 3ms/step - loss: 0.4414 - val_loss: 0.4422\n",
            "Epoch 108/600\n",
            "2022/2022 [==============================] - 5s 3ms/step - loss: 0.4413 - val_loss: 0.4424\n",
            "Epoch 109/600\n",
            "2022/2022 [==============================] - 5s 2ms/step - loss: 0.4409 - val_loss: 0.4414\n",
            "Epoch 110/600\n",
            "2022/2022 [==============================] - 6s 3ms/step - loss: 0.4416 - val_loss: 0.4415\n",
            "Epoch 111/600\n",
            "2022/2022 [==============================] - 5s 2ms/step - loss: 0.4410 - val_loss: 0.4415\n",
            "Epoch 112/600\n",
            "2022/2022 [==============================] - 5s 2ms/step - loss: 0.4415 - val_loss: 0.4424\n",
            "Epoch 113/600\n",
            "2022/2022 [==============================] - 6s 3ms/step - loss: 0.4422 - val_loss: 0.4417\n",
            "Epoch 114/600\n",
            "2022/2022 [==============================] - 5s 2ms/step - loss: 0.4407 - val_loss: 0.4426\n",
            "Epoch 115/600\n",
            "2022/2022 [==============================] - 5s 2ms/step - loss: 0.4415 - val_loss: 0.4414\n",
            "Epoch 116/600\n",
            "2022/2022 [==============================] - 6s 3ms/step - loss: 0.4416 - val_loss: 0.4418\n",
            "Epoch 116: early stopping\n"
          ]
        },
        {
          "data": {
            "text/plain": [
              "<keras.callbacks.History at 0x7ff8e65d1360>"
            ]
          },
          "execution_count": 446,
          "metadata": {},
          "output_type": "execute_result"
        }
      ],
      "source": [
        "model.fit(x=X_train,\n",
        "          y=y_train,\n",
        "          epochs=600,\n",
        "          validation_data=(X_val, y_val), verbose=1,\n",
        "          callbacks=[early_stop]\n",
        "          )"
      ]
    },
    {
      "cell_type": "code",
      "execution_count": null,
      "metadata": {
        "colab": {
          "base_uri": "https://localhost:8080/",
          "height": 447
        },
        "id": "bWWmwtxE0g_g",
        "outputId": "38447234-cc27-4dae-ce3b-3f211599ede9"
      },
      "outputs": [
        {
          "data": {
            "text/plain": [
              "<Axes: >"
            ]
          },
          "execution_count": 447,
          "metadata": {},
          "output_type": "execute_result"
        },
        {
          "data": {
            "image/png": "[encoded data removed]",
            "text/plain": [
              "<Figure size 640x480 with 1 Axes>"
            ]
          },
          "metadata": {},
          "output_type": "display_data"
        }
      ],
      "source": [
        "model_loss = pd.DataFrame(model.history.history)\n",
        "model_loss.plot()"
      ]
    },
    {
      "cell_type": "code",
      "execution_count": null,
      "metadata": {
        "id": "EcYn-Odh0g8Z"
      },
      "outputs": [],
      "source": [
        "# Re-defining the model\n",
        "# Dropout layers are added after each linear layer\n",
        "# Usual dropout values range from [0.1 - 0.5]\n",
        "model = Sequential()\n",
        "model.add(Dense(units=30,activation='relu'))\n",
        "model.add(Dropout(0.3))\n",
        "\n",
        "model.add(Dense(units=15,activation='relu'))\n",
        "model.add(Dropout(0.3))\n",
        "\n",
        "model.add(Dense(units=1,activation='sigmoid'))\n",
        "model.compile(loss='binary_crossentropy', optimizer='RMSprop')"
      ]
    },
    {
      "cell_type": "code",
      "execution_count": null,
      "metadata": {
        "colab": {
          "base_uri": "https://localhost:8080/"
        },
        "id": "lP5FG2RVh6b7",
        "outputId": "2d6219d2-9962-4372-9b67-3f033defd5af"
      },
      "outputs": [
        {
          "name": "stdout",
          "output_type": "stream",
          "text": [
            "Epoch 1/600\n",
            "2022/2022 [==============================] - 7s 3ms/step - loss: 0.4766 - val_loss: 0.4512\n",
            "Epoch 2/600\n",
            "2022/2022 [==============================] - 5s 2ms/step - loss: 0.4595 - val_loss: 0.4522\n",
            "Epoch 3/600\n",
            "2022/2022 [==============================] - 5s 2ms/step - loss: 0.4555 - val_loss: 0.4482\n",
            "Epoch 4/600\n",
            "2022/2022 [==============================] - 8s 4ms/step - loss: 0.4550 - val_loss: 0.4485\n",
            "Epoch 5/600\n",
            "2022/2022 [==============================] - 4s 2ms/step - loss: 0.4536 - val_loss: 0.4481\n",
            "Epoch 6/600\n",
            "2022/2022 [==============================] - 5s 3ms/step - loss: 0.4526 - val_loss: 0.4488\n",
            "Epoch 7/600\n",
            "2022/2022 [==============================] - 5s 3ms/step - loss: 0.4528 - val_loss: 0.4476\n",
            "Epoch 8/600\n",
            "2022/2022 [==============================] - 4s 2ms/step - loss: 0.4517 - val_loss: 0.4482\n",
            "Epoch 9/600\n",
            "2022/2022 [==============================] - 6s 3ms/step - loss: 0.4515 - val_loss: 0.4485\n",
            "Epoch 10/600\n",
            "2022/2022 [==============================] - 5s 2ms/step - loss: 0.4516 - val_loss: 0.4483\n",
            "Epoch 11/600\n",
            "2022/2022 [==============================] - 4s 2ms/step - loss: 0.4517 - val_loss: 0.4472\n",
            "Epoch 12/600\n",
            "2022/2022 [==============================] - 6s 3ms/step - loss: 0.4512 - val_loss: 0.4477\n",
            "Epoch 13/600\n",
            "2022/2022 [==============================] - 6s 3ms/step - loss: 0.4506 - val_loss: 0.4479\n",
            "Epoch 14/600\n",
            "2022/2022 [==============================] - 6s 3ms/step - loss: 0.4512 - val_loss: 0.4489\n",
            "Epoch 15/600\n",
            "2022/2022 [==============================] - 9s 4ms/step - loss: 0.4508 - val_loss: 0.4497\n",
            "Epoch 16/600\n",
            "2022/2022 [==============================] - 6s 3ms/step - loss: 0.4512 - val_loss: 0.4486\n",
            "Epoch 17/600\n",
            "2022/2022 [==============================] - 5s 3ms/step - loss: 0.4510 - val_loss: 0.4478\n",
            "Epoch 18/600\n",
            "2022/2022 [==============================] - 5s 2ms/step - loss: 0.4508 - val_loss: 0.4489\n",
            "Epoch 19/600\n",
            "2022/2022 [==============================] - 6s 3ms/step - loss: 0.4501 - val_loss: 0.4484\n",
            "Epoch 20/600\n",
            "2022/2022 [==============================] - 5s 2ms/step - loss: 0.4509 - val_loss: 0.4480\n",
            "Epoch 21/600\n",
            "2022/2022 [==============================] - 5s 2ms/step - loss: 0.4499 - val_loss: 0.4501\n",
            "Epoch 22/600\n",
            "2022/2022 [==============================] - 6s 3ms/step - loss: 0.4507 - val_loss: 0.4482\n",
            "Epoch 23/600\n",
            "2022/2022 [==============================] - 4s 2ms/step - loss: 0.4506 - val_loss: 0.4489\n",
            "Epoch 24/600\n",
            "2022/2022 [==============================] - 6s 3ms/step - loss: 0.4504 - val_loss: 0.4480\n",
            "Epoch 25/600\n",
            "2022/2022 [==============================] - 5s 3ms/step - loss: 0.4505 - val_loss: 0.4474\n",
            "Epoch 26/600\n",
            "2022/2022 [==============================] - 4s 2ms/step - loss: 0.4505 - val_loss: 0.4486\n",
            "Epoch 27/600\n",
            "2022/2022 [==============================] - 6s 3ms/step - loss: 0.4501 - val_loss: 0.4483\n",
            "Epoch 28/600\n",
            "2022/2022 [==============================] - 5s 2ms/step - loss: 0.4506 - val_loss: 0.4489\n",
            "Epoch 29/600\n",
            "2022/2022 [==============================] - 5s 2ms/step - loss: 0.4502 - val_loss: 0.4475\n",
            "Epoch 30/600\n",
            "2022/2022 [==============================] - 8s 4ms/step - loss: 0.4505 - val_loss: 0.4480\n",
            "Epoch 31/600\n",
            "2022/2022 [==============================] - 5s 3ms/step - loss: 0.4506 - val_loss: 0.4472\n",
            "Epoch 32/600\n",
            "2022/2022 [==============================] - 7s 3ms/step - loss: 0.4503 - val_loss: 0.4485\n",
            "Epoch 33/600\n",
            "2022/2022 [==============================] - 5s 2ms/step - loss: 0.4509 - val_loss: 0.4489\n",
            "Epoch 34/600\n",
            "2022/2022 [==============================] - 5s 2ms/step - loss: 0.4503 - val_loss: 0.4487\n",
            "Epoch 35/600\n",
            "2022/2022 [==============================] - 6s 3ms/step - loss: 0.4507 - val_loss: 0.4475\n",
            "Epoch 36/600\n",
            "2022/2022 [==============================] - 4s 2ms/step - loss: 0.4502 - val_loss: 0.4479\n",
            "Epoch 37/600\n",
            "2022/2022 [==============================] - 5s 2ms/step - loss: 0.4510 - val_loss: 0.4481\n",
            "Epoch 38/600\n",
            "2022/2022 [==============================] - 6s 3ms/step - loss: 0.4505 - val_loss: 0.4478\n",
            "Epoch 39/600\n",
            "2022/2022 [==============================] - 5s 3ms/step - loss: 0.4510 - val_loss: 0.4477\n",
            "Epoch 40/600\n",
            "2022/2022 [==============================] - 5s 3ms/step - loss: 0.4503 - val_loss: 0.4473\n",
            "Epoch 41/600\n",
            "2022/2022 [==============================] - 6s 3ms/step - loss: 0.4515 - val_loss: 0.4483\n",
            "Epoch 42/600\n",
            "2022/2022 [==============================] - 5s 2ms/step - loss: 0.4500 - val_loss: 0.4473\n",
            "Epoch 43/600\n",
            "2022/2022 [==============================] - 6s 3ms/step - loss: 0.4512 - val_loss: 0.4482\n",
            "Epoch 44/600\n",
            "2022/2022 [==============================] - 5s 2ms/step - loss: 0.4491 - val_loss: 0.4474\n",
            "Epoch 45/600\n",
            "2022/2022 [==============================] - 5s 2ms/step - loss: 0.4498 - val_loss: 0.4480\n",
            "Epoch 46/600\n",
            "2022/2022 [==============================] - 6s 3ms/step - loss: 0.4507 - val_loss: 0.4475\n",
            "Epoch 47/600\n",
            "2022/2022 [==============================] - 5s 2ms/step - loss: 0.4508 - val_loss: 0.4537\n",
            "Epoch 48/600\n",
            "2022/2022 [==============================] - 5s 2ms/step - loss: 0.4508 - val_loss: 0.4494\n",
            "Epoch 49/600\n",
            "2022/2022 [==============================] - 6s 3ms/step - loss: 0.4506 - val_loss: 0.4474\n",
            "Epoch 50/600\n",
            "2022/2022 [==============================] - 5s 2ms/step - loss: 0.4501 - val_loss: 0.4485\n",
            "Epoch 51/600\n",
            "2022/2022 [==============================] - 5s 2ms/step - loss: 0.4503 - val_loss: 0.4487\n",
            "Epoch 52/600\n",
            "2022/2022 [==============================] - 5s 3ms/step - loss: 0.4504 - val_loss: 0.4475\n",
            "Epoch 53/600\n",
            "2022/2022 [==============================] - 5s 2ms/step - loss: 0.4505 - val_loss: 0.4500\n",
            "Epoch 54/600\n",
            "2022/2022 [==============================] - 5s 3ms/step - loss: 0.4511 - val_loss: 0.4475\n",
            "Epoch 55/600\n",
            "2022/2022 [==============================] - 6s 3ms/step - loss: 0.4505 - val_loss: 0.4485\n",
            "Epoch 56/600\n",
            "2022/2022 [==============================] - 5s 2ms/step - loss: 0.4500 - val_loss: 0.4483\n",
            "Epoch 56: early stopping\n"
          ]
        },
        {
          "data": {
            "text/plain": [
              "<keras.callbacks.History at 0x7f1311abbe80>"
            ]
          },
          "execution_count": 111,
          "metadata": {},
          "output_type": "execute_result"
        }
      ],
      "source": [
        "model.fit(x=X_train,\n",
        "          y=y_train,\n",
        "          epochs=600,\n",
        "          validation_data=(X_val, y_val), verbose=1,\n",
        "          callbacks=[early_stop]\n",
        "          )"
      ]
    },
    {
      "cell_type": "code",
      "execution_count": null,
      "metadata": {
        "colab": {
          "base_uri": "https://localhost:8080/",
          "height": 447
        },
        "id": "ROwjNgdZh6V9",
        "outputId": "6c08612a-7655-4863-c403-191b796fedc8"
      },
      "outputs": [
        {
          "data": {
            "text/plain": [
              "<Axes: >"
            ]
          },
          "execution_count": 112,
          "metadata": {},
          "output_type": "execute_result"
        },
        {
          "data": {
            "image/png": "[encoded data removed]",
            "text/plain": [
              "<Figure size 640x480 with 1 Axes>"
            ]
          },
          "metadata": {},
          "output_type": "display_data"
        }
      ],
      "source": [
        "model_loss = pd.DataFrame(model.history.history)\n",
        "model_loss.plot()"
      ]
    },
    {
      "cell_type": "markdown",
      "metadata": {
        "id": "oeChUDa3j6ui"
      },
      "source": [
        "The adam optimizer appears to be better than RMSProp."
      ]
    },
    {
      "cell_type": "code",
      "execution_count": null,
      "metadata": {
        "id": "XTYY6PEnnt7b"
      },
      "outputs": [],
      "source": [
        "# Re-defining the model\n",
        "# Dropout layers are added after each linear layer\n",
        "# Usual dropout values range from [0.1 - 0.5]\n",
        "model = Sequential()\n",
        "model.add(Dense(units=30,activation='relu'))\n",
        "model.add(Dropout(0.3))\n",
        "\n",
        "model.add(Dense(units=25,activation='relu'))\n",
        "model.add(Dropout(0.3))\n",
        "\n",
        "model.add(Dense(units=1,activation='sigmoid'))\n",
        "model.compile(loss='binary_crossentropy', optimizer='adam')"
      ]
    },
    {
      "cell_type": "code",
      "execution_count": null,
      "metadata": {
        "colab": {
          "base_uri": "https://localhost:8080/"
        },
        "id": "cGfYxH6zntw2",
        "outputId": "5c920e69-351d-4b75-cc60-269971bc8685"
      },
      "outputs": [
        {
          "name": "stdout",
          "output_type": "stream",
          "text": [
            "Epoch 1/600\n",
            "2022/2022 [==============================] - 8s 3ms/step - loss: 0.4723 - val_loss: 0.4519\n",
            "Epoch 2/600\n",
            "2022/2022 [==============================] - 6s 3ms/step - loss: 0.4559 - val_loss: 0.4483\n",
            "Epoch 3/600\n",
            "2022/2022 [==============================] - 5s 3ms/step - loss: 0.4539 - val_loss: 0.4474\n",
            "Epoch 4/600\n",
            "2022/2022 [==============================] - 5s 2ms/step - loss: 0.4530 - val_loss: 0.4480\n",
            "Epoch 5/600\n",
            "2022/2022 [==============================] - 6s 3ms/step - loss: 0.4512 - val_loss: 0.4465\n",
            "Epoch 6/600\n",
            "2022/2022 [==============================] - 5s 2ms/step - loss: 0.4502 - val_loss: 0.4486\n",
            "Epoch 7/600\n",
            "2022/2022 [==============================] - 5s 2ms/step - loss: 0.4485 - val_loss: 0.4481\n",
            "Epoch 8/600\n",
            "2022/2022 [==============================] - 6s 3ms/step - loss: 0.4488 - val_loss: 0.4475\n",
            "Epoch 9/600\n",
            "2022/2022 [==============================] - 5s 2ms/step - loss: 0.4490 - val_loss: 0.4458\n",
            "Epoch 10/600\n",
            "2022/2022 [==============================] - 5s 3ms/step - loss: 0.4472 - val_loss: 0.4449\n",
            "Epoch 11/600\n",
            "2022/2022 [==============================] - 5s 2ms/step - loss: 0.4470 - val_loss: 0.4454\n",
            "Epoch 12/600\n",
            "2022/2022 [==============================] - 5s 2ms/step - loss: 0.4472 - val_loss: 0.4445\n",
            "Epoch 13/600\n",
            "2022/2022 [==============================] - 6s 3ms/step - loss: 0.4466 - val_loss: 0.4454\n",
            "Epoch 14/600\n",
            "2022/2022 [==============================] - 5s 2ms/step - loss: 0.4468 - val_loss: 0.4457\n",
            "Epoch 15/600\n",
            "2022/2022 [==============================] - 4s 2ms/step - loss: 0.4461 - val_loss: 0.4443\n",
            "Epoch 16/600\n",
            "2022/2022 [==============================] - 6s 3ms/step - loss: 0.4458 - val_loss: 0.4445\n",
            "Epoch 17/600\n",
            "2022/2022 [==============================] - 5s 3ms/step - loss: 0.4455 - val_loss: 0.4443\n",
            "Epoch 18/600\n",
            "2022/2022 [==============================] - 6s 3ms/step - loss: 0.4456 - val_loss: 0.4445\n",
            "Epoch 19/600\n",
            "2022/2022 [==============================] - 6s 3ms/step - loss: 0.4441 - val_loss: 0.4448\n",
            "Epoch 20/600\n",
            "2022/2022 [==============================] - 5s 2ms/step - loss: 0.4450 - val_loss: 0.4440\n",
            "Epoch 21/600\n",
            "2022/2022 [==============================] - 6s 3ms/step - loss: 0.4449 - val_loss: 0.4443\n",
            "Epoch 22/600\n",
            "2022/2022 [==============================] - 5s 2ms/step - loss: 0.4448 - val_loss: 0.4437\n",
            "Epoch 23/600\n",
            "2022/2022 [==============================] - 5s 3ms/step - loss: 0.4449 - val_loss: 0.4437\n",
            "Epoch 24/600\n",
            "2022/2022 [==============================] - 6s 3ms/step - loss: 0.4445 - val_loss: 0.4434\n",
            "Epoch 25/600\n",
            "2022/2022 [==============================] - 5s 2ms/step - loss: 0.4441 - val_loss: 0.4431\n",
            "Epoch 26/600\n",
            "2022/2022 [==============================] - 6s 3ms/step - loss: 0.4445 - val_loss: 0.4432\n",
            "Epoch 27/600\n",
            "2022/2022 [==============================] - 5s 2ms/step - loss: 0.4437 - val_loss: 0.4426\n",
            "Epoch 28/600\n",
            "2022/2022 [==============================] - 5s 2ms/step - loss: 0.4437 - val_loss: 0.4425\n",
            "Epoch 29/600\n",
            "2022/2022 [==============================] - 7s 3ms/step - loss: 0.4435 - val_loss: 0.4434\n",
            "Epoch 30/600\n",
            "2022/2022 [==============================] - 5s 2ms/step - loss: 0.4441 - val_loss: 0.4433\n",
            "Epoch 31/600\n",
            "2022/2022 [==============================] - 6s 3ms/step - loss: 0.4445 - val_loss: 0.4443\n",
            "Epoch 32/600\n",
            "2022/2022 [==============================] - 6s 3ms/step - loss: 0.4436 - val_loss: 0.4431\n",
            "Epoch 33/600\n",
            "2022/2022 [==============================] - 5s 2ms/step - loss: 0.4441 - val_loss: 0.4432\n",
            "Epoch 34/600\n",
            "2022/2022 [==============================] - 6s 3ms/step - loss: 0.4434 - val_loss: 0.4460\n",
            "Epoch 35/600\n",
            "2022/2022 [==============================] - 5s 2ms/step - loss: 0.4432 - val_loss: 0.4445\n",
            "Epoch 36/600\n",
            "2022/2022 [==============================] - 6s 3ms/step - loss: 0.4428 - val_loss: 0.4432\n",
            "Epoch 37/600\n",
            "2022/2022 [==============================] - 5s 3ms/step - loss: 0.4434 - val_loss: 0.4430\n",
            "Epoch 38/600\n",
            "2022/2022 [==============================] - 5s 2ms/step - loss: 0.4430 - val_loss: 0.4418\n",
            "Epoch 39/600\n",
            "2022/2022 [==============================] - 7s 3ms/step - loss: 0.4429 - val_loss: 0.4424\n",
            "Epoch 40/600\n",
            "2022/2022 [==============================] - 5s 2ms/step - loss: 0.4432 - val_loss: 0.4416\n",
            "Epoch 41/600\n",
            "2022/2022 [==============================] - 5s 2ms/step - loss: 0.4430 - val_loss: 0.4428\n",
            "Epoch 42/600\n",
            "2022/2022 [==============================] - 6s 3ms/step - loss: 0.4425 - val_loss: 0.4424\n",
            "Epoch 43/600\n",
            "2022/2022 [==============================] - 4s 2ms/step - loss: 0.4426 - val_loss: 0.4418\n",
            "Epoch 44/600\n",
            "2022/2022 [==============================] - 6s 3ms/step - loss: 0.4424 - val_loss: 0.4440\n",
            "Epoch 45/600\n",
            "2022/2022 [==============================] - 6s 3ms/step - loss: 0.4424 - val_loss: 0.4416\n",
            "Epoch 46/600\n",
            "2022/2022 [==============================] - 5s 3ms/step - loss: 0.4422 - val_loss: 0.4433\n",
            "Epoch 47/600\n",
            "2022/2022 [==============================] - 7s 3ms/step - loss: 0.4421 - val_loss: 0.4425\n",
            "Epoch 48/600\n",
            "2022/2022 [==============================] - 5s 2ms/step - loss: 0.4418 - val_loss: 0.4416\n",
            "Epoch 49/600\n",
            "2022/2022 [==============================] - 5s 3ms/step - loss: 0.4423 - val_loss: 0.4426\n",
            "Epoch 50/600\n",
            "2022/2022 [==============================] - 6s 3ms/step - loss: 0.4424 - val_loss: 0.4426\n",
            "Epoch 51/600\n",
            "2022/2022 [==============================] - 5s 2ms/step - loss: 0.4422 - val_loss: 0.4455\n",
            "Epoch 52/600\n",
            "2022/2022 [==============================] - 7s 3ms/step - loss: 0.4433 - val_loss: 0.4418\n",
            "Epoch 53/600\n",
            "2022/2022 [==============================] - 5s 2ms/step - loss: 0.4424 - val_loss: 0.4418\n",
            "Epoch 54/600\n",
            "2022/2022 [==============================] - 6s 3ms/step - loss: 0.4419 - val_loss: 0.4433\n",
            "Epoch 55/600\n",
            "2022/2022 [==============================] - 6s 3ms/step - loss: 0.4417 - val_loss: 0.4417\n",
            "Epoch 56/600\n",
            "2022/2022 [==============================] - 5s 2ms/step - loss: 0.4417 - val_loss: 0.4429\n",
            "Epoch 57/600\n",
            "2022/2022 [==============================] - 6s 3ms/step - loss: 0.4414 - val_loss: 0.4433\n",
            "Epoch 58/600\n",
            "2022/2022 [==============================] - 5s 2ms/step - loss: 0.4422 - val_loss: 0.4416\n",
            "Epoch 59/600\n",
            "2022/2022 [==============================] - 5s 2ms/step - loss: 0.4420 - val_loss: 0.4429\n",
            "Epoch 60/600\n",
            "2022/2022 [==============================] - 6s 3ms/step - loss: 0.4418 - val_loss: 0.4434\n",
            "Epoch 61/600\n",
            "2022/2022 [==============================] - 5s 2ms/step - loss: 0.4413 - val_loss: 0.4425\n",
            "Epoch 62/600\n",
            "2022/2022 [==============================] - 6s 3ms/step - loss: 0.4416 - val_loss: 0.4418\n",
            "Epoch 63/600\n",
            "2022/2022 [==============================] - 5s 3ms/step - loss: 0.4414 - val_loss: 0.4427\n",
            "Epoch 64/600\n",
            "2022/2022 [==============================] - 5s 3ms/step - loss: 0.4415 - val_loss: 0.4430\n",
            "Epoch 65/600\n",
            "2022/2022 [==============================] - 6s 3ms/step - loss: 0.4411 - val_loss: 0.4417\n",
            "Epoch 66/600\n",
            "2022/2022 [==============================] - 5s 2ms/step - loss: 0.4415 - val_loss: 0.4431\n",
            "Epoch 67/600\n",
            "2022/2022 [==============================] - 5s 2ms/step - loss: 0.4420 - val_loss: 0.4423\n",
            "Epoch 68/600\n",
            "2022/2022 [==============================] - 6s 3ms/step - loss: 0.4414 - val_loss: 0.4430\n",
            "Epoch 69/600\n",
            "2022/2022 [==============================] - 5s 3ms/step - loss: 0.4414 - val_loss: 0.4427\n",
            "Epoch 70/600\n",
            "2022/2022 [==============================] - 7s 3ms/step - loss: 0.4414 - val_loss: 0.4425\n",
            "Epoch 70: early stopping\n"
          ]
        },
        {
          "data": {
            "text/plain": [
              "<keras.callbacks.History at 0x7f13114ba260>"
            ]
          },
          "execution_count": 115,
          "metadata": {},
          "output_type": "execute_result"
        }
      ],
      "source": [
        "model.fit(x=X_train,\n",
        "          y=y_train,\n",
        "          epochs=600,\n",
        "          validation_data=(X_val, y_val), verbose=1,\n",
        "          callbacks=[early_stop]\n",
        "          )"
      ]
    },
    {
      "cell_type": "code",
      "execution_count": null,
      "metadata": {
        "colab": {
          "base_uri": "https://localhost:8080/",
          "height": 447
        },
        "id": "CiRrl6LUntqr",
        "outputId": "07fbe8ff-d811-4218-c0fd-ec0a848067aa"
      },
      "outputs": [
        {
          "data": {
            "text/plain": [
              "<Axes: >"
            ]
          },
          "execution_count": 116,
          "metadata": {},
          "output_type": "execute_result"
        },
        {
          "data": {
            "image/png": "[encoded data removed]",
            "text/plain": [
              "<Figure size 640x480 with 1 Axes>"
            ]
          },
          "metadata": {},
          "output_type": "display_data"
        }
      ],
      "source": [
        "model_loss = pd.DataFrame(model.history.history)\n",
        "model_loss.plot()"
      ]
    },
    {
      "cell_type": "markdown",
      "metadata": {
        "id": "icxbCgtnp1Ax"
      },
      "source": [
        "More neurons didn't seem to improve the model."
      ]
    },
    {
      "cell_type": "markdown",
      "metadata": {
        "id": "UZiop6IqYicE"
      },
      "source": [
        "# Model evaluation\n",
        "\n",
        "## Submitting your model's predictions\n",
        "\n",
        "Once you're done training your model, use it to make predictions on the test data and then save your predictions as a 'csv' file that you will submit to Canvas.\n",
        "\n",
        "A simple way to achieve this is to turn your prediction array into a DataFrame and then use the 'to_csv' method.\n",
        "\n",
        "```\n",
        "predictions_df = pd.DataFrame(y_pred, columns = ['preds'])\n",
        "predictions_df.to_csv('file_name.csv', index = False)\n",
        "```"
      ]
    },
    {
      "cell_type": "code",
      "execution_count": null,
      "metadata": {
        "id": "bvJOMuGDo2xx"
      },
      "outputs": [],
      "source": [
        "# retrain model on all training data\n",
        "# Dropout layers are added after each linear layer\n",
        "# Usual dropout values range from [0.1 - 0.5]\n",
        "model = Sequential()\n",
        "model.add(Dense(units=30,activation='relu'))\n",
        "model.add(Dropout(0.3))\n",
        "\n",
        "model.add(Dense(units=15,activation='relu'))\n",
        "model.add(Dropout(0.3))\n",
        "\n",
        "model.add(Dense(units=1,activation='sigmoid'))\n",
        "model.compile(loss='binary_crossentropy', optimizer='adam')\n"
      ]
    },
    {
      "cell_type": "code",
      "execution_count": null,
      "metadata": {
        "colab": {
          "base_uri": "https://localhost:8080/"
        },
        "id": "k6YVltkco2vj",
        "outputId": "ca8db0a7-b8d9-450e-9f89-c2354918318d"
      },
      "outputs": [
        {
          "name": "stdout",
          "output_type": "stream",
          "text": [
            "Epoch 1/400\n",
            "2379/2379 [==============================] - 7s 2ms/step - loss: 0.4715\n",
            "Epoch 2/400\n",
            "2379/2379 [==============================] - 7s 3ms/step - loss: 0.4570\n",
            "Epoch 3/400\n",
            "2379/2379 [==============================] - 6s 2ms/step - loss: 0.4545\n",
            "Epoch 4/400\n",
            "2379/2379 [==============================] - 5s 2ms/step - loss: 0.4522\n",
            "Epoch 5/400\n",
            "2379/2379 [==============================] - 6s 3ms/step - loss: 0.4515\n",
            "Epoch 6/400\n",
            "2379/2379 [==============================] - 5s 2ms/step - loss: 0.4498\n",
            "Epoch 7/400\n",
            "2379/2379 [==============================] - 6s 3ms/step - loss: 0.4493\n",
            "Epoch 8/400\n",
            "2379/2379 [==============================] - 5s 2ms/step - loss: 0.4488\n",
            "Epoch 9/400\n",
            "2379/2379 [==============================] - 5s 2ms/step - loss: 0.4487\n",
            "Epoch 10/400\n",
            "2379/2379 [==============================] - 7s 3ms/step - loss: 0.4478\n",
            "Epoch 11/400\n",
            "2379/2379 [==============================] - 5s 2ms/step - loss: 0.4476\n",
            "Epoch 12/400\n",
            "2379/2379 [==============================] - 8s 3ms/step - loss: 0.4477\n",
            "Epoch 13/400\n",
            "2379/2379 [==============================] - 5s 2ms/step - loss: 0.4471\n",
            "Epoch 14/400\n",
            "2379/2379 [==============================] - 5s 2ms/step - loss: 0.4468\n",
            "Epoch 15/400\n",
            "2379/2379 [==============================] - 6s 3ms/step - loss: 0.4469\n",
            "Epoch 16/400\n",
            "2379/2379 [==============================] - 5s 2ms/step - loss: 0.4463\n",
            "Epoch 17/400\n",
            "2379/2379 [==============================] - 6s 3ms/step - loss: 0.4465\n",
            "Epoch 18/400\n",
            "2379/2379 [==============================] - 5s 2ms/step - loss: 0.4465\n",
            "Epoch 19/400\n",
            "2379/2379 [==============================] - 5s 2ms/step - loss: 0.4459\n",
            "Epoch 20/400\n",
            "2379/2379 [==============================] - 7s 3ms/step - loss: 0.4460\n",
            "Epoch 21/400\n",
            "2379/2379 [==============================] - 5s 2ms/step - loss: 0.4459\n",
            "Epoch 22/400\n",
            "2379/2379 [==============================] - 6s 2ms/step - loss: 0.4452\n",
            "Epoch 23/400\n",
            "2379/2379 [==============================] - 6s 3ms/step - loss: 0.4455\n",
            "Epoch 24/400\n",
            "2379/2379 [==============================] - 5s 2ms/step - loss: 0.4450\n",
            "Epoch 25/400\n",
            "2379/2379 [==============================] - 7s 3ms/step - loss: 0.4457\n",
            "Epoch 26/400\n",
            "2379/2379 [==============================] - 5s 2ms/step - loss: 0.4447\n",
            "Epoch 27/400\n",
            "2379/2379 [==============================] - 6s 2ms/step - loss: 0.4451\n",
            "Epoch 28/400\n",
            "2379/2379 [==============================] - 6s 2ms/step - loss: 0.4452\n",
            "Epoch 29/400\n",
            "2379/2379 [==============================] - 5s 2ms/step - loss: 0.4450\n",
            "Epoch 30/400\n",
            "2379/2379 [==============================] - 7s 3ms/step - loss: 0.4450\n",
            "Epoch 31/400\n",
            "2379/2379 [==============================] - 5s 2ms/step - loss: 0.4443\n",
            "Epoch 32/400\n",
            "2379/2379 [==============================] - 6s 3ms/step - loss: 0.4451\n",
            "Epoch 33/400\n",
            "2379/2379 [==============================] - 6s 2ms/step - loss: 0.4448\n",
            "Epoch 34/400\n",
            "2379/2379 [==============================] - 5s 2ms/step - loss: 0.4446\n",
            "Epoch 35/400\n",
            "2379/2379 [==============================] - 7s 3ms/step - loss: 0.4448\n",
            "Epoch 36/400\n",
            "2379/2379 [==============================] - 5s 2ms/step - loss: 0.4449\n",
            "Epoch 37/400\n",
            "2379/2379 [==============================] - 7s 3ms/step - loss: 0.4446\n",
            "Epoch 38/400\n",
            "2379/2379 [==============================] - 5s 2ms/step - loss: 0.4439\n",
            "Epoch 39/400\n",
            "2379/2379 [==============================] - 6s 3ms/step - loss: 0.4444\n",
            "Epoch 40/400\n",
            "2379/2379 [==============================] - 7s 3ms/step - loss: 0.4438\n",
            "Epoch 41/400\n",
            "2379/2379 [==============================] - 6s 3ms/step - loss: 0.4441\n",
            "Epoch 42/400\n",
            "2379/2379 [==============================] - 6s 3ms/step - loss: 0.4434\n",
            "Epoch 43/400\n",
            "2379/2379 [==============================] - 5s 2ms/step - loss: 0.4443\n",
            "Epoch 44/400\n",
            "2379/2379 [==============================] - 7s 3ms/step - loss: 0.4435\n",
            "Epoch 45/400\n",
            "2379/2379 [==============================] - 5s 2ms/step - loss: 0.4438\n",
            "Epoch 46/400\n",
            "2379/2379 [==============================] - 5s 2ms/step - loss: 0.4438\n",
            "Epoch 47/400\n",
            "2379/2379 [==============================] - 6s 3ms/step - loss: 0.4438\n",
            "Epoch 48/400\n",
            "2379/2379 [==============================] - 5s 2ms/step - loss: 0.4436\n",
            "Epoch 49/400\n",
            "2379/2379 [==============================] - 7s 3ms/step - loss: 0.4434\n",
            "Epoch 50/400\n",
            "2379/2379 [==============================] - 5s 2ms/step - loss: 0.4437\n",
            "Epoch 51/400\n",
            "2379/2379 [==============================] - 5s 2ms/step - loss: 0.4436\n",
            "Epoch 52/400\n",
            "2379/2379 [==============================] - 6s 3ms/step - loss: 0.4431\n",
            "Epoch 53/400\n",
            "2379/2379 [==============================] - 5s 2ms/step - loss: 0.4440\n",
            "Epoch 54/400\n",
            "2379/2379 [==============================] - 7s 3ms/step - loss: 0.4438\n",
            "Epoch 55/400\n",
            "2379/2379 [==============================] - 5s 2ms/step - loss: 0.4435\n",
            "Epoch 56/400\n",
            "2379/2379 [==============================] - 5s 2ms/step - loss: 0.4432\n",
            "Epoch 57/400\n",
            "2379/2379 [==============================] - 6s 3ms/step - loss: 0.4436\n",
            "Epoch 58/400\n",
            "2379/2379 [==============================] - 5s 2ms/step - loss: 0.4436\n",
            "Epoch 59/400\n",
            "2379/2379 [==============================] - 6s 2ms/step - loss: 0.4438\n",
            "Epoch 60/400\n",
            "2379/2379 [==============================] - 5s 2ms/step - loss: 0.4433\n",
            "Epoch 61/400\n",
            "2379/2379 [==============================] - 5s 2ms/step - loss: 0.4434\n",
            "Epoch 62/400\n",
            "2379/2379 [==============================] - 7s 3ms/step - loss: 0.4428\n",
            "Epoch 63/400\n",
            "2379/2379 [==============================] - 5s 2ms/step - loss: 0.4431\n",
            "Epoch 64/400\n",
            "2379/2379 [==============================] - 6s 2ms/step - loss: 0.4430\n",
            "Epoch 65/400\n",
            "2379/2379 [==============================] - 6s 2ms/step - loss: 0.4428\n",
            "Epoch 66/400\n",
            "2379/2379 [==============================] - 5s 2ms/step - loss: 0.4433\n",
            "Epoch 67/400\n",
            "2379/2379 [==============================] - 7s 3ms/step - loss: 0.4433\n",
            "Epoch 68/400\n",
            "2379/2379 [==============================] - 5s 2ms/step - loss: 0.4425\n",
            "Epoch 69/400\n",
            "2379/2379 [==============================] - 5s 2ms/step - loss: 0.4431\n",
            "Epoch 70/400\n",
            "2379/2379 [==============================] - 6s 3ms/step - loss: 0.4428\n",
            "Epoch 71/400\n",
            "2379/2379 [==============================] - 5s 2ms/step - loss: 0.4429\n",
            "Epoch 72/400\n",
            "2379/2379 [==============================] - 7s 3ms/step - loss: 0.4430\n",
            "Epoch 73/400\n",
            "2379/2379 [==============================] - 5s 2ms/step - loss: 0.4433\n",
            "Epoch 74/400\n",
            "2379/2379 [==============================] - 5s 2ms/step - loss: 0.4423\n",
            "Epoch 75/400\n",
            "2379/2379 [==============================] - 6s 3ms/step - loss: 0.4422\n",
            "Epoch 76/400\n",
            "2379/2379 [==============================] - 5s 2ms/step - loss: 0.4428\n",
            "Epoch 77/400\n",
            "2379/2379 [==============================] - 6s 3ms/step - loss: 0.4425\n",
            "Epoch 78/400\n",
            "2379/2379 [==============================] - 5s 2ms/step - loss: 0.4426\n",
            "Epoch 79/400\n",
            "2379/2379 [==============================] - 5s 2ms/step - loss: 0.4424\n",
            "Epoch 80/400\n",
            "2379/2379 [==============================] - 7s 3ms/step - loss: 0.4428\n",
            "Epoch 81/400\n",
            "2379/2379 [==============================] - 5s 2ms/step - loss: 0.4431\n",
            "Epoch 82/400\n",
            "2379/2379 [==============================] - 6s 2ms/step - loss: 0.4425\n",
            "Epoch 83/400\n",
            "2379/2379 [==============================] - 6s 2ms/step - loss: 0.4421\n",
            "Epoch 84/400\n",
            "2379/2379 [==============================] - 6s 2ms/step - loss: 0.4429\n",
            "Epoch 85/400\n",
            "2379/2379 [==============================] - 7s 3ms/step - loss: 0.4421\n",
            "Epoch 86/400\n",
            "2379/2379 [==============================] - 5s 2ms/step - loss: 0.4428\n",
            "Epoch 87/400\n",
            "2379/2379 [==============================] - 6s 2ms/step - loss: 0.4430\n",
            "Epoch 88/400\n",
            "2379/2379 [==============================] - 6s 3ms/step - loss: 0.4432\n",
            "Epoch 89/400\n",
            "2379/2379 [==============================] - 5s 2ms/step - loss: 0.4423\n",
            "Epoch 90/400\n",
            "2379/2379 [==============================] - 7s 3ms/step - loss: 0.4428\n",
            "Epoch 91/400\n",
            "2379/2379 [==============================] - 5s 2ms/step - loss: 0.4423\n",
            "Epoch 92/400\n",
            "2379/2379 [==============================] - 6s 2ms/step - loss: 0.4428\n",
            "Epoch 93/400\n",
            "2379/2379 [==============================] - 6s 3ms/step - loss: 0.4420\n",
            "Epoch 94/400\n",
            "2379/2379 [==============================] - 5s 2ms/step - loss: 0.4433\n",
            "Epoch 95/400\n",
            "2379/2379 [==============================] - 6s 3ms/step - loss: 0.4426\n",
            "Epoch 96/400\n",
            "2379/2379 [==============================] - 5s 2ms/step - loss: 0.4418\n",
            "Epoch 97/400\n",
            "2379/2379 [==============================] - 5s 2ms/step - loss: 0.4428\n",
            "Epoch 98/400\n",
            "2379/2379 [==============================] - 6s 3ms/step - loss: 0.4422\n",
            "Epoch 99/400\n",
            "2379/2379 [==============================] - 5s 2ms/step - loss: 0.4420\n",
            "Epoch 100/400\n",
            "2379/2379 [==============================] - 7s 3ms/step - loss: 0.4424\n",
            "Epoch 101/400\n",
            "2379/2379 [==============================] - 5s 2ms/step - loss: 0.4423\n",
            "Epoch 102/400\n",
            "2379/2379 [==============================] - 5s 2ms/step - loss: 0.4424\n",
            "Epoch 103/400\n",
            "2379/2379 [==============================] - 6s 3ms/step - loss: 0.4415\n",
            "Epoch 104/400\n",
            "2379/2379 [==============================] - 5s 2ms/step - loss: 0.4421\n",
            "Epoch 105/400\n",
            "2379/2379 [==============================] - 7s 3ms/step - loss: 0.4417\n",
            "Epoch 106/400\n",
            "2379/2379 [==============================] - 5s 2ms/step - loss: 0.4414\n",
            "Epoch 107/400\n",
            "2379/2379 [==============================] - 5s 2ms/step - loss: 0.4418\n",
            "Epoch 108/400\n",
            "2379/2379 [==============================] - 6s 3ms/step - loss: 0.4418\n",
            "Epoch 109/400\n",
            "2379/2379 [==============================] - 5s 2ms/step - loss: 0.4417\n",
            "Epoch 110/400\n",
            "2379/2379 [==============================] - 6s 3ms/step - loss: 0.4425\n",
            "Epoch 111/400\n",
            "2379/2379 [==============================] - 5s 2ms/step - loss: 0.4418\n",
            "Epoch 112/400\n",
            "2379/2379 [==============================] - 5s 2ms/step - loss: 0.4419\n",
            "Epoch 113/400\n",
            "2379/2379 [==============================] - 7s 3ms/step - loss: 0.4419\n",
            "Epoch 114/400\n",
            "2379/2379 [==============================] - 5s 2ms/step - loss: 0.4418\n",
            "Epoch 115/400\n",
            "2379/2379 [==============================] - 6s 3ms/step - loss: 0.4414\n",
            "Epoch 116/400\n",
            "2379/2379 [==============================] - 5s 2ms/step - loss: 0.4423\n",
            "Epoch 117/400\n",
            "2379/2379 [==============================] - 5s 2ms/step - loss: 0.4415\n",
            "Epoch 118/400\n",
            "2379/2379 [==============================] - 6s 3ms/step - loss: 0.4421\n",
            "Epoch 119/400\n",
            "2379/2379 [==============================] - 5s 2ms/step - loss: 0.4418\n",
            "Epoch 120/400\n",
            "2379/2379 [==============================] - 6s 3ms/step - loss: 0.4415\n",
            "Epoch 121/400\n",
            "2379/2379 [==============================] - 6s 3ms/step - loss: 0.4416\n",
            "Epoch 122/400\n",
            "2379/2379 [==============================] - 5s 2ms/step - loss: 0.4417\n",
            "Epoch 123/400\n",
            "2379/2379 [==============================] - 7s 3ms/step - loss: 0.4418\n",
            "Epoch 124/400\n",
            "2379/2379 [==============================] - 5s 2ms/step - loss: 0.4415\n",
            "Epoch 125/400\n",
            "2379/2379 [==============================] - 6s 2ms/step - loss: 0.4421\n",
            "Epoch 126/400\n",
            "2379/2379 [==============================] - 6s 3ms/step - loss: 0.4416\n",
            "Epoch 127/400\n",
            "2379/2379 [==============================] - 5s 2ms/step - loss: 0.4411\n",
            "Epoch 128/400\n",
            "2379/2379 [==============================] - 6s 3ms/step - loss: 0.4422\n",
            "Epoch 129/400\n",
            "2379/2379 [==============================] - 5s 2ms/step - loss: 0.4408\n",
            "Epoch 130/400\n",
            "2379/2379 [==============================] - 5s 2ms/step - loss: 0.4418\n",
            "Epoch 131/400\n",
            "2379/2379 [==============================] - 7s 3ms/step - loss: 0.4412\n",
            "Epoch 132/400\n",
            "2379/2379 [==============================] - 5s 2ms/step - loss: 0.4416\n",
            "Epoch 133/400\n",
            "2379/2379 [==============================] - 6s 3ms/step - loss: 0.4421\n",
            "Epoch 134/400\n",
            "2379/2379 [==============================] - 5s 2ms/step - loss: 0.4419\n",
            "Epoch 135/400\n",
            "2379/2379 [==============================] - 5s 2ms/step - loss: 0.4411\n",
            "Epoch 136/400\n",
            "2379/2379 [==============================] - 6s 3ms/step - loss: 0.4416\n",
            "Epoch 137/400\n",
            "2379/2379 [==============================] - 5s 2ms/step - loss: 0.4420\n",
            "Epoch 138/400\n",
            "2379/2379 [==============================] - 6s 2ms/step - loss: 0.4413\n",
            "Epoch 139/400\n",
            "2379/2379 [==============================] - 6s 2ms/step - loss: 0.4416\n",
            "Epoch 140/400\n",
            "2379/2379 [==============================] - 5s 2ms/step - loss: 0.4411\n",
            "Epoch 141/400\n",
            "2379/2379 [==============================] - 7s 3ms/step - loss: 0.4423\n",
            "Epoch 142/400\n",
            "2379/2379 [==============================] - 5s 2ms/step - loss: 0.4415\n",
            "Epoch 143/400\n",
            "2379/2379 [==============================] - 5s 2ms/step - loss: 0.4416\n",
            "Epoch 144/400\n",
            "2379/2379 [==============================] - 6s 3ms/step - loss: 0.4423\n",
            "Epoch 145/400\n",
            "2379/2379 [==============================] - 5s 2ms/step - loss: 0.4417\n",
            "Epoch 146/400\n",
            "2379/2379 [==============================] - 6s 3ms/step - loss: 0.4413\n",
            "Epoch 147/400\n",
            "2379/2379 [==============================] - 5s 2ms/step - loss: 0.4413\n",
            "Epoch 148/400\n",
            "2379/2379 [==============================] - 5s 2ms/step - loss: 0.4412\n",
            "Epoch 149/400\n",
            "2379/2379 [==============================] - 6s 3ms/step - loss: 0.4414\n",
            "Epoch 150/400\n",
            "2379/2379 [==============================] - 5s 2ms/step - loss: 0.4410\n",
            "Epoch 151/400\n",
            "2379/2379 [==============================] - 6s 2ms/step - loss: 0.4409\n",
            "Epoch 152/400\n",
            "2379/2379 [==============================] - 6s 2ms/step - loss: 0.4417\n",
            "Epoch 153/400\n",
            "2379/2379 [==============================] - 5s 2ms/step - loss: 0.4412\n",
            "Epoch 154/400\n",
            "2379/2379 [==============================] - 7s 3ms/step - loss: 0.4412\n",
            "Epoch 155/400\n",
            "2379/2379 [==============================] - 5s 2ms/step - loss: 0.4411\n",
            "Epoch 156/400\n",
            "2379/2379 [==============================] - 5s 2ms/step - loss: 0.4412\n",
            "Epoch 157/400\n",
            "2379/2379 [==============================] - 6s 3ms/step - loss: 0.4413\n",
            "Epoch 158/400\n",
            "2379/2379 [==============================] - 5s 2ms/step - loss: 0.4411\n",
            "Epoch 159/400\n",
            "2379/2379 [==============================] - 7s 3ms/step - loss: 0.4416\n",
            "Epoch 160/400\n",
            "2379/2379 [==============================] - 5s 2ms/step - loss: 0.4415\n",
            "Epoch 161/400\n",
            "2379/2379 [==============================] - 5s 2ms/step - loss: 0.4415\n",
            "Epoch 162/400\n",
            "2379/2379 [==============================] - 7s 3ms/step - loss: 0.4413\n",
            "Epoch 163/400\n",
            "2379/2379 [==============================] - 6s 3ms/step - loss: 0.4413\n",
            "Epoch 164/400\n",
            "2379/2379 [==============================] - 7s 3ms/step - loss: 0.4407\n",
            "Epoch 165/400\n",
            "2379/2379 [==============================] - 5s 2ms/step - loss: 0.4405\n",
            "Epoch 166/400\n",
            "2379/2379 [==============================] - 7s 3ms/step - loss: 0.4413\n",
            "Epoch 167/400\n",
            "2379/2379 [==============================] - 5s 2ms/step - loss: 0.4417\n",
            "Epoch 168/400\n",
            "2379/2379 [==============================] - 5s 2ms/step - loss: 0.4413\n",
            "Epoch 169/400\n",
            "2379/2379 [==============================] - 7s 3ms/step - loss: 0.4411\n",
            "Epoch 170/400\n",
            "2379/2379 [==============================] - 5s 2ms/step - loss: 0.4411\n",
            "Epoch 171/400\n",
            "2379/2379 [==============================] - 6s 3ms/step - loss: 0.4411\n",
            "Epoch 172/400\n",
            "2379/2379 [==============================] - 5s 2ms/step - loss: 0.4412\n",
            "Epoch 173/400\n",
            "2379/2379 [==============================] - 5s 2ms/step - loss: 0.4406\n",
            "Epoch 174/400\n",
            "2379/2379 [==============================] - 7s 3ms/step - loss: 0.4419\n",
            "Epoch 175/400\n",
            "2379/2379 [==============================] - 5s 2ms/step - loss: 0.4407\n",
            "Epoch 176/400\n",
            "2379/2379 [==============================] - 5s 2ms/step - loss: 0.4409\n",
            "Epoch 177/400\n",
            "2379/2379 [==============================] - 6s 3ms/step - loss: 0.4414\n",
            "Epoch 178/400\n",
            "2379/2379 [==============================] - 5s 2ms/step - loss: 0.4408\n",
            "Epoch 179/400\n",
            "2379/2379 [==============================] - 6s 2ms/step - loss: 0.4407\n",
            "Epoch 180/400\n",
            "2379/2379 [==============================] - 5s 2ms/step - loss: 0.4414\n",
            "Epoch 181/400\n",
            "2379/2379 [==============================] - 5s 2ms/step - loss: 0.4413\n",
            "Epoch 182/400\n",
            "2379/2379 [==============================] - 7s 3ms/step - loss: 0.4406\n",
            "Epoch 183/400\n",
            "2379/2379 [==============================] - 5s 2ms/step - loss: 0.4418\n",
            "Epoch 184/400\n",
            "2379/2379 [==============================] - 6s 2ms/step - loss: 0.4408\n",
            "Epoch 185/400\n",
            "2379/2379 [==============================] - 6s 3ms/step - loss: 0.4406\n",
            "Epoch 186/400\n",
            "2379/2379 [==============================] - 5s 2ms/step - loss: 0.4406\n",
            "Epoch 187/400\n",
            "2379/2379 [==============================] - 7s 3ms/step - loss: 0.4406\n",
            "Epoch 188/400\n",
            "2379/2379 [==============================] - 5s 2ms/step - loss: 0.4408\n",
            "Epoch 189/400\n",
            "2379/2379 [==============================] - 5s 2ms/step - loss: 0.4411\n",
            "Epoch 190/400\n",
            "2379/2379 [==============================] - 6s 3ms/step - loss: 0.4420\n",
            "Epoch 191/400\n",
            "2379/2379 [==============================] - 5s 2ms/step - loss: 0.4408\n",
            "Epoch 192/400\n",
            "2379/2379 [==============================] - 6s 3ms/step - loss: 0.4412\n",
            "Epoch 193/400\n",
            "2379/2379 [==============================] - 5s 2ms/step - loss: 0.4410\n",
            "Epoch 194/400\n",
            "2379/2379 [==============================] - 5s 2ms/step - loss: 0.4407\n",
            "Epoch 195/400\n",
            "2379/2379 [==============================] - 7s 3ms/step - loss: 0.4408\n",
            "Epoch 196/400\n",
            "2379/2379 [==============================] - 5s 2ms/step - loss: 0.4415\n",
            "Epoch 197/400\n",
            "2379/2379 [==============================] - 6s 3ms/step - loss: 0.4409\n",
            "Epoch 198/400\n",
            "2379/2379 [==============================] - 5s 2ms/step - loss: 0.4412\n",
            "Epoch 199/400\n",
            "2379/2379 [==============================] - 5s 2ms/step - loss: 0.4408\n",
            "Epoch 200/400\n",
            "2379/2379 [==============================] - 7s 3ms/step - loss: 0.4407\n",
            "Epoch 201/400\n",
            "2379/2379 [==============================] - 5s 2ms/step - loss: 0.4408\n",
            "Epoch 202/400\n",
            "2379/2379 [==============================] - 6s 3ms/step - loss: 0.4404\n",
            "Epoch 203/400\n",
            "2379/2379 [==============================] - 5s 2ms/step - loss: 0.4407\n",
            "Epoch 204/400\n",
            "2379/2379 [==============================] - 5s 2ms/step - loss: 0.4410\n",
            "Epoch 205/400\n",
            "2379/2379 [==============================] - 6s 3ms/step - loss: 0.4409\n",
            "Epoch 206/400\n",
            "2379/2379 [==============================] - 5s 2ms/step - loss: 0.4407\n",
            "Epoch 207/400\n",
            "2379/2379 [==============================] - 6s 2ms/step - loss: 0.4409\n",
            "Epoch 208/400\n",
            "2379/2379 [==============================] - 6s 2ms/step - loss: 0.4412\n",
            "Epoch 209/400\n",
            "2379/2379 [==============================] - 5s 2ms/step - loss: 0.4415\n",
            "Epoch 210/400\n",
            "2379/2379 [==============================] - 7s 3ms/step - loss: 0.4407\n",
            "Epoch 211/400\n",
            "2379/2379 [==============================] - 6s 2ms/step - loss: 0.4409\n",
            "Epoch 212/400\n",
            "2379/2379 [==============================] - 6s 3ms/step - loss: 0.4404\n",
            "Epoch 213/400\n",
            "2379/2379 [==============================] - 6s 2ms/step - loss: 0.4406\n",
            "Epoch 214/400\n",
            "2379/2379 [==============================] - 5s 2ms/step - loss: 0.4408\n",
            "Epoch 215/400\n",
            "2379/2379 [==============================] - 7s 3ms/step - loss: 0.4412\n",
            "Epoch 216/400\n",
            "2379/2379 [==============================] - 5s 2ms/step - loss: 0.4399\n",
            "Epoch 217/400\n",
            "2379/2379 [==============================] - 6s 2ms/step - loss: 0.4408\n",
            "Epoch 218/400\n",
            "2379/2379 [==============================] - 6s 2ms/step - loss: 0.4408\n",
            "Epoch 219/400\n",
            "2379/2379 [==============================] - 5s 2ms/step - loss: 0.4415\n",
            "Epoch 220/400\n",
            "2379/2379 [==============================] - 7s 3ms/step - loss: 0.4403\n",
            "Epoch 221/400\n",
            "2379/2379 [==============================] - 5s 2ms/step - loss: 0.4412\n",
            "Epoch 222/400\n",
            "2379/2379 [==============================] - 6s 2ms/step - loss: 0.4413\n",
            "Epoch 223/400\n",
            "2379/2379 [==============================] - 6s 3ms/step - loss: 0.4405\n",
            "Epoch 224/400\n",
            "2379/2379 [==============================] - 5s 2ms/step - loss: 0.4406\n",
            "Epoch 225/400\n",
            "2379/2379 [==============================] - 7s 3ms/step - loss: 0.4407\n",
            "Epoch 226/400\n",
            "2379/2379 [==============================] - 5s 2ms/step - loss: 0.4408\n",
            "Epoch 227/400\n",
            "2379/2379 [==============================] - 6s 2ms/step - loss: 0.4409\n",
            "Epoch 228/400\n",
            "2379/2379 [==============================] - 6s 3ms/step - loss: 0.4409\n",
            "Epoch 229/400\n",
            "2379/2379 [==============================] - 5s 2ms/step - loss: 0.4408\n",
            "Epoch 230/400\n",
            "2379/2379 [==============================] - 7s 3ms/step - loss: 0.4412\n",
            "Epoch 231/400\n",
            "2379/2379 [==============================] - 5s 2ms/step - loss: 0.4406\n",
            "Epoch 232/400\n",
            "2379/2379 [==============================] - 6s 2ms/step - loss: 0.4410\n",
            "Epoch 233/400\n",
            "2379/2379 [==============================] - 6s 3ms/step - loss: 0.4404\n",
            "Epoch 234/400\n",
            "2379/2379 [==============================] - 5s 2ms/step - loss: 0.4415\n",
            "Epoch 235/400\n",
            "2379/2379 [==============================] - 6s 2ms/step - loss: 0.4412\n",
            "Epoch 236/400\n",
            "2379/2379 [==============================] - 5s 2ms/step - loss: 0.4401\n",
            "Epoch 237/400\n",
            "2379/2379 [==============================] - 5s 2ms/step - loss: 0.4410\n",
            "Epoch 238/400\n",
            "2379/2379 [==============================] - 6s 3ms/step - loss: 0.4409\n",
            "Epoch 239/400\n",
            "2379/2379 [==============================] - 5s 2ms/step - loss: 0.4408\n",
            "Epoch 240/400\n",
            "2379/2379 [==============================] - 5s 2ms/step - loss: 0.4406\n",
            "Epoch 241/400\n",
            "2379/2379 [==============================] - 6s 3ms/step - loss: 0.4404\n",
            "Epoch 242/400\n",
            "2379/2379 [==============================] - 5s 2ms/step - loss: 0.4400\n",
            "Epoch 243/400\n",
            "2379/2379 [==============================] - 7s 3ms/step - loss: 0.4407\n",
            "Epoch 244/400\n",
            "2379/2379 [==============================] - 5s 2ms/step - loss: 0.4405\n",
            "Epoch 245/400\n",
            "2379/2379 [==============================] - 6s 2ms/step - loss: 0.4408\n",
            "Epoch 246/400\n",
            "2379/2379 [==============================] - 7s 3ms/step - loss: 0.4405\n",
            "Epoch 247/400\n",
            "2379/2379 [==============================] - 5s 2ms/step - loss: 0.4405\n",
            "Epoch 248/400\n",
            "2379/2379 [==============================] - 7s 3ms/step - loss: 0.4402\n",
            "Epoch 249/400\n",
            "2379/2379 [==============================] - 5s 2ms/step - loss: 0.4409\n",
            "Epoch 250/400\n",
            "2379/2379 [==============================] - 6s 2ms/step - loss: 0.4407\n",
            "Epoch 251/400\n",
            "2379/2379 [==============================] - 6s 2ms/step - loss: 0.4407\n",
            "Epoch 252/400\n",
            "2379/2379 [==============================] - 5s 2ms/step - loss: 0.4413\n",
            "Epoch 253/400\n",
            "2379/2379 [==============================] - 6s 3ms/step - loss: 0.4408\n",
            "Epoch 254/400\n",
            "2379/2379 [==============================] - 5s 2ms/step - loss: 0.4394\n",
            "Epoch 255/400\n",
            "2379/2379 [==============================] - 5s 2ms/step - loss: 0.4402\n",
            "Epoch 256/400\n",
            "2379/2379 [==============================] - 6s 3ms/step - loss: 0.4405\n",
            "Epoch 257/400\n",
            "2379/2379 [==============================] - 5s 2ms/step - loss: 0.4400\n",
            "Epoch 258/400\n",
            "2379/2379 [==============================] - 6s 3ms/step - loss: 0.4408\n",
            "Epoch 259/400\n",
            "2379/2379 [==============================] - 6s 2ms/step - loss: 0.4410\n",
            "Epoch 260/400\n",
            "2379/2379 [==============================] - 5s 2ms/step - loss: 0.4412\n",
            "Epoch 261/400\n",
            "2379/2379 [==============================] - 7s 3ms/step - loss: 0.4407\n",
            "Epoch 262/400\n",
            "2379/2379 [==============================] - 5s 2ms/step - loss: 0.4404\n",
            "Epoch 263/400\n",
            "2379/2379 [==============================] - 7s 3ms/step - loss: 0.4403\n",
            "Epoch 264/400\n",
            "2379/2379 [==============================] - 5s 2ms/step - loss: 0.4405\n",
            "Epoch 265/400\n",
            "2379/2379 [==============================] - 5s 2ms/step - loss: 0.4404\n",
            "Epoch 266/400\n",
            "2379/2379 [==============================] - 7s 3ms/step - loss: 0.4403\n",
            "Epoch 267/400\n",
            "2379/2379 [==============================] - 5s 2ms/step - loss: 0.4405\n",
            "Epoch 268/400\n",
            "2379/2379 [==============================] - 7s 3ms/step - loss: 0.4402\n",
            "Epoch 269/400\n",
            "2379/2379 [==============================] - 5s 2ms/step - loss: 0.4403\n",
            "Epoch 270/400\n",
            "2379/2379 [==============================] - 5s 2ms/step - loss: 0.4406\n",
            "Epoch 271/400\n",
            "2379/2379 [==============================] - 7s 3ms/step - loss: 0.4407\n",
            "Epoch 272/400\n",
            "2379/2379 [==============================] - 5s 2ms/step - loss: 0.4410\n",
            "Epoch 273/400\n",
            "2379/2379 [==============================] - 6s 2ms/step - loss: 0.4404\n",
            "Epoch 274/400\n",
            "2379/2379 [==============================] - 6s 2ms/step - loss: 0.4403\n",
            "Epoch 275/400\n",
            "2379/2379 [==============================] - 5s 2ms/step - loss: 0.4411\n",
            "Epoch 276/400\n",
            "2379/2379 [==============================] - 7s 3ms/step - loss: 0.4406\n",
            "Epoch 277/400\n",
            "2379/2379 [==============================] - 5s 2ms/step - loss: 0.4399\n",
            "Epoch 278/400\n",
            "2379/2379 [==============================] - 6s 2ms/step - loss: 0.4397\n",
            "Epoch 279/400\n",
            "2379/2379 [==============================] - 6s 3ms/step - loss: 0.4404\n",
            "Epoch 280/400\n",
            "2379/2379 [==============================] - 5s 2ms/step - loss: 0.4402\n",
            "Epoch 281/400\n",
            "2379/2379 [==============================] - 7s 3ms/step - loss: 0.4403\n",
            "Epoch 282/400\n",
            "2379/2379 [==============================] - 5s 2ms/step - loss: 0.4400\n",
            "Epoch 283/400\n",
            "2379/2379 [==============================] - 6s 3ms/step - loss: 0.4398\n",
            "Epoch 284/400\n",
            "2379/2379 [==============================] - 6s 2ms/step - loss: 0.4400\n",
            "Epoch 285/400\n",
            "2379/2379 [==============================] - 5s 2ms/step - loss: 0.4402\n",
            "Epoch 286/400\n",
            "2379/2379 [==============================] - 7s 3ms/step - loss: 0.4395\n",
            "Epoch 287/400\n",
            "2379/2379 [==============================] - 5s 2ms/step - loss: 0.4398\n",
            "Epoch 288/400\n",
            "2379/2379 [==============================] - 6s 2ms/step - loss: 0.4395\n",
            "Epoch 289/400\n",
            "2379/2379 [==============================] - 6s 2ms/step - loss: 0.4399\n",
            "Epoch 290/400\n",
            "2379/2379 [==============================] - 5s 2ms/step - loss: 0.4396\n",
            "Epoch 291/400\n",
            "2379/2379 [==============================] - 7s 3ms/step - loss: 0.4397\n",
            "Epoch 292/400\n",
            "2379/2379 [==============================] - 5s 2ms/step - loss: 0.4403\n",
            "Epoch 293/400\n",
            "2379/2379 [==============================] - 5s 2ms/step - loss: 0.4394\n",
            "Epoch 294/400\n",
            "2379/2379 [==============================] - 6s 3ms/step - loss: 0.4394\n",
            "Epoch 295/400\n",
            "2379/2379 [==============================] - 5s 2ms/step - loss: 0.4400\n",
            "Epoch 296/400\n",
            "2379/2379 [==============================] - 6s 3ms/step - loss: 0.4399\n",
            "Epoch 297/400\n",
            "2379/2379 [==============================] - 6s 2ms/step - loss: 0.4402\n",
            "Epoch 298/400\n",
            "2379/2379 [==============================] - 5s 2ms/step - loss: 0.4404\n",
            "Epoch 299/400\n",
            "2379/2379 [==============================] - 7s 3ms/step - loss: 0.4406\n",
            "Epoch 300/400\n",
            "2379/2379 [==============================] - 5s 2ms/step - loss: 0.4393\n",
            "Epoch 301/400\n",
            "2379/2379 [==============================] - 7s 3ms/step - loss: 0.4396\n",
            "Epoch 302/400\n",
            "2379/2379 [==============================] - 5s 2ms/step - loss: 0.4395\n",
            "Epoch 303/400\n",
            "2379/2379 [==============================] - 5s 2ms/step - loss: 0.4395\n",
            "Epoch 304/400\n",
            "2379/2379 [==============================] - 7s 3ms/step - loss: 0.4396\n",
            "Epoch 305/400\n",
            "2379/2379 [==============================] - 5s 2ms/step - loss: 0.4397\n",
            "Epoch 306/400\n",
            "2379/2379 [==============================] - 7s 3ms/step - loss: 0.4398\n",
            "Epoch 307/400\n",
            "2379/2379 [==============================] - 5s 2ms/step - loss: 0.4396\n",
            "Epoch 308/400\n",
            "2379/2379 [==============================] - 6s 2ms/step - loss: 0.4404\n",
            "Epoch 309/400\n",
            "2379/2379 [==============================] - 6s 3ms/step - loss: 0.4399\n",
            "Epoch 310/400\n",
            "2379/2379 [==============================] - 5s 2ms/step - loss: 0.4402\n",
            "Epoch 311/400\n",
            "2379/2379 [==============================] - 7s 3ms/step - loss: 0.4400\n",
            "Epoch 312/400\n",
            "2379/2379 [==============================] - 5s 2ms/step - loss: 0.4403\n",
            "Epoch 313/400\n",
            "2379/2379 [==============================] - 6s 3ms/step - loss: 0.4398\n",
            "Epoch 314/400\n",
            "2379/2379 [==============================] - 6s 3ms/step - loss: 0.4398\n",
            "Epoch 315/400\n",
            "2379/2379 [==============================] - 6s 2ms/step - loss: 0.4403\n",
            "Epoch 316/400\n",
            "2379/2379 [==============================] - 7s 3ms/step - loss: 0.4395\n",
            "Epoch 317/400\n",
            "2379/2379 [==============================] - 5s 2ms/step - loss: 0.4407\n",
            "Epoch 318/400\n",
            "2379/2379 [==============================] - 6s 3ms/step - loss: 0.4399\n",
            "Epoch 319/400\n",
            "2379/2379 [==============================] - 5s 2ms/step - loss: 0.4398\n",
            "Epoch 320/400\n",
            "2379/2379 [==============================] - 5s 2ms/step - loss: 0.4391\n",
            "Epoch 321/400\n",
            "2379/2379 [==============================] - 7s 3ms/step - loss: 0.4402\n",
            "Epoch 322/400\n",
            "2379/2379 [==============================] - 5s 2ms/step - loss: 0.4403\n",
            "Epoch 323/400\n",
            "2379/2379 [==============================] - 6s 2ms/step - loss: 0.4406\n",
            "Epoch 324/400\n",
            "2379/2379 [==============================] - 6s 2ms/step - loss: 0.4397\n",
            "Epoch 325/400\n",
            "2379/2379 [==============================] - 5s 2ms/step - loss: 0.4400\n",
            "Epoch 326/400\n",
            "2379/2379 [==============================] - 7s 3ms/step - loss: 0.4400\n",
            "Epoch 327/400\n",
            "2379/2379 [==============================] - 5s 2ms/step - loss: 0.4403\n",
            "Epoch 328/400\n",
            "2379/2379 [==============================] - 6s 2ms/step - loss: 0.4402\n",
            "Epoch 329/400\n",
            "2379/2379 [==============================] - 6s 3ms/step - loss: 0.4395\n",
            "Epoch 330/400\n",
            "2379/2379 [==============================] - 5s 2ms/step - loss: 0.4395\n",
            "Epoch 331/400\n",
            "2379/2379 [==============================] - 7s 3ms/step - loss: 0.4399\n",
            "Epoch 332/400\n",
            "2379/2379 [==============================] - 5s 2ms/step - loss: 0.4390\n",
            "Epoch 333/400\n",
            "2379/2379 [==============================] - 6s 3ms/step - loss: 0.4396\n",
            "Epoch 334/400\n",
            "2379/2379 [==============================] - 6s 2ms/step - loss: 0.4389\n",
            "Epoch 335/400\n",
            "2379/2379 [==============================] - 5s 2ms/step - loss: 0.4396\n",
            "Epoch 336/400\n",
            "2379/2379 [==============================] - 7s 3ms/step - loss: 0.4394\n",
            "Epoch 337/400\n",
            "2379/2379 [==============================] - 5s 2ms/step - loss: 0.4395\n",
            "Epoch 338/400\n",
            "2379/2379 [==============================] - 7s 3ms/step - loss: 0.4397\n",
            "Epoch 339/400\n",
            "2379/2379 [==============================] - 6s 2ms/step - loss: 0.4393\n",
            "Epoch 340/400\n",
            "2379/2379 [==============================] - 5s 2ms/step - loss: 0.4394\n",
            "Epoch 341/400\n",
            "2379/2379 [==============================] - 7s 3ms/step - loss: 0.4402\n",
            "Epoch 342/400\n",
            "2379/2379 [==============================] - 5s 2ms/step - loss: 0.4394\n",
            "Epoch 343/400\n",
            "2379/2379 [==============================] - 6s 2ms/step - loss: 0.4400\n",
            "Epoch 344/400\n",
            "2379/2379 [==============================] - 6s 2ms/step - loss: 0.4386\n",
            "Epoch 345/400\n",
            "2379/2379 [==============================] - 5s 2ms/step - loss: 0.4397\n",
            "Epoch 346/400\n",
            "2379/2379 [==============================] - 7s 3ms/step - loss: 0.4398\n",
            "Epoch 347/400\n",
            "2379/2379 [==============================] - 5s 2ms/step - loss: 0.4400\n",
            "Epoch 348/400\n",
            "2379/2379 [==============================] - 6s 3ms/step - loss: 0.4401\n",
            "Epoch 349/400\n",
            "2379/2379 [==============================] - 6s 3ms/step - loss: 0.4397\n",
            "Epoch 350/400\n",
            "2379/2379 [==============================] - 6s 2ms/step - loss: 0.4395\n",
            "Epoch 351/400\n",
            "2379/2379 [==============================] - 7s 3ms/step - loss: 0.4406\n",
            "Epoch 352/400\n",
            "2379/2379 [==============================] - 5s 2ms/step - loss: 0.4401\n",
            "Epoch 353/400\n",
            "2379/2379 [==============================] - 6s 3ms/step - loss: 0.4392\n",
            "Epoch 354/400\n",
            "2379/2379 [==============================] - 5s 2ms/step - loss: 0.4403\n",
            "Epoch 355/400\n",
            "2379/2379 [==============================] - 5s 2ms/step - loss: 0.4397\n",
            "Epoch 356/400\n",
            "2379/2379 [==============================] - 7s 3ms/step - loss: 0.4398\n",
            "Epoch 357/400\n",
            "2379/2379 [==============================] - 5s 2ms/step - loss: 0.4396\n",
            "Epoch 358/400\n",
            "2379/2379 [==============================] - 7s 3ms/step - loss: 0.4400\n",
            "Epoch 359/400\n",
            "2379/2379 [==============================] - 5s 2ms/step - loss: 0.4389\n",
            "Epoch 360/400\n",
            "2379/2379 [==============================] - 5s 2ms/step - loss: 0.4399\n",
            "Epoch 361/400\n",
            "2379/2379 [==============================] - 7s 3ms/step - loss: 0.4400\n",
            "Epoch 362/400\n",
            "2379/2379 [==============================] - 5s 2ms/step - loss: 0.4397\n",
            "Epoch 363/400\n",
            "2379/2379 [==============================] - 6s 3ms/step - loss: 0.4390\n",
            "Epoch 364/400\n",
            "2379/2379 [==============================] - 5s 2ms/step - loss: 0.4393\n",
            "Epoch 365/400\n",
            "2379/2379 [==============================] - 5s 2ms/step - loss: 0.4396\n",
            "Epoch 366/400\n",
            "2379/2379 [==============================] - 6s 3ms/step - loss: 0.4400\n",
            "Epoch 367/400\n",
            "2379/2379 [==============================] - 5s 2ms/step - loss: 0.4393\n",
            "Epoch 368/400\n",
            "2379/2379 [==============================] - 5s 2ms/step - loss: 0.4397\n",
            "Epoch 369/400\n",
            "2379/2379 [==============================] - 7s 3ms/step - loss: 0.4396\n",
            "Epoch 370/400\n",
            "2379/2379 [==============================] - 5s 2ms/step - loss: 0.4393\n",
            "Epoch 371/400\n",
            "2379/2379 [==============================] - 6s 3ms/step - loss: 0.4396\n",
            "Epoch 372/400\n",
            "2379/2379 [==============================] - 6s 2ms/step - loss: 0.4393\n",
            "Epoch 373/400\n",
            "2379/2379 [==============================] - 5s 2ms/step - loss: 0.4391\n",
            "Epoch 374/400\n",
            "2379/2379 [==============================] - 7s 3ms/step - loss: 0.4400\n",
            "Epoch 375/400\n",
            "2379/2379 [==============================] - 5s 2ms/step - loss: 0.4400\n",
            "Epoch 376/400\n",
            "2379/2379 [==============================] - 6s 3ms/step - loss: 0.4394\n",
            "Epoch 377/400\n",
            "2379/2379 [==============================] - 6s 3ms/step - loss: 0.4395\n",
            "Epoch 378/400\n",
            "2379/2379 [==============================] - 5s 2ms/step - loss: 0.4396\n",
            "Epoch 379/400\n",
            "2379/2379 [==============================] - 7s 3ms/step - loss: 0.4389\n",
            "Epoch 380/400\n",
            "2379/2379 [==============================] - 5s 2ms/step - loss: 0.4399\n",
            "Epoch 381/400\n",
            "2379/2379 [==============================] - 6s 2ms/step - loss: 0.4390\n",
            "Epoch 382/400\n",
            "2379/2379 [==============================] - 6s 3ms/step - loss: 0.4396\n",
            "Epoch 383/400\n",
            "2379/2379 [==============================] - 5s 2ms/step - loss: 0.4400\n",
            "Epoch 384/400\n",
            "2379/2379 [==============================] - 7s 3ms/step - loss: 0.4391\n",
            "Epoch 385/400\n",
            "2379/2379 [==============================] - 5s 2ms/step - loss: 0.4392\n",
            "Epoch 386/400\n",
            "2379/2379 [==============================] - 6s 2ms/step - loss: 0.4390\n",
            "Epoch 387/400\n",
            "2379/2379 [==============================] - 6s 3ms/step - loss: 0.4398\n",
            "Epoch 388/400\n",
            "2379/2379 [==============================] - 5s 2ms/step - loss: 0.4394\n",
            "Epoch 389/400\n",
            "2379/2379 [==============================] - 7s 3ms/step - loss: 0.4398\n",
            "Epoch 390/400\n",
            "2379/2379 [==============================] - 5s 2ms/step - loss: 0.4398\n",
            "Epoch 391/400\n",
            "2379/2379 [==============================] - 6s 2ms/step - loss: 0.4395\n",
            "Epoch 392/400\n",
            "2379/2379 [==============================] - 7s 3ms/step - loss: 0.4396\n",
            "Epoch 393/400\n",
            "2379/2379 [==============================] - 5s 2ms/step - loss: 0.4393\n",
            "Epoch 394/400\n",
            "2379/2379 [==============================] - 7s 3ms/step - loss: 0.4399\n",
            "Epoch 395/400\n",
            "2379/2379 [==============================] - 5s 2ms/step - loss: 0.4395\n",
            "Epoch 396/400\n",
            "2379/2379 [==============================] - 6s 3ms/step - loss: 0.4400\n",
            "Epoch 397/400\n",
            "2379/2379 [==============================] - 6s 3ms/step - loss: 0.4391\n",
            "Epoch 398/400\n",
            "2379/2379 [==============================] - 6s 2ms/step - loss: 0.4394\n",
            "Epoch 399/400\n",
            "2379/2379 [==============================] - 6s 3ms/step - loss: 0.4397\n",
            "Epoch 400/400\n",
            "2379/2379 [==============================] - 5s 2ms/step - loss: 0.4399\n"
          ]
        },
        {
          "data": {
            "text/plain": [
              "<keras.callbacks.History at 0x7f1311ccef50>"
            ]
          },
          "execution_count": 44,
          "metadata": {},
          "output_type": "execute_result"
        }
      ],
      "source": [
        "model.fit(x=X_train_full,\n",
        "          y=y_train_full,\n",
        "          epochs=400,\n",
        "          verbose=1\n",
        "          )"
      ]
    },
    {
      "cell_type": "code",
      "execution_count": null,
      "metadata": {
        "colab": {
          "base_uri": "https://localhost:8080/"
        },
        "id": "zA_H-uXkoTOf",
        "outputId": "bac06a1f-f171-4152-c978-076df8bec1f1"
      },
      "outputs": [
        {
          "name": "stdout",
          "output_type": "stream",
          "text": [
            "266/266 [==============================] - 0s 1ms/step\n"
          ]
        }
      ],
      "source": [
        "soft_predictions = model.predict(X_test)"
      ]
    },
    {
      "cell_type": "code",
      "execution_count": null,
      "metadata": {
        "id": "bxX8Z7itoTEm"
      },
      "outputs": [],
      "source": [
        "predictions = np.where(soft_predictions > 0.5, 1,0)"
      ]
    },
    {
      "cell_type": "code",
      "execution_count": null,
      "metadata": {
        "colab": {
          "base_uri": "https://localhost:8080/"
        },
        "id": "su2V9qiDPeev",
        "outputId": "89057e9e-18fe-45fe-b82a-c20705e33409"
      },
      "outputs": [
        {
          "data": {
            "text/plain": [
              "array([[1],\n",
              "       [1],\n",
              "       [1],\n",
              "       ...,\n",
              "       [1],\n",
              "       [1],\n",
              "       [1]])"
            ]
          },
          "execution_count": 56,
          "metadata": {},
          "output_type": "execute_result"
        }
      ],
      "source": [
        "predictions"
      ]
    },
    {
      "cell_type": "code",
      "execution_count": null,
      "metadata": {
        "id": "jq-8rSNge3IS"
      },
      "outputs": [],
      "source": [
        "predictions_df = pd.DataFrame(predictions, columns = ['preds'])\n",
        "predictions_df.to_csv('/content/drive/MyDrive/Rachel-Ferina-HW08-neural_networks.csv', index = False)"
      ]
    }
  ],
  "metadata": {
    "colab": {
      "provenance": [],
      "include_colab_link": true
    },
    "kernelspec": {
      "display_name": "Python 3",
      "name": "python3"
    },
    "language_info": {
      "name": "python"
    }
  },
  "nbformat": 4,
  "nbformat_minor": 0
}