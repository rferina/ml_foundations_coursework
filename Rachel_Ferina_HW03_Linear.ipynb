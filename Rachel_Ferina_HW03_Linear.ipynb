{
  "nbformat": 4,
  "nbformat_minor": 0,
  "metadata": {
    "colab": {
      "provenance": [],
      "include_colab_link": true
    },
    "kernelspec": {
      "name": "python3",
      "display_name": "Python 3"
    },
    "language_info": {
      "name": "python"
    }
  },
  "cells": [
    {
      "cell_type": "markdown",
      "metadata": {
        "id": "view-in-github",
        "colab_type": "text"
      },
      "source": [
        "<a href=\"https://colab.research.google.com/github/rferina/ml_foundations_coursework/blob/main/Rachel_Ferina_HW03_Linear.ipynb\" target=\"_parent\"><img src=\"https://colab.research.google.com/assets/colab-badge.svg\" alt=\"Open In Colab\"/></a>"
      ]
    },
    {
      "cell_type": "markdown",
      "source": [
        "# Assignment 3: Linear Regression\n",
        "\n",
        "During this week's lab we leveraged sklearn to create several linear regression models.\n",
        "\n",
        "In this assignment, you will code a small program to compute the coefficients for a single-feature regression model -> $y = ax + b$\n",
        "\n",
        "* Create a new class named *MyLinearRegression*\n",
        "  * The constructor won't do much other than instantiating the object.\n",
        "* Code a class method called *fit* that estimates the *a* and *b* coefficients\n",
        "  * Make the coefficients accessible as object attributes *self.a* and *self.b*\n",
        "  * The *fit* method will receive 2 parameters:\n",
        "    1. *data* - The data from the feature to use for regression (pd.Series)\n",
        "    2. *labels* - The ground-truth labels (pd.Series)\n",
        "  * Make *data* and *labels* available as object attributes\n",
        "  * Use the formulas from the analytical solution to estimate *a* and *b*:\n",
        "\n",
        ">>>>>$a = \\frac{n \\sum y_i x_i - \\sum x_i \\sum y_i}{n \\sum x_i^2 - (\\sum x_i)^2}$\n",
        "\n",
        ">>>>>$b = \\frac{\\sum y_i}{n} - a\\frac{\\sum x_i}{n}$\n",
        "\n",
        "* Code the *'_ _str_ _'* method to create a string representation of *MyLinearRegression* objects\n",
        "  * Use the values of the *a* and *b* coefficients if the model has been fitted to data.\n",
        "  * Otherwise, use a message indicating that the object has not been fitted yet.\n",
        "* Code a class method called *predict* that returns the predicted values for an array of inputs\n",
        "  * The method should be publicly accessible and receive 1 parameter:\n",
        "    * *test_data* - A Pandas Series with the input feature values to be used for prediction.\n",
        "  * The method should return a Pandas Series with the predicted values\n",
        "\n",
        "* Code a class method *plot_fit* that visualizes the fitted line against the data used for training.\n",
        "  * Refer to the end of this notebook for examples of the use and results of calling this method."
      ],
      "metadata": {
        "id": "N-_F0uLM0bg5"
      }
    },
    {
      "cell_type": "code",
      "source": [
        "import os\n",
        "from google.colab import drive\n",
        "\n",
        "\n",
        "mount_point = '/content/drive'\n",
        "drive.mount(mount_point)\n",
        "\n",
        "drive_dir = os.path.join(mount_point, \"MyDrive\")\n",
        "drive_dir"
      ],
      "metadata": {
        "colab": {
          "base_uri": "https://localhost:8080/",
          "height": 53
        },
        "id": "hFryCAbudCSa",
        "outputId": "a2d0bf21-b02b-4971-daaf-70d91d4fb780"
      },
      "execution_count": null,
      "outputs": [
        {
          "output_type": "stream",
          "name": "stdout",
          "text": [
            "Mounted at /content/drive\n"
          ]
        },
        {
          "output_type": "execute_result",
          "data": {
            "text/plain": [
              "'/content/drive/MyDrive'"
            ],
            "application/vnd.google.colaboratory.intrinsic+json": {
              "type": "string"
            }
          },
          "metadata": {},
          "execution_count": 1
        }
      ]
    },
    {
      "cell_type": "code",
      "source": [
        "import pandas as pd\n",
        "import numpy as np\n",
        "import seaborn as sns\n",
        "import matplotlib.pyplot as plt\n",
        "from sklearn.model_selection import train_test_split\n",
        "from sklearn.linear_model import LinearRegression\n",
        "from sklearn import metrics"
      ],
      "metadata": {
        "id": "Ka_dxnP2dFGs"
      },
      "execution_count": null,
      "outputs": []
    },
    {
      "cell_type": "code",
      "source": [
        "#REMEMBER THIS MIGHT BE DIFFERENT IN YOUR OWN DRIVE\n",
        "dataset_file = \"real_estate.csv\"\n",
        "housing_df = pd.read_csv(os.path.join(drive_dir, dataset_file))\n",
        "housing_df.columns"
      ],
      "metadata": {
        "colab": {
          "base_uri": "https://localhost:8080/"
        },
        "id": "yDM0ksovcrIo",
        "outputId": "95996a37-05c4-4172-fd28-c7063dddaeb2"
      },
      "execution_count": null,
      "outputs": [
        {
          "output_type": "execute_result",
          "data": {
            "text/plain": [
              "Index(['No', 'X1 transaction date', 'X2 house age',\n",
              "       'X3 distance to the nearest MRT station',\n",
              "       'X4 number of convenience stores', 'X5 latitude', 'X6 longitude',\n",
              "       'Y house price of unit area'],\n",
              "      dtype='object')"
            ]
          },
          "metadata": {},
          "execution_count": 3
        }
      ]
    },
    {
      "cell_type": "code",
      "source": [
        "#Include your code here\n",
        "class MyLinearRegression(object):\n",
        "\n",
        "  def __init__(self):\n",
        "    '''Initiates attribute placeholders.'''\n",
        "\n",
        "    # set attributes to None as placeholders\n",
        "    self.data = None\n",
        "    self.labels = None\n",
        "    self.test_data = None\n",
        "    self.a = None\n",
        "    self.b = None\n",
        "\n",
        "\n",
        "  def fit(self, data, labels):\n",
        "    '''Takes in training data features and labels, returns slope and y-intercept\n",
        "    attributes (analytical solutions).'''\n",
        "\n",
        "    # define attributes\n",
        "    self.data = data\n",
        "    self.labels = labels\n",
        "\n",
        "    # length of the features for use in slope and y-intercept calculations\n",
        "    n = len(self.data)\n",
        "\n",
        "    # calculate the numerator for the slope\n",
        "    a_numerator = n * sum(self.labels * self.data)  - (sum(self.data) * sum(self.labels))\n",
        "\n",
        "    # calculate slope\n",
        "    self.a = a_numerator / ((n * sum(self.data ** 2)) - (sum(self.data)) ** 2)\n",
        "\n",
        "    # calculate the y intercept\n",
        "    self.b = ((sum(self.labels))/n) - (self.a * ((sum(self.data))/n))\n",
        "\n",
        "    return self.a, self.b\n",
        "\n",
        "\n",
        "  def __str__(self):\n",
        "    '''If slope and y-intercept attributes are None, returns warning message.\n",
        "    If slope and y-intercept attributes are not None, returns the coefficients\n",
        "    as a string.'''\n",
        "\n",
        "    # return slope and y intercept if the attributes aren't None\n",
        "    if (self.a != None) & (self.b != None):\n",
        "      return \"LR coefficients a = \" + str(self.a) + \" b = \" + str(self.b)\n",
        "\n",
        "    # if the attributes are None, return a warning message\n",
        "    return \"The object has not been fitted to the training data.\"\n",
        "\n",
        "\n",
        "  def predict(self, test_data):\n",
        "    '''Takes in test data, returns predicted values as a Pandas series.'''\n",
        "\n",
        "    # define attribute\n",
        "    self.test_data = test_data\n",
        "\n",
        "    y_pred = []\n",
        "    # calculate y = ax + b on test data\n",
        "    for value in self.test_data:\n",
        "      y_pred.append((self.a * value)  + self.b)\n",
        "\n",
        "    # convert to Pandas series\n",
        "    return pd.Series(y_pred)\n",
        "\n",
        "\n",
        "  def plot_fit(self):\n",
        "    '''Plots a scatter plot of the training data with a line of best fit.'''\n",
        "\n",
        "    # subplots setup\n",
        "    fig, ax = plt.subplots()\n",
        "\n",
        "    # dataframe for graphing features, labels, and line of best fit\n",
        "    graph_df = pd.DataFrame({'Features': self.data, 'Labels': self.labels, 'Best_Fit_Line': self.b + (self.a * self.data)})\n",
        "\n",
        "    # graph training data scatter plot\n",
        "    graph_df.plot.scatter(ax=ax, x='Features', y='Labels')\n",
        "\n",
        "    # graph line of best fit\n",
        "    graph_df.plot(ax=ax, x='Features', y='Best_Fit_Line', linestyle='dashed', color='red')\n",
        "\n",
        "    # graph setup\n",
        "    plt.title('LR fit')\n",
        "    plt.ylabel('Prediction')\n",
        "    plt.xlabel('Feature')\n",
        "    plt.grid()\n",
        "    plt.show()\n",
        "\n",
        "\n"
      ],
      "metadata": {
        "id": "g6_-60S35Cgq"
      },
      "execution_count": null,
      "outputs": []
    },
    {
      "cell_type": "code",
      "source": [
        "#Separating features and label\n",
        "X = housing_df.drop(\"Y house price of unit area\", axis=1)\n",
        "y = housing_df['Y house price of unit area']\n",
        "\n",
        "# Data split\n",
        "X_train, X_test, y_train, y_test = train_test_split(X, y, test_size = 0.2, random_state=12345)\n",
        "print(f'X train shape = {X_train.shape}')\n",
        "print(f'X test shape = {X_test.shape}')"
      ],
      "metadata": {
        "colab": {
          "base_uri": "https://localhost:8080/"
        },
        "id": "NOhVwebBdc0W",
        "outputId": "e863df7a-3452-45d0-9c93-aa9aa35d63e7"
      },
      "execution_count": null,
      "outputs": [
        {
          "output_type": "stream",
          "name": "stdout",
          "text": [
            "X train shape = (331, 7)\n",
            "X test shape = (83, 7)\n"
          ]
        }
      ]
    },
    {
      "cell_type": "code",
      "source": [
        "my_lr_test = MyLinearRegression()\n",
        "my_lr_test.fit(X_train[\"X5 latitude\"], y_train)\n",
        "print(my_lr_test)\n",
        "\n",
        "y_pred = my_lr_test.predict(X_test[\"X5 latitude\"])\n",
        "\n",
        "#Root Mean Squared Error\n",
        "rmse_test = np.sqrt(metrics.mean_squared_error(y_test, y_pred))\n",
        "print(f\"RMSE = {rmse_test}\")"
      ],
      "metadata": {
        "colab": {
          "base_uri": "https://localhost:8080/"
        },
        "id": "M0UJXmVkvmzM",
        "outputId": "45226012-2b23-4583-cc9d-ffe9d4dc4428"
      },
      "execution_count": null,
      "outputs": [
        {
          "output_type": "stream",
          "name": "stdout",
          "text": [
            "LR coefficients a = 630.5341849002966 b = -15705.662410483375\n",
            "RMSE = 11.845522143919279\n"
          ]
        }
      ]
    },
    {
      "cell_type": "code",
      "source": [
        "# Usage example\n",
        "my_lr = MyLinearRegression()\n",
        "my_lr.fit(X_train[\"X5 latitude\"], y_train)\n",
        "print(my_lr)\n",
        "\n",
        "y_pred = my_lr.predict(X_test[\"X5 latitude\"])\n",
        "#print(y_pred)\n",
        "\n",
        "#Root Mean Squared Error\n",
        "rmse = np.sqrt(metrics.mean_squared_error(y_test, y_pred))\n",
        "print(f\"RMSE = {rmse}\")"
      ],
      "metadata": {
        "colab": {
          "base_uri": "https://localhost:8080/"
        },
        "id": "YJ2lWaTDqOQv",
        "outputId": "1f065bda-a8bc-4403-dd5f-dad2475e7c6b"
      },
      "execution_count": null,
      "outputs": [
        {
          "output_type": "stream",
          "name": "stdout",
          "text": [
            "LR coefficients a = 630.5341849002966 b = -15705.662410483375\n",
            "RMSE = 11.845522143919279\n"
          ]
        }
      ]
    },
    {
      "cell_type": "markdown",
      "source": [
        "Compare the results of your model with the one from Sklearn"
      ],
      "metadata": {
        "id": "nI-QdDhR-yXd"
      }
    },
    {
      "cell_type": "code",
      "source": [
        "from sklearn.linear_model import LinearRegression\n",
        "\n",
        "sklearn_lr = LinearRegression()\n",
        "sklearn_lr.fit(X_train[[\"X5 latitude\"]], y_train) #Notice sklearn expects a DF not a Series as the training feature data\n",
        "print(f\"Sklearn coefficients a = {sklearn_lr.coef_[0]} b = {sklearn_lr.intercept_}\")\n",
        "\n",
        "y_pred = sklearn_lr.predict(X_test[[\"X5 latitude\"]])\n",
        "# print(y_pred)\n",
        "\n",
        "#Root Mean Squared Error\n",
        "sklearn_rmse = np.sqrt(metrics.mean_squared_error(y_test, y_pred))\n",
        "print(f\"RMSE = {sklearn_rmse}\")"
      ],
      "metadata": {
        "colab": {
          "base_uri": "https://localhost:8080/"
        },
        "id": "sQbWrZuIBYfP",
        "outputId": "fed08f92-efac-443f-83b6-2a513b76b44b"
      },
      "execution_count": null,
      "outputs": [
        {
          "output_type": "stream",
          "name": "stdout",
          "text": [
            "Sklearn coefficients a = 630.5341834544749 b = -15705.662374382442\n",
            "RMSE = 11.845522140979554\n"
          ]
        }
      ]
    },
    {
      "cell_type": "markdown",
      "source": [
        "Your results should be very similar to Sklearn's"
      ],
      "metadata": {
        "id": "lH22Av-8C7y2"
      }
    },
    {
      "cell_type": "code",
      "source": [
        "a_diff = abs(my_lr_test.a - sklearn_lr.coef_[0])\n",
        "b_diff = abs(my_lr_test.b - sklearn_lr.intercept_)\n",
        "rmse_diff = abs(rmse_test - sklearn_rmse)\n",
        "print(f\"A diff = {a_diff} B diff = {b_diff} RMSE diff = {rmse_diff}\")"
      ],
      "metadata": {
        "colab": {
          "base_uri": "https://localhost:8080/"
        },
        "id": "vSSPPqU_B8U1",
        "outputId": "7a6fb4a0-3726-4b1c-befe-3c6e626f9c88"
      },
      "execution_count": null,
      "outputs": [
        {
          "output_type": "stream",
          "name": "stdout",
          "text": [
            "A diff = 1.445821681045345e-06 B diff = 3.610093335737474e-05 RMSE diff = 2.9397249079465837e-09\n"
          ]
        }
      ]
    },
    {
      "cell_type": "markdown",
      "source": [
        "The coefficients and RMSE are very similar to Sklearn's; the differences are minute."
      ],
      "metadata": {
        "id": "Dao0deQWJNB5"
      }
    },
    {
      "cell_type": "markdown",
      "source": [
        "Use the *plot_fit* method to show how your model fits the training data"
      ],
      "metadata": {
        "id": "MRDEcJT-Djy0"
      }
    },
    {
      "cell_type": "code",
      "source": [
        "my_lr_test.plot_fit()"
      ],
      "metadata": {
        "colab": {
          "base_uri": "https://localhost:8080/",
          "height": 472
        },
        "id": "KZ1EWqSLmcOl",
        "outputId": "15ea8b48-b356-467b-85e3-0aaa74e55730"
      },
      "execution_count": null,
      "outputs": [
        {
          "output_type": "display_data",
          "data": {
            "text/plain": [
              "<Figure size 640x480 with 1 Axes>"
            ],
            "image/png": "[encoded data removed]"
          },
          "metadata": {}
        }
      ]
    }
  ]
}